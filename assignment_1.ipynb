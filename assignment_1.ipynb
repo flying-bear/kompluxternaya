{
  "nbformat": 4,
  "nbformat_minor": 0,
  "metadata": {
    "kernelspec": {
      "name": "python3",
      "display_name": "Python 3"
    },
    "language_info": {
      "codemirror_mode": {
        "name": "ipython",
        "version": 3
      },
      "file_extension": ".py",
      "mimetype": "text/x-python",
      "name": "python",
      "nbconvert_exporter": "python",
      "pygments_lexer": "ipython3",
      "version": "3.7.1"
    },
    "colab": {
      "name": "assignment_1.ipynb",
      "provenance": [],
      "collapsed_sections": [],
      "include_colab_link": true
    },
    "accelerator": "GPU"
  },
  "cells": [
    {
      "cell_type": "markdown",
      "metadata": {
        "id": "view-in-github",
        "colab_type": "text"
      },
      "source": [
        "<a href=\"https://colab.research.google.com/github/flying-bear/kompluxternaya/blob/master/assignment_1.ipynb\" target=\"_parent\"><img src=\"https://colab.research.google.com/assets/colab-badge.svg\" alt=\"Open In Colab\"/></a>"
      ]
    },
    {
      "cell_type": "markdown",
      "metadata": {
        "id": "uSsqcR7Tb9DB",
        "colab_type": "text"
      },
      "source": [
        "\n",
        "# Assignment 1\n",
        "\n",
        "Using text http://www.gutenberg.org/files/2600/2600-0.txt\n",
        "1. Make text lowercase and remove all punctuation except spaces and dots.\n",
        "2. Tokenize text by BPE with vocab_size = 100\n",
        "3. Train 3-gram language model with laplace smoothing $\\delta=1$\n",
        "4. Using beam search with k=10 generate sequences of length=10 conditioned on provided inputs. Treat dots as terminal tokens.\n",
        "5. Calculate perplexity of the language model for the first sentence."
      ]
    },
    {
      "cell_type": "code",
      "metadata": {
        "id": "e1v5OMqAKhAq",
        "colab_type": "code",
        "colab": {}
      },
      "source": [
        "import nltk\n",
        "import numpy as np\n",
        "import re\n",
        "\n",
        "from collections import Counter\n",
        "from google.colab import drive\n",
        "from sklearn.base import TransformerMixin"
      ],
      "execution_count": 0,
      "outputs": []
    },
    {
      "cell_type": "code",
      "metadata": {
        "id": "fn5f4JDpb9DE",
        "colab_type": "code",
        "colab": {
          "base_uri": "https://localhost:8080/",
          "height": 124
        },
        "outputId": "9588af32-0cee-4559-d95a-6903d3a91114"
      },
      "source": [
        "drive.mount('/content/gdrive')"
      ],
      "execution_count": 2,
      "outputs": [
        {
          "output_type": "stream",
          "text": [
            "Go to this URL in a browser: https://accounts.google.com/o/oauth2/auth?client_id=947318989803-6bn6qk8qdgf4n4g3pfee6491hc0brc4i.apps.googleusercontent.com&redirect_uri=urn%3Aietf%3Awg%3Aoauth%3A2.0%3Aoob&scope=email%20https%3A%2F%2Fwww.googleapis.com%2Fauth%2Fdocs.test%20https%3A%2F%2Fwww.googleapis.com%2Fauth%2Fdrive%20https%3A%2F%2Fwww.googleapis.com%2Fauth%2Fdrive.photos.readonly%20https%3A%2F%2Fwww.googleapis.com%2Fauth%2Fpeopleapi.readonly&response_type=code\n",
            "\n",
            "Enter your authorization code:\n",
            "··········\n",
            "Mounted at /content/gdrive\n"
          ],
          "name": "stdout"
        }
      ]
    },
    {
      "cell_type": "code",
      "metadata": {
        "id": "9Vvv269v5pUN",
        "colab_type": "code",
        "colab": {}
      },
      "source": [
        "root_path = 'gdrive/My Drive/studies/HSE/prog/kompluxternaya'\n",
        "with open(root_path+'/'+'peace.txt', 'r', encoding='utf-8') as f:\n",
        "  text = f.read()"
      ],
      "execution_count": 0,
      "outputs": []
    },
    {
      "cell_type": "code",
      "metadata": {
        "id": "-_Fi2UAjb9Dc",
        "colab_type": "code",
        "colab": {
          "base_uri": "https://localhost:8080/",
          "height": 35
        },
        "outputId": "46921ae4-23ad-4324-b79e-29331dc74179"
      },
      "source": [
        "def preprocess_text(text):\n",
        "    # TODO\n",
        "    # make lowercase\n",
        "    text = text.lower()\n",
        "    # replace all punctuation except dots with spaces\n",
        "    pattern = '!|\"|#|\\$|%|&|\\'|\\(|\\)|\\*|\\+|,|-|/|:|;|<|=|>|\\?|@|\\[|\\\\|\\]|^|_|`|{|\\||}|~|”|“|—|‘|’'\n",
        "    text = re.sub(pattern, ' ', text)\n",
        "    # collapse multiple spaces into one '   ' -> ' '\n",
        "    text = re.sub('\\s+', ' ', text)\n",
        "    return text\n",
        "\n",
        "text = preprocess_text(text)\n",
        "#assert len(text) == 3141169\n",
        "len(text)"
      ],
      "execution_count": 4,
      "outputs": [
        {
          "output_type": "execute_result",
          "data": {
            "text/plain": [
              "3141171"
            ]
          },
          "metadata": {
            "tags": []
          },
          "execution_count": 4
        }
      ]
    },
    {
      "cell_type": "code",
      "metadata": {
        "id": "-_YETckkb9Dj",
        "colab_type": "code",
        "colab": {}
      },
      "source": [
        "text = text.split('.')\n",
        "text = [x.strip() for x in text]"
      ],
      "execution_count": 0,
      "outputs": []
    },
    {
      "cell_type": "code",
      "metadata": {
        "id": "HeRdojT9b9Do",
        "colab_type": "code",
        "colab": {}
      },
      "source": [
        "def list_to_bigrams(l, bigrams=Counter()):\n",
        "  \"\"\"\n",
        "  transforms a list of lists into a counter of their pairs (tuples) across the lists\n",
        "  l: a list of lists of integers or strings\n",
        "  \"\"\"\n",
        "  for i in range(len(l)):\n",
        "    bigrams.update((x, y) for x, y in zip(*[l[i][j:] for j in range(2)]))\n",
        "  return bigrams"
      ],
      "execution_count": 0,
      "outputs": []
    },
    {
      "cell_type": "code",
      "metadata": {
        "id": "wrKNPKbSZKbF",
        "colab_type": "code",
        "colab": {}
      },
      "source": [
        "def update_token(text, token, token_id):\n",
        "  \"\"\"\n",
        "  modifies text, all instances of the token (element pairs) in text are replaced by token_id\n",
        "  text: list of lists of integers\n",
        "  token: integer tuple\n",
        "  token_id: the id of the given token, integer\n",
        "  \"\"\"\n",
        "  text_new = [inner_list[:] for inner_list in text]\n",
        "  for i, sent in enumerate(text):\n",
        "    deletions = 0\n",
        "    for j, (v, w) in enumerate(zip(sent[:-1], sent[1:])):\n",
        "      if (v, w) == token:\n",
        "        text_new[i][j-deletions] = token_id\n",
        "        del text_new[i][j-deletions+1]\n",
        "        deletions += 1\n",
        "  return text_new"
      ],
      "execution_count": 0,
      "outputs": []
    },
    {
      "cell_type": "code",
      "metadata": {
        "id": "K7xGXMYyrtyh",
        "colab_type": "code",
        "colab": {
          "base_uri": "https://localhost:8080/",
          "height": 52
        },
        "outputId": "75b9be89-c3b6-4a5c-bedd-8dca83169134"
      },
      "source": [
        "t = ['бля бля бл', ' ', 'бля']\n",
        "test_itos = list(set(''.join(t))) # list letters\n",
        "test_stoi = dict(zip(test_itos, range(len(test_itos)))) # dict of letters and their ids\n",
        "t = [[test_stoi[x] for x in t[i]] for i in range(len(t))] # replace letters with thir ids (str to list)\n",
        "vocab_size = 12\n",
        "while len(test_itos) < vocab_size:\n",
        "    bigrams = list_to_bigrams(t) # get text bigrams\n",
        "    if bigrams.most_common(1):\n",
        "      new_token = bigrams.most_common(1)[0][0] # find most common bigram\n",
        "      new_id = len(test_itos)\n",
        "      test_itos.append(new_token)\n",
        "      test_stoi[new_token] = new_id\n",
        "      # find occurences of the new_token in the text and replace them with new_id\n",
        "      t = update_token(t, new_token, new_id)\n",
        "    else:\n",
        "      break\n",
        "print(t)\n",
        "print(test_itos)"
      ],
      "execution_count": 8,
      "outputs": [
        {
          "output_type": "stream",
          "text": [
            "[[8], [3], [5]]\n",
            "['я', 'б', 'л', ' ', (1, 2), (4, 0), (5, 3), (6, 6), (7, 4)]\n"
          ],
          "name": "stdout"
        }
      ]
    },
    {
      "cell_type": "code",
      "metadata": {
        "id": "AUbIJjBAWGqR",
        "colab_type": "code",
        "colab": {
          "base_uri": "https://localhost:8080/",
          "height": 35
        },
        "outputId": "7b856e3f-6164-483c-e5af-25c11c8260c2"
      },
      "source": [
        "def recursive_token_lookup(tok, itos): #tok int or tuple\n",
        "  if type(tok) == int:\n",
        "    content = itos[tok]\n",
        "    if type(content) == str:\n",
        "      return content\n",
        "    else:\n",
        "      return recursive_token_lookup(content, itos)\n",
        "  elif type(tok) == tuple:\n",
        "    return recursive_token_lookup(tok[0], itos) + recursive_token_lookup(tok[1], itos)\n",
        "  \n",
        "recursive_token_lookup(7, test_itos)"
      ],
      "execution_count": 9,
      "outputs": [
        {
          "output_type": "execute_result",
          "data": {
            "text/plain": [
              "'бля бля '"
            ]
          },
          "metadata": {
            "tags": []
          },
          "execution_count": 9
        }
      ]
    },
    {
      "cell_type": "code",
      "metadata": {
        "scrolled": true,
        "id": "1CNokZ4ub9Dx",
        "colab_type": "code",
        "colab": {}
      },
      "source": [
        "class BPE(TransformerMixin):\n",
        "    def __init__(self, vocab_size=100):\n",
        "        super(BPE, self).__init__()\n",
        "        self.vocab_size = vocab_size\n",
        "        # index to token\n",
        "        self.itos = []\n",
        "        # token to index\n",
        "        self.stoi = {}\n",
        "\n",
        "    def fit(self, text):\n",
        "        \"\"\"\n",
        "        fits \n",
        "        - self.itos (a list of strings (symbols) and integer tuples (most frequent bigrams while vocabulary does not exceed vocab_size\n",
        "                      each symbol/bigram is indexed by its place in the list) )\n",
        "        - self.stoi (a dict of symbols and bigrams to thir indicies in the self.stoi list)\n",
        "        - text (symbols replaced by thir ids, bigrams of ids replaced by their ids\n",
        "        text: list of strings\n",
        "        \"\"\"\n",
        "        # tokenize text by symbols and fill in self.itos and self.stoi\n",
        "        self.itos = list(set(''.join(text))) # list letters\n",
        "        self.stoi = dict(zip(self.itos, range(len(self.itos)))) # dict of letters and their ids\n",
        "        text = [[self.stoi[x] for x in text[i]] for i in range(len(text))] # replace letters with thir ids (str to list)\n",
        "        \n",
        "        while len(self.itos) < self.vocab_size:\n",
        "            bigrams = list_to_bigrams(text) # get text bigrams\n",
        "            if bigrams.most_common(1):\n",
        "              new_token = bigrams.most_common(1)[0][0] # find most common bigram\n",
        "              new_id = len(self.itos)\n",
        "              self.itos.append(new_token)\n",
        "              self.stoi[new_token] = new_id\n",
        "              # find occurences of the new_token in the text and replace them with new_id\n",
        "              text = update_token(text, new_token, new_id)\n",
        "            else:\n",
        "              break\n",
        "        return self\n",
        "    \n",
        "    def transform(self, text):\n",
        "        \"\"\"\n",
        "        convert text to a sequence of symbol ids then replaces bigrams of ids with their indicies in self.stoi\n",
        "        text: list of strings\n",
        "        \"\"\"\n",
        "        text_in_vocabulary = [[symbol for symbol in sent if symbol in self.itos] for sent in text] # exclude out of vocabulary symbols\n",
        "        text = [[self.stoi[letter] for letter in sent] for sent in text_in_vocabulary] # tokenize text by symbols using self.stoi\n",
        "        for token_id, token in enumerate(self.itos): # find occurences of a complex token in the text and replace them with token_id\n",
        "            text = update_token(text, token, token_id)    \n",
        "        return text\n",
        "    \n",
        "    def decode_token(self, tok):\n",
        "        \"\"\"\n",
        "        returns a text coded by the tok\n",
        "        tok: either an int - id, or a tuple - pair of ids)\n",
        "        \"\"\"\n",
        "        def recursive_token_lookup(token): #token int or tuple\n",
        "          if type(token) == int:\n",
        "            content = self.itos[token]\n",
        "            if type(content) == str:\n",
        "              return content # only returns strings\n",
        "            else:\n",
        "              return recursive_token_lookup(content) # continue lookup on the tuple that was found\n",
        "          elif type(token) == tuple:\n",
        "            return recursive_token_lookup(token[0]) + recursive_token_lookup(token[1]) # concatenate string results\n",
        "        return recursive_token_lookup(tok)\n",
        "            \n",
        "    def decode(self, text):\n",
        "        \"\"\"\n",
        "        convert token ids into text\n",
        "        text: tokenized text, list of lists of integers\n",
        "        \"\"\"\n",
        "        return ''.join(map(self.decode_token, text))\n",
        "        \n",
        "        \n",
        "vocab_size = 100\n",
        "bpe = BPE(vocab_size)\n",
        "tokenized_text = bpe.fit_transform(text)"
      ],
      "execution_count": 0,
      "outputs": []
    },
    {
      "cell_type": "code",
      "metadata": {
        "id": "udBjXkGGt5lV",
        "colab_type": "code",
        "colab": {
          "base_uri": "https://localhost:8080/",
          "height": 35
        },
        "outputId": "35e4f33b-a3b5-451f-c0e0-4a8f42baf39e"
      },
      "source": [
        "test_text = ['бля бля бл', ' ', 'бля']\n",
        "test_vocab_size = 12\n",
        "test_bpe = BPE(test_vocab_size)\n",
        "test_tokenized_text = test_bpe.fit_transform(test_text)\n",
        "test_tokenized_text\n",
        "test_bpe.decode(test_tokenized_text[0])\n"
      ],
      "execution_count": 11,
      "outputs": [
        {
          "output_type": "execute_result",
          "data": {
            "text/plain": [
              "'бля бля бл'"
            ]
          },
          "metadata": {
            "tags": []
          },
          "execution_count": 11
        }
      ]
    },
    {
      "cell_type": "code",
      "metadata": {
        "id": "5DTU3BJQb9D5",
        "colab_type": "code",
        "colab": {}
      },
      "source": [
        "assert bpe.decode(tokenized_text[0]) == text[0]"
      ],
      "execution_count": 0,
      "outputs": []
    },
    {
      "cell_type": "code",
      "metadata": {
        "id": "izHAJ88h2xuW",
        "colab_type": "code",
        "colab": {}
      },
      "source": [
        "def list_to_trigrams(l, trigrams=Counter()):\n",
        "  \"\"\"\n",
        "  transforms a list of lists into a counter of their pairs (tuples) across the lists\n",
        "  l: a list of lists of integers or strings\n",
        "  \"\"\"\n",
        "  for i in range(len(l)):\n",
        "    trigrams.update((x, y, z) for x, y, z in zip(*[l[i][j:] for j in range(3)]))\n",
        "  return trigrams"
      ],
      "execution_count": 0,
      "outputs": []
    },
    {
      "cell_type": "code",
      "metadata": {
        "id": "a1MWgL6sb9EM",
        "colab_type": "code",
        "colab": {}
      },
      "source": [
        "start_token = vocab_size\n",
        "end_token = vocab_size + 1\n",
        "        \n",
        "    \n",
        "class LM:\n",
        "    def __init__(self, vocab_size, delta=1):\n",
        "        self.delta = delta\n",
        "        self.vocab_size = vocab_size\n",
        "        self.counts = Counter() # TODO create array for storing 3-gram counts (empty 3-gram counter)\n",
        "\n",
        "    def fit(self, text):\n",
        "        \"\"\"\n",
        "        train language model on text\n",
        "        text: list of lists\n",
        "        \"\"\"\n",
        "        self.counts = list_to_trigrams(text, self.counts) # count 3-grams in the text  \n",
        "        return self\n",
        "        \n",
        "    def get_proba(self, a, b, c, tau=1):\n",
        "        \"\"\"\n",
        "        get Laplace smoothed probability of 3-gram (a,b,c)\n",
        "        a: first token id\n",
        "        b: second token id\n",
        "        c: third token id\n",
        "        tau: temperature\n",
        "        \"\"\"\n",
        "        trigram = (a, b, c)\n",
        "        count_abx = sum([self.counts[key] for key in self.counts if key[:2] == trigram[:2]]) # number of trigrams that begin with (a, b) including (a, b, c)\n",
        "        result = ((self.counts[trigram] + self.delta)**(1/tau)) / ((count_abx + self.delta)**(1/tau)) # approximate probability by counters\n",
        "        return result\n",
        "            \n",
        "    def infer(self, a, b, tau=1):\n",
        "        \"\"\"\n",
        "        return vector of probabilities of size self.vocab_size for 3-grams which start with (a,b) tokens\n",
        "        a: first token id\n",
        "        b: second token id\n",
        "        tau: temperature\n",
        "        \"\"\"\n",
        "        result = [self.get_proba(a,b,x, tau) for x in range(self.vocab_size)]\n",
        "        return result\n",
        "    \n",
        "lm = LM(vocab_size, 1).fit(tokenized_text)"
      ],
      "execution_count": 0,
      "outputs": []
    },
    {
      "cell_type": "code",
      "metadata": {
        "id": "Nt9HUj5TDSZs",
        "colab_type": "code",
        "colab": {
          "base_uri": "https://localhost:8080/",
          "height": 173
        },
        "outputId": "5f78799a-a392-4dde-a3df-1c1ae08904ed"
      },
      "source": [
        "l = [[0,1,2,3], [3,1,2,0,4], [4,1,2,3,2,3,1,2,3,2]]\n",
        "counts = list_to_trigrams(l)\n",
        "delta = 1\n",
        "tau = 1\n",
        "for trigram in counts:\n",
        "  test_count_abx = sum([counts[key] for key in counts if key[:2] == trigram[:2]]) # number of trigrams that begin with (a, b) including (a, b, c)\n",
        "  result = ((counts[trigram] + delta)**(1/tau)) / ((test_count_abx + delta)**(1/tau))\n",
        "  print(result)"
      ],
      "execution_count": 41,
      "outputs": [
        {
          "output_type": "stream",
          "text": [
            "0.9259259259259259\n",
            "1.0\n",
            "0.68\n",
            "1.0\n",
            "0.36\n",
            "1.0\n",
            "0.1111111111111111\n",
            "1.0\n",
            "1.0\n"
          ],
          "name": "stdout"
        }
      ]
    },
    {
      "cell_type": "code",
      "metadata": {
        "id": "OjnXii5eFYnp",
        "colab_type": "code",
        "colab": {
          "base_uri": "https://localhost:8080/",
          "height": 35
        },
        "outputId": "c34c479e-8977-409b-e833-477e80325013"
      },
      "source": [
        "l = [[0,1,2,3], [3,1,2,0,4], [4,1,2,3,2,3,1,2,3,2]]\n",
        "test_lm = LM(len(set([item for sublist in l for item in sublist])), 1).fit(l)\n",
        "test_lm.infer(1,2)"
      ],
      "execution_count": 42,
      "outputs": [
        {
          "output_type": "execute_result",
          "data": {
            "text/plain": [
              "[0.4, 0.2, 0.2, 0.8, 0.2]"
            ]
          },
          "metadata": {
            "tags": []
          },
          "execution_count": 42
        }
      ]
    },
    {
      "cell_type": "code",
      "metadata": {
        "id": "Tb7zr3wBG2O7",
        "colab_type": "code",
        "colab": {
          "base_uri": "https://localhost:8080/",
          "height": 1000
        },
        "outputId": "844799e4-f130-4886-ed44-077e1b4aad27"
      },
      "source": [
        "lm.infer(50, 53)"
      ],
      "execution_count": 56,
      "outputs": [
        {
          "output_type": "execute_result",
          "data": {
            "text/plain": [
              "[0.30350553505535055,\n",
              " 0.0003075030750307503,\n",
              " 0.0003075030750307503,\n",
              " 0.0003075030750307503,\n",
              " 0.0003075030750307503,\n",
              " 0.0036900369003690036,\n",
              " 0.0003075030750307503,\n",
              " 0.0003075030750307503,\n",
              " 0.0003075030750307503,\n",
              " 0.0003075030750307503,\n",
              " 0.0003075030750307503,\n",
              " 0.0003075030750307503,\n",
              " 0.0003075030750307503,\n",
              " 0.016912669126691267,\n",
              " 0.0003075030750307503,\n",
              " 0.0003075030750307503,\n",
              " 0.0003075030750307503,\n",
              " 0.0003075030750307503,\n",
              " 0.04274292742927429,\n",
              " 0.0003075030750307503,\n",
              " 0.0003075030750307503,\n",
              " 0.023062730627306273,\n",
              " 0.0003075030750307503,\n",
              " 0.0003075030750307503,\n",
              " 0.0003075030750307503,\n",
              " 0.0003075030750307503,\n",
              " 0.0003075030750307503,\n",
              " 0.0003075030750307503,\n",
              " 0.0003075030750307503,\n",
              " 0.0003075030750307503,\n",
              " 0.0003075030750307503,\n",
              " 0.0003075030750307503,\n",
              " 0.0003075030750307503,\n",
              " 0.0012300123001230013,\n",
              " 0.0003075030750307503,\n",
              " 0.0003075030750307503,\n",
              " 0.0003075030750307503,\n",
              " 0.0003075030750307503,\n",
              " 0.008610086100861008,\n",
              " 0.0003075030750307503,\n",
              " 0.0003075030750307503,\n",
              " 0.0003075030750307503,\n",
              " 0.0006150061500615006,\n",
              " 0.10762607626076261,\n",
              " 0.0003075030750307503,\n",
              " 0.0003075030750307503,\n",
              " 0.01076260762607626,\n",
              " 0.0003075030750307503,\n",
              " 0.0003075030750307503,\n",
              " 0.0006150061500615006,\n",
              " 0.0003075030750307503,\n",
              " 0.00891758917589176,\n",
              " 0.0003075030750307503,\n",
              " 0.019065190651906518,\n",
              " 0.0003075030750307503,\n",
              " 0.0009225092250922509,\n",
              " 0.0003075030750307503,\n",
              " 0.0003075030750307503,\n",
              " 0.0003075030750307503,\n",
              " 0.0003075030750307503,\n",
              " 0.0003075030750307503,\n",
              " 0.01998769987699877,\n",
              " 0.0003075030750307503,\n",
              " 0.0003075030750307503,\n",
              " 0.0006150061500615006,\n",
              " 0.0003075030750307503,\n",
              " 0.0003075030750307503,\n",
              " 0.0003075030750307503,\n",
              " 0.0003075030750307503,\n",
              " 0.0003075030750307503,\n",
              " 0.003075030750307503,\n",
              " 0.07226322263222633,\n",
              " 0.0003075030750307503,\n",
              " 0.0003075030750307503,\n",
              " 0.0003075030750307503,\n",
              " 0.0003075030750307503,\n",
              " 0.0003075030750307503,\n",
              " 0.0009225092250922509,\n",
              " 0.0003075030750307503,\n",
              " 0.2995079950799508,\n",
              " 0.0003075030750307503,\n",
              " 0.0003075030750307503,\n",
              " 0.0003075030750307503,\n",
              " 0.0003075030750307503,\n",
              " 0.0006150061500615006,\n",
              " 0.0003075030750307503,\n",
              " 0.025215252152521524,\n",
              " 0.0003075030750307503,\n",
              " 0.004920049200492005,\n",
              " 0.0003075030750307503,\n",
              " 0.0003075030750307503,\n",
              " 0.0003075030750307503,\n",
              " 0.007380073800738007,\n",
              " 0.0003075030750307503,\n",
              " 0.0003075030750307503,\n",
              " 0.0003075030750307503,\n",
              " 0.024600246002460024,\n",
              " 0.0003075030750307503,\n",
              " 0.0003075030750307503,\n",
              " 0.0003075030750307503]"
            ]
          },
          "metadata": {
            "tags": []
          },
          "execution_count": 56
        }
      ]
    },
    {
      "cell_type": "code",
      "metadata": {
        "id": "Ek7jeggLb9ES",
        "colab_type": "code",
        "colab": {}
      },
      "source": [
        "def beam_search(input_seq, lm, max_len=10, k=5, tau=1):\n",
        "    \"\"\"\n",
        "    generate sequence from language model *lm* conditioned on input_seq\n",
        "    input_seq: sequence of token ids for conditioning\n",
        "    lm: language model\n",
        "    max_len: max generated sequence length\n",
        "    k: size of beam\n",
        "    tau: temperature\n",
        "    \"\"\"\n",
        "    \n",
        "    beam = # TODO store in beam tuples of current sequences and their log probabilities\n",
        "    \n",
        "    for i in range(max_len):\n",
        "        candidates = []\n",
        "        candidates_proba = []\n",
        "        for snt, snt_proba in beam:\n",
        "            if # TODO process terminal token\n",
        "            else:    \n",
        "                proba = # probability vector of the next token\n",
        "                best_k = # top-k most probable tokens\n",
        "                # TODO update candidates' sequences and corresponding probabilities\n",
        "                \n",
        "        beam = # select top-k most probable sequences from candidates\n",
        "    return beam\n",
        "    "
      ],
      "execution_count": 0,
      "outputs": []
    },
    {
      "cell_type": "code",
      "metadata": {
        "id": "EXXNH0ieb9EZ",
        "colab_type": "code",
        "colab": {}
      },
      "source": [
        "input1 = 'horse '\n",
        "input1 = bpe.transform([input1])[0]\n",
        "result = beam_search(input1, lm, max_len=10, k=10, tau=0.1)\n",
        "# TODO print decoded generated strings and their probabilities\n",
        "    "
      ],
      "execution_count": 0,
      "outputs": []
    },
    {
      "cell_type": "code",
      "metadata": {
        "id": "HxqKvnvAb9Ef",
        "colab_type": "code",
        "colab": {}
      },
      "source": [
        "input1 = 'her'\n",
        "input1 = bpe.transform([input1])[0]\n",
        "result = beam_search(input1, lm, max_len=10, k=10, tau=0.1)\n",
        "# TODO print decoded generated strings and their probabilities"
      ],
      "execution_count": 0,
      "outputs": []
    },
    {
      "cell_type": "code",
      "metadata": {
        "id": "xA7l1zyNb9Ek",
        "colab_type": "code",
        "colab": {}
      },
      "source": [
        "input1 = 'what'\n",
        "input1 = bpe.transform([input1])[0]\n",
        "result = beam_search(input1, lm, max_len=10, k=10, tau=1)\n",
        "# TODO print decoded generated strings and their probabilities"
      ],
      "execution_count": 0,
      "outputs": []
    },
    {
      "cell_type": "code",
      "metadata": {
        "id": "LZSZy_cCb9Eq",
        "colab_type": "code",
        "colab": {}
      },
      "source": [
        "input1 = 'gun '\n",
        "input1 = bpe.transform([input1])[0]\n",
        "result = beam_search(input1, lm, max_len=10, k=10, tau=0.1)\n",
        "# TODO print decoded generated strings and their probabilities"
      ],
      "execution_count": 0,
      "outputs": []
    },
    {
      "cell_type": "code",
      "metadata": {
        "id": "qHhRyjYfb9E3",
        "colab_type": "code",
        "colab": {}
      },
      "source": [
        "def perplexity(snt, lm):\n",
        "    \"\"\"\n",
        "    snt: sequence of token ids\n",
        "    lm: language model\n",
        "    \"\"\"\n",
        "    result = #TODO perplexity for the sentence\n",
        "    return result\n",
        "\n",
        "perplexity(tokenized_text[0], lm)"
      ],
      "execution_count": 0,
      "outputs": []
    }
  ]
}