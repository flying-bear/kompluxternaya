{
  "nbformat": 4,
  "nbformat_minor": 0,
  "metadata": {
    "kernelspec": {
      "display_name": "Python 3",
      "language": "python",
      "name": "python3"
    },
    "language_info": {
      "codemirror_mode": {
        "name": "ipython",
        "version": 3
      },
      "file_extension": ".py",
      "mimetype": "text/x-python",
      "name": "python",
      "nbconvert_exporter": "python",
      "pygments_lexer": "ipython3",
      "version": "3.7.6"
    },
    "colab": {
      "name": "exam_var1.ipynb",
      "provenance": [],
      "collapsed_sections": [],
      "include_colab_link": true
    }
  },
  "cells": [
    {
      "cell_type": "markdown",
      "metadata": {
        "id": "view-in-github",
        "colab_type": "text"
      },
      "source": [
        "<a href=\"https://colab.research.google.com/github/flying-bear/kompluxternaya/blob/master/exam_var1.ipynb\" target=\"_parent\"><img src=\"https://colab.research.google.com/assets/colab-badge.svg\" alt=\"Open In Colab\"/></a>"
      ]
    },
    {
      "cell_type": "markdown",
      "metadata": {
        "id": "5FQx0jEC07hv",
        "colab_type": "text"
      },
      "source": [
        "# Exam\n"
      ]
    },
    {
      "cell_type": "markdown",
      "metadata": {
        "id": "OJKf6_fi0-ld",
        "colab_type": "text"
      },
      "source": [
        "## Theoretical part"
      ]
    },
    {
      "cell_type": "markdown",
      "metadata": {
        "id": "81-INCr-1Bak",
        "colab_type": "text"
      },
      "source": [
        "### 5. When a decision tree for regression performes worse than linear regression? \n",
        "\n",
        "We can think of each datapoint as a point in a multidimensional space of dimensionality number of features. Each feature would represent an axis. Decision trees group data by features on each branching point, and thus they draw each separation line parallel to one of the axes. However, some kinds of data are exactly split along a combination of axes, like a diagonal. A linear regrassion uses a hyperplane to separate the data and thus can perfectly allign with any linear combination of axes. A decision tree on the other hand would have to create a ladder pattern to approximate a diagonal class separartion line which makes the model complex and inefficient.\n",
        "\n",
        "(On the other hand, in a non-linear case a decision tree would most often be better)"
      ]
    },
    {
      "cell_type": "markdown",
      "metadata": {
        "id": "yJ6nu-KI0zmO",
        "colab_type": "text"
      },
      "source": [
        "## Practical part\n",
        "\n",
        "Develop a model for predicting review rating.  \n",
        "**Multiclass classification into 5 classes**  \n",
        "Score: **F1 with macro averaging**  \n",
        "You are forbidden to use test dataset for any kind of training.  \n",
        "Remember proper training pipeline.  \n",
        "If you are not using default params in the models, you have to use some validation scheme to justify them. \n",
        "\n",
        "Use `random_state` or `seed` params - your experiment must be reprodusible.\n",
        "\n",
        "\n",
        "### 1 baseline = 0.51\n",
        "### 2 baseline = 0.53\n"
      ]
    },
    {
      "cell_type": "code",
      "metadata": {
        "id": "gvlPWjau2F5B",
        "colab_type": "code",
        "outputId": "17f188e1-5467-42f0-dd8d-30e44412a7c2",
        "colab": {
          "base_uri": "https://localhost:8080/",
          "height": 286
        }
      },
      "source": [
        "!wget https://github.com/thedenaas/hse_seminars/raw/master/2019/exam/exam_data.zip"
      ],
      "execution_count": 91,
      "outputs": [
        {
          "output_type": "stream",
          "text": [
            "--2020-03-24 12:15:06--  https://github.com/thedenaas/hse_seminars/raw/master/2019/exam/exam_data.zip\n",
            "Resolving github.com (github.com)... 192.30.255.113\n",
            "Connecting to github.com (github.com)|192.30.255.113|:443... connected.\n",
            "HTTP request sent, awaiting response... 302 Found\n",
            "Location: https://raw.githubusercontent.com/thedenaas/hse_seminars/master/2019/exam/exam_data.zip [following]\n",
            "--2020-03-24 12:15:06--  https://raw.githubusercontent.com/thedenaas/hse_seminars/master/2019/exam/exam_data.zip\n",
            "Resolving raw.githubusercontent.com (raw.githubusercontent.com)... 151.101.0.133, 151.101.64.133, 151.101.128.133, ...\n",
            "Connecting to raw.githubusercontent.com (raw.githubusercontent.com)|151.101.0.133|:443... connected.\n",
            "HTTP request sent, awaiting response... 200 OK\n",
            "Length: 7356841 (7.0M) [application/zip]\n",
            "Saving to: ‘exam_data.zip.1’\n",
            "\n",
            "exam_data.zip.1     100%[===================>]   7.02M  --.-KB/s    in 0.08s   \n",
            "\n",
            "2020-03-24 12:15:07 (89.5 MB/s) - ‘exam_data.zip.1’ saved [7356841/7356841]\n",
            "\n"
          ],
          "name": "stdout"
        }
      ]
    },
    {
      "cell_type": "code",
      "metadata": {
        "id": "rj9L1F7C2HE4",
        "colab_type": "code",
        "outputId": "ea945787-1877-46e5-c48c-6f843377096f",
        "colab": {
          "base_uri": "https://localhost:8080/",
          "height": 67
        }
      },
      "source": [
        "!unzip exam_data.zip"
      ],
      "execution_count": 92,
      "outputs": [
        {
          "output_type": "stream",
          "text": [
            "Archive:  exam_data.zip\n",
            "replace test.csv? [y]es, [n]o, [A]ll, [N]one, [r]ename: n\n",
            "replace train.csv? [y]es, [n]o, [A]ll, [N]one, [r]ename: n\n"
          ],
          "name": "stdout"
        }
      ]
    },
    {
      "cell_type": "code",
      "metadata": {
        "id": "y8iw-r2d0zmR",
        "colab_type": "code",
        "colab": {}
      },
      "source": [
        "import gensim.downloader as api\n",
        "import pandas as pd\n",
        "import nltk\n",
        "import numpy as np\n",
        "\n",
        "from sklearn import metrics\n",
        "from sklearn.ensemble import RandomForestClassifier\n",
        "from sklearn.feature_extraction.text import TfidfVectorizer\n",
        "from sklearn.linear_model import LogisticRegression\n",
        "from sklearn.model_selection import GridSearchCV\n",
        "from sklearn.svm import LinearSVC"
      ],
      "execution_count": 0,
      "outputs": []
    },
    {
      "cell_type": "code",
      "metadata": {
        "id": "a-Yi-3PV5RF9",
        "colab_type": "code",
        "colab": {}
      },
      "source": [
        "SEED = 42"
      ],
      "execution_count": 0,
      "outputs": []
    },
    {
      "cell_type": "code",
      "metadata": {
        "id": "c7_ch60d3HZM",
        "colab_type": "code",
        "outputId": "a4878c6f-c3a5-4730-e6c5-7ff9d4e4f236",
        "colab": {
          "base_uri": "https://localhost:8080/",
          "height": 67
        }
      },
      "source": [
        "nltk.download('punkt')"
      ],
      "execution_count": 0,
      "outputs": [
        {
          "output_type": "stream",
          "text": [
            "[nltk_data] Downloading package punkt to /root/nltk_data...\n",
            "[nltk_data]   Unzipping tokenizers/punkt.zip.\n"
          ],
          "name": "stdout"
        },
        {
          "output_type": "execute_result",
          "data": {
            "text/plain": [
              "True"
            ]
          },
          "metadata": {
            "tags": []
          },
          "execution_count": 8
        }
      ]
    },
    {
      "cell_type": "code",
      "metadata": {
        "id": "yWjIZECG0zmV",
        "colab_type": "code",
        "outputId": "8e9fff51-8ae8-4180-b458-f4a6a35c7fb3",
        "colab": {
          "base_uri": "https://localhost:8080/",
          "height": 34
        }
      },
      "source": [
        "df_train = pd.read_csv('train.csv')\n",
        "df_test = pd.read_csv('test.csv')\n",
        "df_train.shape"
      ],
      "execution_count": 95,
      "outputs": [
        {
          "output_type": "execute_result",
          "data": {
            "text/plain": [
              "(48192, 3)"
            ]
          },
          "metadata": {
            "tags": []
          },
          "execution_count": 95
        }
      ]
    },
    {
      "cell_type": "code",
      "metadata": {
        "id": "6b_smuSy2faB",
        "colab_type": "code",
        "outputId": "8e18b4f9-dbe3-4a24-b5a1-adde61c76952",
        "colab": {
          "base_uri": "https://localhost:8080/",
          "height": 195
        }
      },
      "source": [
        "df_train.head()"
      ],
      "execution_count": 96,
      "outputs": [
        {
          "output_type": "execute_result",
          "data": {
            "text/html": [
              "<div>\n",
              "<style scoped>\n",
              "    .dataframe tbody tr th:only-of-type {\n",
              "        vertical-align: middle;\n",
              "    }\n",
              "\n",
              "    .dataframe tbody tr th {\n",
              "        vertical-align: top;\n",
              "    }\n",
              "\n",
              "    .dataframe thead th {\n",
              "        text-align: right;\n",
              "    }\n",
              "</style>\n",
              "<table border=\"1\" class=\"dataframe\">\n",
              "  <thead>\n",
              "    <tr style=\"text-align: right;\">\n",
              "      <th></th>\n",
              "      <th>review</th>\n",
              "      <th>title</th>\n",
              "      <th>target</th>\n",
              "    </tr>\n",
              "  </thead>\n",
              "  <tbody>\n",
              "    <tr>\n",
              "      <th>0</th>\n",
              "      <td>The staff was very friendly, the breakfast ver...</td>\n",
              "      <td>Walker Gem</td>\n",
              "      <td>5</td>\n",
              "    </tr>\n",
              "    <tr>\n",
              "      <th>1</th>\n",
              "      <td>Excellent service - very approachable and prof...</td>\n",
              "      <td>Excellent Service</td>\n",
              "      <td>4</td>\n",
              "    </tr>\n",
              "    <tr>\n",
              "      <th>2</th>\n",
              "      <td>Really a top notch place to spend a day at the...</td>\n",
              "      <td>Good location, warm and friendly staff</td>\n",
              "      <td>5</td>\n",
              "    </tr>\n",
              "    <tr>\n",
              "      <th>3</th>\n",
              "      <td>a little noisy, there was a false fire alarm a...</td>\n",
              "      <td>nice hotel,</td>\n",
              "      <td>4</td>\n",
              "    </tr>\n",
              "    <tr>\n",
              "      <th>4</th>\n",
              "      <td>Place had too many animals and I'm allergic to...</td>\n",
              "      <td>Experience</td>\n",
              "      <td>3</td>\n",
              "    </tr>\n",
              "  </tbody>\n",
              "</table>\n",
              "</div>"
            ],
            "text/plain": [
              "                                              review  ... target\n",
              "0  The staff was very friendly, the breakfast ver...  ...      5\n",
              "1  Excellent service - very approachable and prof...  ...      4\n",
              "2  Really a top notch place to spend a day at the...  ...      5\n",
              "3  a little noisy, there was a false fire alarm a...  ...      4\n",
              "4  Place had too many animals and I'm allergic to...  ...      3\n",
              "\n",
              "[5 rows x 3 columns]"
            ]
          },
          "metadata": {
            "tags": []
          },
          "execution_count": 96
        }
      ]
    },
    {
      "cell_type": "code",
      "metadata": {
        "id": "B-tej5RyhRah",
        "colab_type": "code",
        "colab": {}
      },
      "source": [
        "df_train['text'] = df_train['review'] + df_train['title']\n",
        "df_test['text'] = df_test['review'] + df_test['title']"
      ],
      "execution_count": 0,
      "outputs": []
    },
    {
      "cell_type": "code",
      "metadata": {
        "id": "8CEpHH5A37u3",
        "colab_type": "code",
        "outputId": "5ccf80bc-c2d1-4c5d-cb0a-34b25fe5523d",
        "colab": {
          "base_uri": "https://localhost:8080/",
          "height": 118
        }
      },
      "source": [
        "class_distr = df_train.target.value_counts(normalize=True)\n",
        "class_distr"
      ],
      "execution_count": 97,
      "outputs": [
        {
          "output_type": "execute_result",
          "data": {
            "text/plain": [
              "5    0.405690\n",
              "4    0.286126\n",
              "3    0.153137\n",
              "1    0.077648\n",
              "2    0.077399\n",
              "Name: target, dtype: float64"
            ]
          },
          "metadata": {
            "tags": []
          },
          "execution_count": 97
        }
      ]
    },
    {
      "cell_type": "code",
      "metadata": {
        "id": "uxvUiBzW5LtT",
        "colab_type": "code",
        "outputId": "8a95fd60-8806-42ee-cdb5-74a9a2001bdb",
        "colab": {
          "base_uri": "https://localhost:8080/",
          "height": 118
        }
      },
      "source": [
        "class_distr = df_train.target.value_counts()\n",
        "class_distr"
      ],
      "execution_count": 98,
      "outputs": [
        {
          "output_type": "execute_result",
          "data": {
            "text/plain": [
              "5    19551\n",
              "4    13789\n",
              "3     7380\n",
              "1     3742\n",
              "2     3730\n",
              "Name: target, dtype: int64"
            ]
          },
          "metadata": {
            "tags": []
          },
          "execution_count": 98
        }
      ]
    },
    {
      "cell_type": "markdown",
      "metadata": {
        "id": "NZYc0Ki7eJ31",
        "colab_type": "text"
      },
      "source": [
        "### Tf-idf"
      ]
    },
    {
      "cell_type": "code",
      "metadata": {
        "id": "4-5SodqFeN-l",
        "colab_type": "code",
        "colab": {}
      },
      "source": [
        "corpus = [text.lower() for text in df_train.text.values]"
      ],
      "execution_count": 0,
      "outputs": []
    },
    {
      "cell_type": "code",
      "metadata": {
        "id": "d0VWrBUSd_zH",
        "colab_type": "code",
        "colab": {}
      },
      "source": [
        "vectorizer = TfidfVectorizer()\n",
        "X_train = vectorizer.fit_transform(corpus)"
      ],
      "execution_count": 0,
      "outputs": []
    },
    {
      "cell_type": "code",
      "metadata": {
        "id": "ytMyoqKSeWr4",
        "colab_type": "code",
        "colab": {
          "base_uri": "https://localhost:8080/",
          "height": 34
        },
        "outputId": "b97761e6-805d-4e61-b3d5-4d0e17478b06"
      },
      "source": [
        "X_train.shape"
      ],
      "execution_count": 141,
      "outputs": [
        {
          "output_type": "execute_result",
          "data": {
            "text/plain": [
              "(48192, 50785)"
            ]
          },
          "metadata": {
            "tags": []
          },
          "execution_count": 141
        }
      ]
    },
    {
      "cell_type": "code",
      "metadata": {
        "id": "2fMG249Tfj11",
        "colab_type": "code",
        "colab": {}
      },
      "source": [
        "test_corpus = [text.lower() for text in df_test.text.values]"
      ],
      "execution_count": 0,
      "outputs": []
    },
    {
      "cell_type": "code",
      "metadata": {
        "id": "_7n4AiBNfbWo",
        "colab_type": "code",
        "colab": {}
      },
      "source": [
        "X_test = vectorizer.transform(test_corpus)"
      ],
      "execution_count": 0,
      "outputs": []
    },
    {
      "cell_type": "code",
      "metadata": {
        "id": "fPCta5L6hFGx",
        "colab_type": "code",
        "colab": {
          "base_uri": "https://localhost:8080/",
          "height": 34
        },
        "outputId": "c2c19e8c-6fbc-4c67-fd37-83f79bd5dcfe"
      },
      "source": [
        "X_test.shape"
      ],
      "execution_count": 144,
      "outputs": [
        {
          "output_type": "execute_result",
          "data": {
            "text/plain": [
              "(5355, 50785)"
            ]
          },
          "metadata": {
            "tags": []
          },
          "execution_count": 144
        }
      ]
    },
    {
      "cell_type": "code",
      "metadata": {
        "id": "1mtp3uEAfWGG",
        "colab_type": "code",
        "colab": {}
      },
      "source": [
        "y_test = df_test.target.values\n",
        "y_train = df_train.target.values"
      ],
      "execution_count": 0,
      "outputs": []
    },
    {
      "cell_type": "markdown",
      "metadata": {
        "id": "jP3XNGUefEJe",
        "colab_type": "text"
      },
      "source": [
        "#### Model (BASELINE 1)"
      ]
    },
    {
      "cell_type": "code",
      "metadata": {
        "id": "2MrS7Pcxj-A_",
        "colab_type": "code",
        "colab": {
          "base_uri": "https://localhost:8080/",
          "height": 151
        },
        "outputId": "2e24ddcc-7a6c-4c7c-cb54-ed8f1f943b34"
      },
      "source": [
        "%%time\n",
        "model = GridSearchCV(LogisticRegression(penalty='l2', multi_class='ovr',  max_iter=500, random_state=SEED), \n",
        "                              {'C': [3.5]},  # the parameter chosing was sped up, so I could have used LogisticRegressionCV\n",
        "                              cv=3, scoring='f1_macro', n_jobs=-1, verbose=1)\n",
        "model.fit(X_train, y_train)\n",
        "print(model.best_params_)\n",
        "\n",
        "print('train', metrics.f1_score(y_train, model.predict(X_train), average='macro'))\n",
        "print('test', metrics.f1_score(y_test, model.predict(X_test), average='macro'))"
      ],
      "execution_count": 154,
      "outputs": [
        {
          "output_type": "stream",
          "text": [
            "Fitting 3 folds for each of 1 candidates, totalling 3 fits\n"
          ],
          "name": "stdout"
        },
        {
          "output_type": "stream",
          "text": [
            "[Parallel(n_jobs=-1)]: Using backend LokyBackend with 2 concurrent workers.\n",
            "[Parallel(n_jobs=-1)]: Done   3 out of   3 | elapsed:   41.0s finished\n"
          ],
          "name": "stderr"
        },
        {
          "output_type": "stream",
          "text": [
            "{'C': 3.5}\n",
            "train 0.7564204246097678\n",
            "test 0.5101884507737575\n",
            "CPU times: user 36.3 s, sys: 26.2 s, total: 1min 2s\n",
            "Wall time: 1min 12s\n"
          ],
          "name": "stdout"
        }
      ]
    },
    {
      "cell_type": "markdown",
      "metadata": {
        "id": "AY1W7vad58vD",
        "colab_type": "text"
      },
      "source": [
        "#### Tokenize texts"
      ]
    },
    {
      "cell_type": "code",
      "metadata": {
        "id": "YSkkIgtx3GCt",
        "colab_type": "code",
        "colab": {}
      },
      "source": [
        "def tokenize(text):\n",
        "  sents = nltk.tokenize.sent_tokenize(text.lower())\n",
        "  token_sents = [nltk.tokenize.word_tokenize(sent) for sent in sents]\n",
        "  return token_sents"
      ],
      "execution_count": 0,
      "outputs": []
    },
    {
      "cell_type": "code",
      "metadata": {
        "id": "onPXvhF75YHA",
        "colab_type": "code",
        "outputId": "5c997ecb-861c-4611-be2e-4f425110e013",
        "colab": {
          "base_uri": "https://localhost:8080/",
          "height": 363
        }
      },
      "source": [
        "df_train['review_tokens'] = df_train['review'].apply(tokenize)\n",
        "df_train.head()"
      ],
      "execution_count": 0,
      "outputs": [
        {
          "output_type": "execute_result",
          "data": {
            "text/html": [
              "<div>\n",
              "<style scoped>\n",
              "    .dataframe tbody tr th:only-of-type {\n",
              "        vertical-align: middle;\n",
              "    }\n",
              "\n",
              "    .dataframe tbody tr th {\n",
              "        vertical-align: top;\n",
              "    }\n",
              "\n",
              "    .dataframe thead th {\n",
              "        text-align: right;\n",
              "    }\n",
              "</style>\n",
              "<table border=\"1\" class=\"dataframe\">\n",
              "  <thead>\n",
              "    <tr style=\"text-align: right;\">\n",
              "      <th></th>\n",
              "      <th>review</th>\n",
              "      <th>title</th>\n",
              "      <th>target</th>\n",
              "      <th>review_tokens</th>\n",
              "      <th>title_tokens</th>\n",
              "      <th>review_vec</th>\n",
              "      <th>title_vec</th>\n",
              "      <th>review_vecs</th>\n",
              "      <th>title_vecs</th>\n",
              "    </tr>\n",
              "  </thead>\n",
              "  <tbody>\n",
              "    <tr>\n",
              "      <th>0</th>\n",
              "      <td>The staff was very friendly, the breakfast ver...</td>\n",
              "      <td>Walker Gem</td>\n",
              "      <td>5</td>\n",
              "      <td>[[the, staff, was, very, friendly, ,, the, bre...</td>\n",
              "      <td>[[Walker, Gem]]</td>\n",
              "      <td>[[-0.026950411, 0.09126197, -0.029079862, 0.08...</td>\n",
              "      <td>[[0.030090332, 0.07446289, -0.17285156, 0.1264...</td>\n",
              "      <td>[[-0.026950411, 0.09126197, -0.029079862, 0.08...</td>\n",
              "      <td>[[0.030090332, 0.07446289, -0.17285156, 0.1264...</td>\n",
              "    </tr>\n",
              "    <tr>\n",
              "      <th>1</th>\n",
              "      <td>Excellent service - very approachable and prof...</td>\n",
              "      <td>Excellent Service</td>\n",
              "      <td>4</td>\n",
              "      <td>[[excellent, service, -, very, approachable, a...</td>\n",
              "      <td>[[Excellent, Service]]</td>\n",
              "      <td>[[-0.042317707, -0.020771027, -0.04103597, 0.0...</td>\n",
              "      <td>[[-0.114990234, -0.09863281, -0.053710938, 0.0...</td>\n",
              "      <td>[[-0.042317707, -0.020771027, -0.04103597, 0.0...</td>\n",
              "      <td>[[-0.114990234, -0.09863281, -0.053710938, 0.0...</td>\n",
              "    </tr>\n",
              "    <tr>\n",
              "      <th>2</th>\n",
              "      <td>Really a top notch place to spend a day at the...</td>\n",
              "      <td>Good location, warm and friendly staff</td>\n",
              "      <td>5</td>\n",
              "      <td>[[really, a, top, notch, place, to, spend, a, ...</td>\n",
              "      <td>[[Good, location, ,, warm, and, friendly, staff]]</td>\n",
              "      <td>[[-0.031962078, 0.053293865, 0.011444092, 0.11...</td>\n",
              "      <td>[[-0.039355468, 0.07539215, 0.0010253906, 0.04...</td>\n",
              "      <td>[[-0.031962078, 0.053293865, 0.011444092, 0.11...</td>\n",
              "      <td>[[-0.039355468, 0.07539215, 0.0010253906, 0.04...</td>\n",
              "    </tr>\n",
              "    <tr>\n",
              "      <th>3</th>\n",
              "      <td>a little noisy, there was a false fire alarm a...</td>\n",
              "      <td>nice hotel,</td>\n",
              "      <td>4</td>\n",
              "      <td>[[a, little, noisy, ,, there, was, a, false, f...</td>\n",
              "      <td>[[nice, hotel, ,]]</td>\n",
              "      <td>[[0.09769058, 0.010274251, 0.06544495, 0.01977...</td>\n",
              "      <td>[[0.092163086, 0.060180664, -0.11193848, 0.190...</td>\n",
              "      <td>[[0.09769058, 0.010274251, 0.06544495, 0.01977...</td>\n",
              "      <td>[[0.092163086, 0.060180664, -0.11193848, 0.190...</td>\n",
              "    </tr>\n",
              "    <tr>\n",
              "      <th>4</th>\n",
              "      <td>Place had too many animals and I'm allergic to...</td>\n",
              "      <td>Experience</td>\n",
              "      <td>3</td>\n",
              "      <td>[[place, had, too, many, animals, and, i, 'm, ...</td>\n",
              "      <td>[[Experience]]</td>\n",
              "      <td>[[0.056062013, 0.0070678713, -0.021950684, 0.1...</td>\n",
              "      <td>[[0.10498047, -0.025146484, -0.061767578, -0.2...</td>\n",
              "      <td>[[0.056062013, 0.0070678713, -0.021950684, 0.1...</td>\n",
              "      <td>[[0.10498047, -0.025146484, -0.061767578, -0.2...</td>\n",
              "    </tr>\n",
              "  </tbody>\n",
              "</table>\n",
              "</div>"
            ],
            "text/plain": [
              "                                              review  ...                                         title_vecs\n",
              "0  The staff was very friendly, the breakfast ver...  ...  [[0.030090332, 0.07446289, -0.17285156, 0.1264...\n",
              "1  Excellent service - very approachable and prof...  ...  [[-0.114990234, -0.09863281, -0.053710938, 0.0...\n",
              "2  Really a top notch place to spend a day at the...  ...  [[-0.039355468, 0.07539215, 0.0010253906, 0.04...\n",
              "3  a little noisy, there was a false fire alarm a...  ...  [[0.092163086, 0.060180664, -0.11193848, 0.190...\n",
              "4  Place had too many animals and I'm allergic to...  ...  [[0.10498047, -0.025146484, -0.061767578, -0.2...\n",
              "\n",
              "[5 rows x 9 columns]"
            ]
          },
          "metadata": {
            "tags": []
          },
          "execution_count": 36
        }
      ]
    },
    {
      "cell_type": "code",
      "metadata": {
        "id": "mt_bZJ7w6AtV",
        "colab_type": "code",
        "colab": {}
      },
      "source": [
        "df_train['title_tokens'] = df_train['title'].apply(tokenize)\n"
      ],
      "execution_count": 0,
      "outputs": []
    },
    {
      "cell_type": "code",
      "metadata": {
        "id": "pF8gao6j5wfJ",
        "colab_type": "code",
        "outputId": "da6400d8-4228-4afa-bf57-0e773729c573",
        "colab": {
          "base_uri": "https://localhost:8080/",
          "height": 195
        }
      },
      "source": [
        "df_test['review_tokens'] = df_test['review'].apply(tokenize)\n",
        "df_test.head()"
      ],
      "execution_count": 0,
      "outputs": [
        {
          "output_type": "execute_result",
          "data": {
            "text/html": [
              "<div>\n",
              "<style scoped>\n",
              "    .dataframe tbody tr th:only-of-type {\n",
              "        vertical-align: middle;\n",
              "    }\n",
              "\n",
              "    .dataframe tbody tr th {\n",
              "        vertical-align: top;\n",
              "    }\n",
              "\n",
              "    .dataframe thead th {\n",
              "        text-align: right;\n",
              "    }\n",
              "</style>\n",
              "<table border=\"1\" class=\"dataframe\">\n",
              "  <thead>\n",
              "    <tr style=\"text-align: right;\">\n",
              "      <th></th>\n",
              "      <th>review</th>\n",
              "      <th>title</th>\n",
              "      <th>target</th>\n",
              "      <th>review_tokens</th>\n",
              "      <th>title_tokens</th>\n",
              "    </tr>\n",
              "  </thead>\n",
              "  <tbody>\n",
              "    <tr>\n",
              "      <th>0</th>\n",
              "      <td>I am from old town, and I stayed in this hotel...</td>\n",
              "      <td>Incredible Hotel</td>\n",
              "      <td>5</td>\n",
              "      <td>[[i, am, from, old, town, ,, and, i, stayed, i...</td>\n",
              "      <td>[[Incredible, Hotel]]</td>\n",
              "    </tr>\n",
              "    <tr>\n",
              "      <th>1</th>\n",
              "      <td>We have been coming to the Ocean Park Inn for ...</td>\n",
              "      <td>We Love this beach front Inn</td>\n",
              "      <td>5</td>\n",
              "      <td>[[we, have, been, coming, to, the, ocean, park...</td>\n",
              "      <td>[[We, Love, this, beach, front, Inn]]</td>\n",
              "    </tr>\n",
              "    <tr>\n",
              "      <th>2</th>\n",
              "      <td>Perfect place for a quick get away. We had a q...</td>\n",
              "      <td>Love this place!</td>\n",
              "      <td>5</td>\n",
              "      <td>[[perfect, place, for, a, quick, get, away, .]...</td>\n",
              "      <td>[[Love, this, place, !]]</td>\n",
              "    </tr>\n",
              "    <tr>\n",
              "      <th>3</th>\n",
              "      <td>The room was not the best however, it was good...</td>\n",
              "      <td>Good For One Night Stay...</td>\n",
              "      <td>2</td>\n",
              "      <td>[[the, room, was, not, the, best, however, ,, ...</td>\n",
              "      <td>[[Good, For, One, Night, Stay, ...]]</td>\n",
              "    </tr>\n",
              "    <tr>\n",
              "      <th>4</th>\n",
              "      <td>Sous le motif d'une priode hivernale (inaccept...</td>\n",
              "      <td>Moyen</td>\n",
              "      <td>3</td>\n",
              "      <td>[[sous, le, motif, d'une, priode, hivernale, (...</td>\n",
              "      <td>[[Moyen]]</td>\n",
              "    </tr>\n",
              "  </tbody>\n",
              "</table>\n",
              "</div>"
            ],
            "text/plain": [
              "                                              review  ...                           title_tokens\n",
              "0  I am from old town, and I stayed in this hotel...  ...                  [[Incredible, Hotel]]\n",
              "1  We have been coming to the Ocean Park Inn for ...  ...  [[We, Love, this, beach, front, Inn]]\n",
              "2  Perfect place for a quick get away. We had a q...  ...               [[Love, this, place, !]]\n",
              "3  The room was not the best however, it was good...  ...   [[Good, For, One, Night, Stay, ...]]\n",
              "4  Sous le motif d'une priode hivernale (inaccept...  ...                              [[Moyen]]\n",
              "\n",
              "[5 rows x 5 columns]"
            ]
          },
          "metadata": {
            "tags": []
          },
          "execution_count": 38
        }
      ]
    },
    {
      "cell_type": "code",
      "metadata": {
        "id": "tFhoys9F6GI0",
        "colab_type": "code",
        "outputId": "06c98a10-707d-481b-abec-f3e193f4df27",
        "colab": {
          "base_uri": "https://localhost:8080/",
          "height": 195
        }
      },
      "source": [
        "df_test['title_tokens'] = df_test['title'].apply(tokenize)\n",
        "df_test.head()"
      ],
      "execution_count": 0,
      "outputs": [
        {
          "output_type": "execute_result",
          "data": {
            "text/html": [
              "<div>\n",
              "<style scoped>\n",
              "    .dataframe tbody tr th:only-of-type {\n",
              "        vertical-align: middle;\n",
              "    }\n",
              "\n",
              "    .dataframe tbody tr th {\n",
              "        vertical-align: top;\n",
              "    }\n",
              "\n",
              "    .dataframe thead th {\n",
              "        text-align: right;\n",
              "    }\n",
              "</style>\n",
              "<table border=\"1\" class=\"dataframe\">\n",
              "  <thead>\n",
              "    <tr style=\"text-align: right;\">\n",
              "      <th></th>\n",
              "      <th>review</th>\n",
              "      <th>title</th>\n",
              "      <th>target</th>\n",
              "      <th>review_tokens</th>\n",
              "      <th>title_tokens</th>\n",
              "    </tr>\n",
              "  </thead>\n",
              "  <tbody>\n",
              "    <tr>\n",
              "      <th>0</th>\n",
              "      <td>I am from old town, and I stayed in this hotel...</td>\n",
              "      <td>Incredible Hotel</td>\n",
              "      <td>5</td>\n",
              "      <td>[[i, am, from, old, town, ,, and, i, stayed, i...</td>\n",
              "      <td>[[incredible, hotel]]</td>\n",
              "    </tr>\n",
              "    <tr>\n",
              "      <th>1</th>\n",
              "      <td>We have been coming to the Ocean Park Inn for ...</td>\n",
              "      <td>We Love this beach front Inn</td>\n",
              "      <td>5</td>\n",
              "      <td>[[we, have, been, coming, to, the, ocean, park...</td>\n",
              "      <td>[[we, love, this, beach, front, inn]]</td>\n",
              "    </tr>\n",
              "    <tr>\n",
              "      <th>2</th>\n",
              "      <td>Perfect place for a quick get away. We had a q...</td>\n",
              "      <td>Love this place!</td>\n",
              "      <td>5</td>\n",
              "      <td>[[perfect, place, for, a, quick, get, away, .]...</td>\n",
              "      <td>[[love, this, place, !]]</td>\n",
              "    </tr>\n",
              "    <tr>\n",
              "      <th>3</th>\n",
              "      <td>The room was not the best however, it was good...</td>\n",
              "      <td>Good For One Night Stay...</td>\n",
              "      <td>2</td>\n",
              "      <td>[[the, room, was, not, the, best, however, ,, ...</td>\n",
              "      <td>[[good, for, one, night, stay, ...]]</td>\n",
              "    </tr>\n",
              "    <tr>\n",
              "      <th>4</th>\n",
              "      <td>Sous le motif d'une priode hivernale (inaccept...</td>\n",
              "      <td>Moyen</td>\n",
              "      <td>3</td>\n",
              "      <td>[[sous, le, motif, d'une, priode, hivernale, (...</td>\n",
              "      <td>[[moyen]]</td>\n",
              "    </tr>\n",
              "  </tbody>\n",
              "</table>\n",
              "</div>"
            ],
            "text/plain": [
              "                                              review  ...                           title_tokens\n",
              "0  I am from old town, and I stayed in this hotel...  ...                  [[incredible, hotel]]\n",
              "1  We have been coming to the Ocean Park Inn for ...  ...  [[we, love, this, beach, front, inn]]\n",
              "2  Perfect place for a quick get away. We had a q...  ...               [[love, this, place, !]]\n",
              "3  The room was not the best however, it was good...  ...   [[good, for, one, night, stay, ...]]\n",
              "4  Sous le motif d'une priode hivernale (inaccept...  ...                              [[moyen]]\n",
              "\n",
              "[5 rows x 5 columns]"
            ]
          },
          "metadata": {
            "tags": []
          },
          "execution_count": 39
        }
      ]
    },
    {
      "cell_type": "markdown",
      "metadata": {
        "id": "3IEsKY446M2N",
        "colab_type": "text"
      },
      "source": [
        "#### Vectorize"
      ]
    },
    {
      "cell_type": "code",
      "metadata": {
        "id": "1Wwwazn73MHN",
        "colab_type": "code",
        "outputId": "1a2423a4-454c-4ad9-f96e-977340fc0625",
        "colab": {
          "base_uri": "https://localhost:8080/",
          "height": 138
        }
      },
      "source": [
        "wv = api.load('word2vec-google-news-300')\n",
        "wv['king'][:10]"
      ],
      "execution_count": 0,
      "outputs": [
        {
          "output_type": "stream",
          "text": [
            "[==================================================] 100.0% 1662.8/1662.8MB downloaded\n"
          ],
          "name": "stdout"
        },
        {
          "output_type": "stream",
          "text": [
            "/usr/local/lib/python3.6/dist-packages/smart_open/smart_open_lib.py:410: UserWarning: This function is deprecated, use smart_open.open instead. See the migration notes for details: https://github.com/RaRe-Technologies/smart_open/blob/master/README.rst#migrating-to-the-new-open-function\n",
            "  'See the migration notes for details: %s' % _MIGRATION_NOTES_URL\n"
          ],
          "name": "stderr"
        },
        {
          "output_type": "execute_result",
          "data": {
            "text/plain": [
              "array([ 0.12597656,  0.02978516,  0.00860596,  0.13964844, -0.02563477,\n",
              "       -0.03613281,  0.11181641, -0.19824219,  0.05126953,  0.36328125],\n",
              "      dtype=float32)"
            ]
          },
          "metadata": {
            "tags": []
          },
          "execution_count": 11
        }
      ]
    },
    {
      "cell_type": "code",
      "metadata": {
        "id": "PyZB1TkP3OwX",
        "colab_type": "code",
        "colab": {}
      },
      "source": [
        "def vectorize(sent, wv):\n",
        "  sent_vec = []\n",
        "  for w in sent:\n",
        "    try:\n",
        "      vec = wv[w]\n",
        "      sent_vec.append(vec)\n",
        "    except KeyError:\n",
        "      continue\n",
        "  if sent_vec:\n",
        "    return np.mean(np.array(sent_vec), axis=0)\n",
        "  else:\n",
        "    return np.zeros(300)"
      ],
      "execution_count": 0,
      "outputs": []
    },
    {
      "cell_type": "code",
      "metadata": {
        "id": "JTKIK0bW52iJ",
        "colab_type": "code",
        "colab": {}
      },
      "source": [
        "df_train['review_vecs'] = df_train['review_tokens'].apply(lambda x: [vectorize(sent, wv) for sent in x])"
      ],
      "execution_count": 0,
      "outputs": []
    },
    {
      "cell_type": "code",
      "metadata": {
        "id": "uWbPSmwZ6l0r",
        "colab_type": "code",
        "colab": {}
      },
      "source": [
        "df_train['title_vecs'] = df_train['title_tokens'].apply(lambda x: [vectorize(sent, wv) for sent in x])"
      ],
      "execution_count": 0,
      "outputs": []
    },
    {
      "cell_type": "code",
      "metadata": {
        "id": "blAA7je16qdq",
        "colab_type": "code",
        "outputId": "d32127f0-000f-4092-f8c9-6345007f92fe",
        "colab": {
          "base_uri": "https://localhost:8080/",
          "height": 754
        }
      },
      "source": [
        "df_train['review_vec'] = df_train['review_vecs'].apply(lambda x: np.mean(np.array(x), axis=0))\n",
        "df_train['title_vec'] = df_train['title_vecs'].apply(lambda x: np.mean(np.array(x), axis=0))\n",
        "df_train.head()"
      ],
      "execution_count": 0,
      "outputs": [
        {
          "output_type": "execute_result",
          "data": {
            "text/html": [
              "<div>\n",
              "<style scoped>\n",
              "    .dataframe tbody tr th:only-of-type {\n",
              "        vertical-align: middle;\n",
              "    }\n",
              "\n",
              "    .dataframe tbody tr th {\n",
              "        vertical-align: top;\n",
              "    }\n",
              "\n",
              "    .dataframe thead th {\n",
              "        text-align: right;\n",
              "    }\n",
              "</style>\n",
              "<table border=\"1\" class=\"dataframe\">\n",
              "  <thead>\n",
              "    <tr style=\"text-align: right;\">\n",
              "      <th></th>\n",
              "      <th>review</th>\n",
              "      <th>title</th>\n",
              "      <th>target</th>\n",
              "      <th>review_tokens</th>\n",
              "      <th>title_tokens</th>\n",
              "      <th>review_vec</th>\n",
              "      <th>title_vec</th>\n",
              "      <th>review_vecs</th>\n",
              "      <th>title_vecs</th>\n",
              "    </tr>\n",
              "  </thead>\n",
              "  <tbody>\n",
              "    <tr>\n",
              "      <th>0</th>\n",
              "      <td>The staff was very friendly, the breakfast ver...</td>\n",
              "      <td>Walker Gem</td>\n",
              "      <td>5</td>\n",
              "      <td>[[the, staff, was, very, friendly, ,, the, bre...</td>\n",
              "      <td>[[walker, gem]]</td>\n",
              "      <td>[-0.027158948, 0.043372687, -0.040174697, 0.12...</td>\n",
              "      <td>[0.1439209, 0.0078125, -0.10253906, 0.1977539,...</td>\n",
              "      <td>[[0.0011528863, 0.07189348, -0.03542752, 0.105...</td>\n",
              "      <td>[[0.1439209, 0.0078125, -0.10253906, 0.1977539...</td>\n",
              "    </tr>\n",
              "    <tr>\n",
              "      <th>1</th>\n",
              "      <td>Excellent service - very approachable and prof...</td>\n",
              "      <td>Excellent Service</td>\n",
              "      <td>4</td>\n",
              "      <td>[[excellent, service, -, very, approachable, a...</td>\n",
              "      <td>[[excellent, service]]</td>\n",
              "      <td>[-0.024286542, 0.031070312, 0.013583774, 0.104...</td>\n",
              "      <td>[-0.072509766, -0.022781372, -0.040283203, 0.0...</td>\n",
              "      <td>[[-0.05834961, -0.008141835, -0.039082844, 0.0...</td>\n",
              "      <td>[[-0.072509766, -0.022781372, -0.040283203, 0....</td>\n",
              "    </tr>\n",
              "    <tr>\n",
              "      <th>2</th>\n",
              "      <td>Really a top notch place to spend a day at the...</td>\n",
              "      <td>Good location, warm and friendly staff</td>\n",
              "      <td>5</td>\n",
              "      <td>[[really, a, top, notch, place, to, spend, a, ...</td>\n",
              "      <td>[[good, location, ,, warm, and, friendly, staff]]</td>\n",
              "      <td>[-0.035618663, 0.0314447, -0.002783648, 0.1490...</td>\n",
              "      <td>[-0.009472656, 0.102833554, 0.006616211, 0.066...</td>\n",
              "      <td>[[-0.028625488, 0.053212482, 0.0041097007, 0.1...</td>\n",
              "      <td>[[-0.009472656, 0.102833554, 0.006616211, 0.06...</td>\n",
              "    </tr>\n",
              "    <tr>\n",
              "      <th>3</th>\n",
              "      <td>a little noisy, there was a false fire alarm a...</td>\n",
              "      <td>nice hotel,</td>\n",
              "      <td>4</td>\n",
              "      <td>[[a, little, noisy, ,, there, was, a, false, f...</td>\n",
              "      <td>[[nice, hotel, ,]]</td>\n",
              "      <td>[0.09769058, 0.010274251, 0.06544495, 0.019775...</td>\n",
              "      <td>[0.092163086, 0.060180664, -0.11193848, 0.1904...</td>\n",
              "      <td>[[0.09769058, 0.010274251, 0.06544495, 0.01977...</td>\n",
              "      <td>[[0.092163086, 0.060180664, -0.11193848, 0.190...</td>\n",
              "    </tr>\n",
              "    <tr>\n",
              "      <th>4</th>\n",
              "      <td>Place had too many animals and I'm allergic to...</td>\n",
              "      <td>Experience</td>\n",
              "      <td>3</td>\n",
              "      <td>[[place, had, too, many, animals, and, i, 'm, ...</td>\n",
              "      <td>[[experience]]</td>\n",
              "      <td>[-0.0010496117, 0.0051407665, 0.00068507064, 0...</td>\n",
              "      <td>[0.037841797, -0.060058594, -0.05810547, -0.15...</td>\n",
              "      <td>[[0.0318042, 0.014367675, -0.028864747, 0.1096...</td>\n",
              "      <td>[[0.037841797, -0.060058594, -0.05810547, -0.1...</td>\n",
              "    </tr>\n",
              "    <tr>\n",
              "      <th>...</th>\n",
              "      <td>...</td>\n",
              "      <td>...</td>\n",
              "      <td>...</td>\n",
              "      <td>...</td>\n",
              "      <td>...</td>\n",
              "      <td>...</td>\n",
              "      <td>...</td>\n",
              "      <td>...</td>\n",
              "      <td>...</td>\n",
              "    </tr>\n",
              "    <tr>\n",
              "      <th>48187</th>\n",
              "      <td>A friend of mine always books the cheapest, ba...</td>\n",
              "      <td>Comfy, cozy but oh, so grand!</td>\n",
              "      <td>4</td>\n",
              "      <td>[[a, friend, of, mine, always, books, the, che...</td>\n",
              "      <td>[[comfy, ,, cozy, but, oh, ,, so, grand, !]]</td>\n",
              "      <td>[0.03158905, 0.015115458, 0.07060936, 0.144346...</td>\n",
              "      <td>[-0.019195557, 0.00801595, -0.04177348, 0.1196...</td>\n",
              "      <td>[[0.086649574, 0.03970337, 0.061780293, 0.1354...</td>\n",
              "      <td>[[-0.019195557, 0.00801595, -0.04177348, 0.119...</td>\n",
              "    </tr>\n",
              "    <tr>\n",
              "      <th>48188</th>\n",
              "      <td>Stayed here with my family over Spring Break i...</td>\n",
              "      <td>Great location and price for family lodging.</td>\n",
              "      <td>4</td>\n",
              "      <td>[[stayed, here, with, my, family, over, spring...</td>\n",
              "      <td>[[great, location, and, price, for, family, lo...</td>\n",
              "      <td>[0.011766577, 0.02166656, 0.023084704, 0.09776...</td>\n",
              "      <td>[0.049184162, -0.03885905, -0.06154378, 0.1077...</td>\n",
              "      <td>[[0.020019531, 0.06564941, -0.046057127, 0.113...</td>\n",
              "      <td>[[0.049184162, -0.03885905, -0.06154378, 0.107...</td>\n",
              "    </tr>\n",
              "    <tr>\n",
              "      <th>48189</th>\n",
              "      <td>One word AWFUL and the pool was closed</td>\n",
              "      <td>Good hotel in a quiet part of Memphis</td>\n",
              "      <td>2</td>\n",
              "      <td>[[one, word, awful, and, the, pool, was, closed]]</td>\n",
              "      <td>[[good, hotel, in, a, quiet, part, of, memphis]]</td>\n",
              "      <td>[0.0778983, 0.04927281, 0.15257046, 0.04976981...</td>\n",
              "      <td>[0.042892456, 0.06477865, 0.0069885254, 0.1218...</td>\n",
              "      <td>[[0.0778983, 0.04927281, 0.15257046, 0.0497698...</td>\n",
              "      <td>[[0.042892456, 0.06477865, 0.0069885254, 0.121...</td>\n",
              "    </tr>\n",
              "    <tr>\n",
              "      <th>48190</th>\n",
              "      <td>Never will stay here again. Dirty towels shirt...</td>\n",
              "      <td>Filthy</td>\n",
              "      <td>1</td>\n",
              "      <td>[[never, will, stay, here, again, .], [dirty, ...</td>\n",
              "      <td>[[filthy]]</td>\n",
              "      <td>[0.022657266, 0.039829355, 0.005852507, 0.0863...</td>\n",
              "      <td>[-0.16308594, 0.29492188, 0.34179688, -0.14843...</td>\n",
              "      <td>[[0.02454834, 0.046533205, 0.023486327, 0.1568...</td>\n",
              "      <td>[[-0.16308594, 0.29492188, 0.34179688, -0.1484...</td>\n",
              "    </tr>\n",
              "    <tr>\n",
              "      <th>48191</th>\n",
              "      <td>This Inn had been renovated and the staff were...</td>\n",
              "      <td>Christmas Fun!</td>\n",
              "      <td>4</td>\n",
              "      <td>[[this, inn, had, been, renovated, and, the, s...</td>\n",
              "      <td>[[christmas, fun, !]]</td>\n",
              "      <td>[0.015813477, 0.05426054, 0.02854668, 0.099741...</td>\n",
              "      <td>[-0.044921875, -0.04272461, -0.1418457, 0.2285...</td>\n",
              "      <td>[[-0.0071799536, 0.06094707, 0.01389937, 0.034...</td>\n",
              "      <td>[[-0.044921875, -0.04272461, -0.1418457, 0.228...</td>\n",
              "    </tr>\n",
              "  </tbody>\n",
              "</table>\n",
              "<p>48192 rows × 9 columns</p>\n",
              "</div>"
            ],
            "text/plain": [
              "                                                  review  ...                                         title_vecs\n",
              "0      The staff was very friendly, the breakfast ver...  ...  [[0.1439209, 0.0078125, -0.10253906, 0.1977539...\n",
              "1      Excellent service - very approachable and prof...  ...  [[-0.072509766, -0.022781372, -0.040283203, 0....\n",
              "2      Really a top notch place to spend a day at the...  ...  [[-0.009472656, 0.102833554, 0.006616211, 0.06...\n",
              "3      a little noisy, there was a false fire alarm a...  ...  [[0.092163086, 0.060180664, -0.11193848, 0.190...\n",
              "4      Place had too many animals and I'm allergic to...  ...  [[0.037841797, -0.060058594, -0.05810547, -0.1...\n",
              "...                                                  ...  ...                                                ...\n",
              "48187  A friend of mine always books the cheapest, ba...  ...  [[-0.019195557, 0.00801595, -0.04177348, 0.119...\n",
              "48188  Stayed here with my family over Spring Break i...  ...  [[0.049184162, -0.03885905, -0.06154378, 0.107...\n",
              "48189             One word AWFUL and the pool was closed  ...  [[0.042892456, 0.06477865, 0.0069885254, 0.121...\n",
              "48190  Never will stay here again. Dirty towels shirt...  ...  [[-0.16308594, 0.29492188, 0.34179688, -0.1484...\n",
              "48191  This Inn had been renovated and the staff were...  ...  [[-0.044921875, -0.04272461, -0.1418457, 0.228...\n",
              "\n",
              "[48192 rows x 9 columns]"
            ]
          },
          "metadata": {
            "tags": []
          },
          "execution_count": 43
        }
      ]
    },
    {
      "cell_type": "code",
      "metadata": {
        "colab_type": "code",
        "id": "vp0I2U4g7zDi",
        "colab": {}
      },
      "source": [
        "df_test['review_vecs'] = df_test['review_tokens'].apply(lambda x: [vectorize(sent, wv) for sent in x])"
      ],
      "execution_count": 0,
      "outputs": []
    },
    {
      "cell_type": "code",
      "metadata": {
        "colab_type": "code",
        "id": "JXPXILuV7zDp",
        "colab": {}
      },
      "source": [
        "df_test['title_vecs'] = df_test['title_tokens'].apply(lambda x: [vectorize(sent, wv) for sent in x])"
      ],
      "execution_count": 0,
      "outputs": []
    },
    {
      "cell_type": "code",
      "metadata": {
        "colab_type": "code",
        "outputId": "1d397799-6ff7-4913-995b-6617c4edc3c6",
        "id": "OAjL7-Ns7zDr",
        "colab": {
          "base_uri": "https://localhost:8080/",
          "height": 363
        }
      },
      "source": [
        "df_test['review_vec'] = df_test['review_vecs'].apply(lambda x: np.mean(np.array(x), axis=0))\n",
        "df_test['title_vec'] = df_test['title_vecs'].apply(lambda x: np.mean(np.array(x), axis=0))\n",
        "df_test.head()"
      ],
      "execution_count": 0,
      "outputs": [
        {
          "output_type": "execute_result",
          "data": {
            "text/html": [
              "<div>\n",
              "<style scoped>\n",
              "    .dataframe tbody tr th:only-of-type {\n",
              "        vertical-align: middle;\n",
              "    }\n",
              "\n",
              "    .dataframe tbody tr th {\n",
              "        vertical-align: top;\n",
              "    }\n",
              "\n",
              "    .dataframe thead th {\n",
              "        text-align: right;\n",
              "    }\n",
              "</style>\n",
              "<table border=\"1\" class=\"dataframe\">\n",
              "  <thead>\n",
              "    <tr style=\"text-align: right;\">\n",
              "      <th></th>\n",
              "      <th>review</th>\n",
              "      <th>title</th>\n",
              "      <th>target</th>\n",
              "      <th>review_tokens</th>\n",
              "      <th>title_tokens</th>\n",
              "      <th>review_vecs</th>\n",
              "      <th>title_vecs</th>\n",
              "      <th>review_vec</th>\n",
              "      <th>title_vec</th>\n",
              "    </tr>\n",
              "  </thead>\n",
              "  <tbody>\n",
              "    <tr>\n",
              "      <th>0</th>\n",
              "      <td>I am from old town, and I stayed in this hotel...</td>\n",
              "      <td>Incredible Hotel</td>\n",
              "      <td>5</td>\n",
              "      <td>[[i, am, from, old, town, ,, and, i, stayed, i...</td>\n",
              "      <td>[[incredible, hotel]]</td>\n",
              "      <td>[[0.012062073, 0.02976662, 0.033480644, 0.0908...</td>\n",
              "      <td>[[0.07043457, 0.040649414, -0.09338379, 0.0153...</td>\n",
              "      <td>[0.023384497, 0.03565883, 0.024499038, 0.07690...</td>\n",
              "      <td>[0.07043457, 0.040649414, -0.09338379, 0.01539...</td>\n",
              "    </tr>\n",
              "    <tr>\n",
              "      <th>1</th>\n",
              "      <td>We have been coming to the Ocean Park Inn for ...</td>\n",
              "      <td>We Love this beach front Inn</td>\n",
              "      <td>5</td>\n",
              "      <td>[[we, have, been, coming, to, the, ocean, park...</td>\n",
              "      <td>[[we, love, this, beach, front, inn]]</td>\n",
              "      <td>[[0.0007873535, 0.05806885, -0.002355957, 0.06...</td>\n",
              "      <td>[[0.11916097, 0.017417273, -0.027191162, 0.098...</td>\n",
              "      <td>[0.0041688452, 0.050492834, 0.0048736045, 0.14...</td>\n",
              "      <td>[0.11916097, 0.017417273, -0.027191162, 0.0980...</td>\n",
              "    </tr>\n",
              "    <tr>\n",
              "      <th>2</th>\n",
              "      <td>Perfect place for a quick get away. We had a q...</td>\n",
              "      <td>Love this place!</td>\n",
              "      <td>5</td>\n",
              "      <td>[[perfect, place, for, a, quick, get, away, .]...</td>\n",
              "      <td>[[love, this, place, !]]</td>\n",
              "      <td>[[0.03937785, -0.011301677, -0.06715902, 0.041...</td>\n",
              "      <td>[[0.0017903646, 0.063802086, 0.0120442705, 0.0...</td>\n",
              "      <td>[0.012304458, 0.0050101005, -0.016735824, 0.08...</td>\n",
              "      <td>[0.0017903646, 0.063802086, 0.0120442705, 0.07...</td>\n",
              "    </tr>\n",
              "    <tr>\n",
              "      <th>3</th>\n",
              "      <td>The room was not the best however, it was good...</td>\n",
              "      <td>Good For One Night Stay...</td>\n",
              "      <td>2</td>\n",
              "      <td>[[the, room, was, not, the, best, however, ,, ...</td>\n",
              "      <td>[[good, for, one, night, stay, ...]]</td>\n",
              "      <td>[[0.020104302, 0.053670987, 0.049757216, 0.067...</td>\n",
              "      <td>[[0.016113281, -0.027636718, 0.00847168, 0.107...</td>\n",
              "      <td>[0.025097786, 0.03321987, 0.02929426, 0.104737...</td>\n",
              "      <td>[0.016113281, -0.027636718, 0.00847168, 0.1076...</td>\n",
              "    </tr>\n",
              "    <tr>\n",
              "      <th>4</th>\n",
              "      <td>Sous le motif d'une priode hivernale (inaccept...</td>\n",
              "      <td>Moyen</td>\n",
              "      <td>3</td>\n",
              "      <td>[[sous, le, motif, d'une, priode, hivernale, (...</td>\n",
              "      <td>[[moyen]]</td>\n",
              "      <td>[[-0.04288025, 0.05625814, 0.076776125, 0.0677...</td>\n",
              "      <td>[[0.012145996, 0.032958984, 0.028808594, 0.108...</td>\n",
              "      <td>[-0.054073587, 0.18568115, 0.10359396, 0.08268...</td>\n",
              "      <td>[0.012145996, 0.032958984, 0.028808594, 0.1083...</td>\n",
              "    </tr>\n",
              "  </tbody>\n",
              "</table>\n",
              "</div>"
            ],
            "text/plain": [
              "                                              review  ...                                          title_vec\n",
              "0  I am from old town, and I stayed in this hotel...  ...  [0.07043457, 0.040649414, -0.09338379, 0.01539...\n",
              "1  We have been coming to the Ocean Park Inn for ...  ...  [0.11916097, 0.017417273, -0.027191162, 0.0980...\n",
              "2  Perfect place for a quick get away. We had a q...  ...  [0.0017903646, 0.063802086, 0.0120442705, 0.07...\n",
              "3  The room was not the best however, it was good...  ...  [0.016113281, -0.027636718, 0.00847168, 0.1076...\n",
              "4  Sous le motif d'une priode hivernale (inaccept...  ...  [0.012145996, 0.032958984, 0.028808594, 0.1083...\n",
              "\n",
              "[5 rows x 9 columns]"
            ]
          },
          "metadata": {
            "tags": []
          },
          "execution_count": 46
        }
      ]
    },
    {
      "cell_type": "markdown",
      "metadata": {
        "id": "tcHTsolY8BX9",
        "colab_type": "text"
      },
      "source": [
        "#### Separate x, y"
      ]
    },
    {
      "cell_type": "code",
      "metadata": {
        "id": "jJJCYTdd8Ods",
        "colab_type": "code",
        "outputId": "dc2e053a-bd2d-452e-c733-e1d6092b7bbd",
        "colab": {
          "base_uri": "https://localhost:8080/",
          "height": 34
        }
      },
      "source": [
        "y_train = df_train.target.values\n",
        "title_vecs = np.vstack(df_train.title_vec.values)\n",
        "review_vecs =  np.vstack(df_train.review_vec.values)\n",
        "X_train = np.hstack([title_vecs, review_vecs])\n",
        "X_train.shape"
      ],
      "execution_count": 0,
      "outputs": [
        {
          "output_type": "execute_result",
          "data": {
            "text/plain": [
              "(48192, 600)"
            ]
          },
          "metadata": {
            "tags": []
          },
          "execution_count": 66
        }
      ]
    },
    {
      "cell_type": "code",
      "metadata": {
        "id": "liFAlA8s8tka",
        "colab_type": "code",
        "outputId": "d19da659-6685-431a-e49b-ed162634f292",
        "colab": {
          "base_uri": "https://localhost:8080/",
          "height": 34
        }
      },
      "source": [
        "y_test = df_test.target.values\n",
        "test_title_vecs = np.vstack(df_test.title_vec.values)\n",
        "test_review_vecs =  np.vstack(df_test.review_vec.values)\n",
        "X_test = np.hstack([test_title_vecs, test_review_vecs])\n",
        "X_test.shape"
      ],
      "execution_count": 0,
      "outputs": [
        {
          "output_type": "execute_result",
          "data": {
            "text/plain": [
              "(5355, 600)"
            ]
          },
          "metadata": {
            "tags": []
          },
          "execution_count": 65
        }
      ]
    },
    {
      "cell_type": "markdown",
      "metadata": {
        "id": "1NRLXSLn8ED6",
        "colab_type": "text"
      },
      "source": [
        "#### Model"
      ]
    },
    {
      "cell_type": "code",
      "metadata": {
        "id": "iddv6fwDA4la",
        "colab_type": "code",
        "outputId": "b4a62e6b-fd85-47db-d0f3-b50ea8bc2913",
        "colab": {
          "base_uri": "https://localhost:8080/",
          "height": 238
        }
      },
      "source": [
        "%%time\n",
        "model = GridSearchCV(LinearSVC(penalty='l2', multi_class='ovr', random_state=SEED), \n",
        "                              {'C': np.logspace(-4, 3, 6)}, \n",
        "                              cv=3, scoring='f1_macro', n_jobs=-1, verbose=1)\n",
        "model.fit(X_train, y_train)\n",
        "print(model.best_params_)\n",
        "\n",
        "print('train', metrics.f1_score(y_train, model.predict(X_train), average='macro'))\n",
        "print('test', metrics.f1_score(y_test, model.predict(X_test), average='macro'))"
      ],
      "execution_count": 0,
      "outputs": [
        {
          "output_type": "stream",
          "text": [
            "Fitting 3 folds for each of 6 candidates, totalling 18 fits\n"
          ],
          "name": "stdout"
        },
        {
          "output_type": "stream",
          "text": [
            "[Parallel(n_jobs=-1)]: Using backend LokyBackend with 2 concurrent workers.\n",
            "/usr/local/lib/python3.6/dist-packages/joblib/externals/loky/process_executor.py:706: UserWarning: A worker stopped while some jobs were given to the executor. This can be caused by a too short worker timeout or by a memory leak.\n",
            "  \"timeout or by a memory leak.\", UserWarning\n",
            "[Parallel(n_jobs=-1)]: Done  18 out of  18 | elapsed: 34.9min finished\n"
          ],
          "name": "stderr"
        },
        {
          "output_type": "stream",
          "text": [
            "{'C': 1.584893192461111}\n",
            "train 0.5136214045537899\n",
            "test 0.4635723432254101\n",
            "CPU times: user 6min 6s, sys: 730 ms, total: 6min 6s\n",
            "Wall time: 40min 58s\n"
          ],
          "name": "stdout"
        },
        {
          "output_type": "stream",
          "text": [
            "/usr/local/lib/python3.6/dist-packages/sklearn/svm/_base.py:947: ConvergenceWarning: Liblinear failed to converge, increase the number of iterations.\n",
            "  \"the number of iterations.\", ConvergenceWarning)\n"
          ],
          "name": "stderr"
        }
      ]
    },
    {
      "cell_type": "code",
      "metadata": {
        "id": "-u3vMdes4Ti1",
        "colab_type": "code",
        "outputId": "767caf1b-c243-4111-8618-154a7ac311d6",
        "colab": {
          "base_uri": "https://localhost:8080/",
          "height": 118
        }
      },
      "source": [
        "%%time\n",
        "model = GridSearchCV(RandomForestClassifier(random_state=SEED), \n",
        "                                    {'n_estimators': [50, 100], 'max_depth': [None, 25, 50]}, \n",
        "                                    cv=3, scoring='f1_macro', n_jobs=-1, verbose=1)\n",
        "model.fit(X_train, y_train)\n",
        "print(model.best_params_)\n",
        "\n",
        "\n",
        "print('train', metrics.f1_score(y_train, model.predict(X_train), average='macro'))\n",
        "print('test', metrics.f1_score(y_test, model.predict(X_test), average='macro'))"
      ],
      "execution_count": 0,
      "outputs": [
        {
          "output_type": "stream",
          "text": [
            "Fitting 3 folds for each of 6 candidates, totalling 18 fits\n"
          ],
          "name": "stdout"
        },
        {
          "output_type": "stream",
          "text": [
            "[Parallel(n_jobs=-1)]: Using backend LokyBackend with 2 concurrent workers.\n",
            "[Parallel(n_jobs=-1)]: Done  18 out of  18 | elapsed: 13.7min finished\n"
          ],
          "name": "stderr"
        },
        {
          "output_type": "stream",
          "text": [
            "{'max_depth': 25, 'n_estimators': 100}\n",
            "train 0.9923652824280733\n",
            "test 0.41473780511074576\n"
          ],
          "name": "stdout"
        }
      ]
    }
  ]
}