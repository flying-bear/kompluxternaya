{
  "nbformat": 4,
  "nbformat_minor": 0,
  "metadata": {
    "kernelspec": {
      "name": "python3",
      "display_name": "Python 3"
    },
    "language_info": {
      "codemirror_mode": {
        "name": "ipython",
        "version": 3
      },
      "file_extension": ".py",
      "mimetype": "text/x-python",
      "name": "python",
      "nbconvert_exporter": "python",
      "pygments_lexer": "ipython3",
      "version": "3.7.1"
    },
    "colab": {
      "name": "assignment_1.ipynb",
      "provenance": [],
      "collapsed_sections": [],
      "include_colab_link": true
    },
    "accelerator": "GPU"
  },
  "cells": [
    {
      "cell_type": "markdown",
      "metadata": {
        "id": "view-in-github",
        "colab_type": "text"
      },
      "source": [
        "<a href=\"https://colab.research.google.com/github/flying-bear/kompluxternaya/blob/master/assignment_1.ipynb\" target=\"_parent\"><img src=\"https://colab.research.google.com/assets/colab-badge.svg\" alt=\"Open In Colab\"/></a>"
      ]
    },
    {
      "cell_type": "markdown",
      "metadata": {
        "id": "uSsqcR7Tb9DB",
        "colab_type": "text"
      },
      "source": [
        "\n",
        "# Assignment 1\n",
        "\n",
        "Using text http://www.gutenberg.org/files/2600/2600-0.txt\n",
        "1. Make text lowercase and remove all punctuation except spaces and dots.\n",
        "2. Tokenize text by BPE with vocab_size = 100\n",
        "3. Train 3-gram language model with laplace smoothing $\\delta=1$\n",
        "4. Using beam search with k=10 generate sequences of length=10 conditioned on provided inputs. Treat dots as terminal tokens.\n",
        "5. Calculate perplexity of the language model for the first sentence."
      ]
    },
    {
      "cell_type": "code",
      "metadata": {
        "id": "e1v5OMqAKhAq",
        "colab_type": "code",
        "colab": {}
      },
      "source": [
        "import nltk\n",
        "import numpy as np\n",
        "import re\n",
        "\n",
        "from collections import Counter\n",
        "from google.colab import drive\n",
        "from sklearn.base import TransformerMixin"
      ],
      "execution_count": 0,
      "outputs": []
    },
    {
      "cell_type": "code",
      "metadata": {
        "id": "fn5f4JDpb9DE",
        "colab_type": "code",
        "colab": {
          "base_uri": "https://localhost:8080/",
          "height": 34
        },
        "outputId": "9624b067-97b7-41ce-e3a0-59d7ee3fa63b"
      },
      "source": [
        "drive.mount('/content/gdrive')"
      ],
      "execution_count": 82,
      "outputs": [
        {
          "output_type": "stream",
          "text": [
            "Drive already mounted at /content/gdrive; to attempt to forcibly remount, call drive.mount(\"/content/gdrive\", force_remount=True).\n"
          ],
          "name": "stdout"
        }
      ]
    },
    {
      "cell_type": "code",
      "metadata": {
        "id": "9Vvv269v5pUN",
        "colab_type": "code",
        "colab": {
          "base_uri": "https://localhost:8080/",
          "height": 34
        },
        "outputId": "efa049c7-5a20-479d-b34a-50343a4e2e43"
      },
      "source": [
        "root_path = 'gdrive/My Drive/studies/HSE/prog/kompluxternaya'\n",
        "with open(root_path+'/'+'peace.txt', 'r', encoding='utf-8') as f:\n",
        "  text = f.read()[2:]\n",
        "print(len(text))"
      ],
      "execution_count": 87,
      "outputs": [
        {
          "output_type": "stream",
          "text": [
            "3227579\n"
          ],
          "name": "stdout"
        }
      ]
    },
    {
      "cell_type": "code",
      "metadata": {
        "id": "-_Fi2UAjb9Dc",
        "colab_type": "code",
        "colab": {}
      },
      "source": [
        "def preprocess_text(text):\n",
        "    # TODO\n",
        "    # make lowercase\n",
        "    text = text.lower()\n",
        "    # replace all punctuation except dots with spaces\n",
        "    pattern = '\\]|!|\"|#|\\$|%|&|\\'|\\(|\\)|\\*|\\+|,|-|/|:|;|<|=|>|\\?|@|\\[|\\\\|^|_|`|{|\\||}|~|”|“|—|‘|’'\n",
        "    text = re.sub(pattern, ' ', text)\n",
        "    # collapse multiple spaces into one '   ' -> ' '\n",
        "    text = re.sub('\\s+', ' ', text)\n",
        "    return text\n",
        "\n",
        "text = preprocess_text(text)\n",
        "assert len(text) == 3141169"
      ],
      "execution_count": 0,
      "outputs": []
    },
    {
      "cell_type": "code",
      "metadata": {
        "id": "-_YETckkb9Dj",
        "colab_type": "code",
        "colab": {}
      },
      "source": [
        "text = text.split('.')\n",
        "text = [x.strip() for x in text]"
      ],
      "execution_count": 0,
      "outputs": []
    },
    {
      "cell_type": "code",
      "metadata": {
        "id": "HeRdojT9b9Do",
        "colab_type": "code",
        "colab": {}
      },
      "source": [
        "def list_to_bigrams(l, bigrams=Counter()):\n",
        "  \"\"\"\n",
        "  transforms a list of lists into a counter of their pairs (tuples) across the lists\n",
        "  l: a list of lists of integers or strings\n",
        "  \"\"\"\n",
        "  for i in range(len(l)):\n",
        "    bigrams.update((x, y) for x, y in zip(*[l[i][j:] for j in range(2)]))\n",
        "  return bigrams"
      ],
      "execution_count": 0,
      "outputs": []
    },
    {
      "cell_type": "code",
      "metadata": {
        "id": "wrKNPKbSZKbF",
        "colab_type": "code",
        "colab": {}
      },
      "source": [
        "def update_token(text, token, token_id):\n",
        "  \"\"\"\n",
        "  modifies text, all instances of the token (element pairs) in text are replaced by token_id\n",
        "  text: list of lists of integers\n",
        "  token: integer tuple\n",
        "  token_id: the id of the given token, integer\n",
        "  \"\"\"\n",
        "  text_new = [inner_list[:] for inner_list in text]\n",
        "  for i, sent in enumerate(text):\n",
        "    deletions = 0\n",
        "    for j, (v, w) in enumerate(zip(sent[:-1], sent[1:])):\n",
        "      if (v, w) == token:\n",
        "        text_new[i][j-deletions] = token_id\n",
        "        del text_new[i][j-deletions+1]\n",
        "        deletions += 1\n",
        "  return text_new"
      ],
      "execution_count": 0,
      "outputs": []
    },
    {
      "cell_type": "code",
      "metadata": {
        "id": "K7xGXMYyrtyh",
        "colab_type": "code",
        "outputId": "128b325e-b64e-4873-d1f2-ea08005084fd",
        "colab": {
          "base_uri": "https://localhost:8080/",
          "height": 51
        }
      },
      "source": [
        "t = ['бля бля бл', ' ', 'бля']\n",
        "test_itos = list(set(''.join(t))) # list letters\n",
        "test_stoi = dict(zip(test_itos, range(len(test_itos)))) # dict of letters and their ids\n",
        "t = [[test_stoi[x] for x in t[i]] for i in range(len(t))] # replace letters with thir ids (str to list)\n",
        "test_vocab_size = 12\n",
        "while len(test_itos) < test_vocab_size:\n",
        "    bigrams = list_to_bigrams(t) # get text bigrams\n",
        "    if bigrams.most_common(1):\n",
        "      new_token = bigrams.most_common(1)[0][0] # find most common bigram\n",
        "      new_id = len(test_itos)\n",
        "      test_itos.append(new_token)\n",
        "      test_stoi[new_token] = new_id\n",
        "      # find occurences of the new_token in the text and replace them with new_id\n",
        "      t = update_token(t, new_token, new_id)\n",
        "    else:\n",
        "      break\n",
        "print(t)\n",
        "print(test_itos)"
      ],
      "execution_count": 8,
      "outputs": [
        {
          "output_type": "stream",
          "text": [
            "[[10, 10, 4], [0], [7]]\n",
            "[' ', 'б', 'я', 'л', (1, 3), (1, 3), (2, 0), (4, 2), (4, 2), (4, 2), (4, 6), (4, 6)]\n"
          ],
          "name": "stdout"
        }
      ]
    },
    {
      "cell_type": "code",
      "metadata": {
        "id": "AUbIJjBAWGqR",
        "colab_type": "code",
        "outputId": "413f74a1-1c50-42fc-e4d8-0c0977070769",
        "colab": {
          "base_uri": "https://localhost:8080/",
          "height": 34
        }
      },
      "source": [
        "def recursive_token_lookup(tok, itos): #tok int or tuple\n",
        "  if type(tok) == int:\n",
        "    content = itos[tok]\n",
        "    if type(content) == str:\n",
        "      return content\n",
        "    else:\n",
        "      return recursive_token_lookup(content, itos)\n",
        "  elif type(tok) == tuple:\n",
        "    return recursive_token_lookup(tok[0], itos) + recursive_token_lookup(tok[1], itos)\n",
        "  \n",
        "recursive_token_lookup(7, test_itos)"
      ],
      "execution_count": 9,
      "outputs": [
        {
          "output_type": "execute_result",
          "data": {
            "text/plain": [
              "'бля'"
            ]
          },
          "metadata": {
            "tags": []
          },
          "execution_count": 9
        }
      ]
    },
    {
      "cell_type": "code",
      "metadata": {
        "scrolled": true,
        "id": "1CNokZ4ub9Dx",
        "colab_type": "code",
        "colab": {}
      },
      "source": [
        "class BPE(TransformerMixin):\n",
        "    def __init__(self, vocab_size=100):\n",
        "        super(BPE, self).__init__()\n",
        "        self.vocab_size = vocab_size\n",
        "        # index to token\n",
        "        self.itos = []\n",
        "        # token to index\n",
        "        self.stoi = {}\n",
        "\n",
        "    def fit(self, text):\n",
        "        \"\"\"\n",
        "        fits \n",
        "        - self.itos (a list of strings (symbols) and integer tuples (most frequent bigrams while vocabulary does not exceed vocab_size\n",
        "                      each symbol/bigram is indexed by its place in the list) )\n",
        "        - self.stoi (a dict of symbols and bigrams to thir indicies in the self.stoi list)\n",
        "        - text (symbols replaced by thir ids, bigrams of ids replaced by their ids\n",
        "        text: list of strings\n",
        "        \"\"\"\n",
        "        # tokenize text by symbols and fill in self.itos and self.stoi\n",
        "        self.itos = list(set(''.join(text))) # list letters\n",
        "        self.stoi = dict(zip(self.itos, range(len(self.itos)))) # dict of letters and their ids\n",
        "        text = [[self.stoi[x] for x in text[i]] for i in range(len(text))] # replace letters with thir ids (str to list)\n",
        "        \n",
        "        while len(self.itos) < self.vocab_size:\n",
        "            bigrams = list_to_bigrams(text) # get text bigrams\n",
        "            if bigrams.most_common(1):\n",
        "              new_token = bigrams.most_common(1)[0][0] # find most common bigram\n",
        "              new_id = len(self.itos)\n",
        "              self.itos.append(new_token)\n",
        "              self.stoi[new_token] = new_id\n",
        "              # find occurences of the new_token in the text and replace them with new_id\n",
        "              text = update_token(text, new_token, new_id)\n",
        "            else:\n",
        "              break\n",
        "        return self\n",
        "    \n",
        "    def transform(self, text):\n",
        "        \"\"\"\n",
        "        convert text to a sequence of symbol ids then replaces bigrams of ids with their indicies in self.stoi\n",
        "        text: list of strings\n",
        "        \"\"\"\n",
        "        text_in_vocabulary = [[symbol for symbol in sent if symbol in self.itos] for sent in text] # exclude out of vocabulary symbols\n",
        "        text = [[self.stoi[letter] for letter in sent] for sent in text_in_vocabulary] # tokenize text by symbols using self.stoi\n",
        "        for token_id, token in enumerate(self.itos): # find occurences of a complex token in the text and replace them with token_id\n",
        "            text = update_token(text, token, token_id)    \n",
        "        return text\n",
        "    \n",
        "    def decode_token(self, tok):\n",
        "        \"\"\"\n",
        "        returns a text coded by the tok\n",
        "        tok: either an int - id, or a tuple - pair of ids)\n",
        "        \"\"\"\n",
        "        def recursive_token_lookup(token): #token int or tuple\n",
        "          if type(token) == int:\n",
        "            content = self.itos[token]\n",
        "            if type(content) == str:\n",
        "              return content # only returns strings\n",
        "            else:\n",
        "              return recursive_token_lookup(content) # continue lookup on the tuple that was found\n",
        "          elif type(token) == tuple:\n",
        "            return recursive_token_lookup(token[0]) + recursive_token_lookup(token[1]) # concatenate string results\n",
        "        return recursive_token_lookup(tok)\n",
        "            \n",
        "    def decode(self, text):\n",
        "        \"\"\"\n",
        "        convert token ids into text\n",
        "        text: tokenized text, list of lists of integers\n",
        "        \"\"\"\n",
        "        return ''.join(map(self.decode_token, text))\n",
        "        \n",
        "        \n",
        "vocab_size = 100\n",
        "bpe = BPE(vocab_size)\n",
        "tokenized_text = bpe.fit_transform(text)"
      ],
      "execution_count": 0,
      "outputs": []
    },
    {
      "cell_type": "code",
      "metadata": {
        "id": "udBjXkGGt5lV",
        "colab_type": "code",
        "outputId": "b0d47a24-a9a5-46c3-80f1-bab2d6baaccc",
        "colab": {
          "base_uri": "https://localhost:8080/",
          "height": 34
        }
      },
      "source": [
        "test_text = ['бля бля бл', ' ', 'бля']\n",
        "test_vocab_size = 12\n",
        "test_bpe = BPE(test_vocab_size)\n",
        "test_tokenized_text = test_bpe.fit_transform(test_text)\n",
        "test_tokenized_text\n",
        "test_bpe.decode(test_tokenized_text[0])\n"
      ],
      "execution_count": 11,
      "outputs": [
        {
          "output_type": "execute_result",
          "data": {
            "text/plain": [
              "'бля бля бл'"
            ]
          },
          "metadata": {
            "tags": []
          },
          "execution_count": 11
        }
      ]
    },
    {
      "cell_type": "code",
      "metadata": {
        "id": "5DTU3BJQb9D5",
        "colab_type": "code",
        "colab": {}
      },
      "source": [
        "assert bpe.decode(tokenized_text[0]) == text[0]"
      ],
      "execution_count": 0,
      "outputs": []
    },
    {
      "cell_type": "code",
      "metadata": {
        "id": "izHAJ88h2xuW",
        "colab_type": "code",
        "colab": {}
      },
      "source": [
        "def list_to_trigrams(l, trigrams=Counter()):\n",
        "  \"\"\"\n",
        "  transforms a list of lists into a counter of their pairs (tuples) across the lists\n",
        "  l: a list of lists of integers or strings\n",
        "  \"\"\"\n",
        "  for i in range(len(l)):\n",
        "    trigrams.update((x, y, z) for x, y, z in zip(*[l[i][j:] for j in range(3)]))\n",
        "  return trigrams"
      ],
      "execution_count": 0,
      "outputs": []
    },
    {
      "cell_type": "markdown",
      "metadata": {
        "id": "eqau4i3zFNYv",
        "colab_type": "text"
      },
      "source": [
        ""
      ]
    },
    {
      "cell_type": "code",
      "metadata": {
        "id": "Gcr54ypQAZLf",
        "colab_type": "code",
        "colab": {}
      },
      "source": [
        "def smooth(count, delta=1, tau=1):\n",
        "  return (count + delta) ** (1 / tau)"
      ],
      "execution_count": 0,
      "outputs": []
    },
    {
      "cell_type": "code",
      "metadata": {
        "id": "qFtNaJDbCFu8",
        "colab_type": "code",
        "colab": {
          "base_uri": "https://localhost:8080/",
          "height": 102
        },
        "outputId": "593c0f44-649d-4977-bb1c-62acfce742f2"
      },
      "source": [
        "test_counts = list_to_trigrams(test_tokenized_text)\n",
        "unsmoothed = [test_counts[(0, 1, x)] for x in range(len(set([item for sublist in test_l for item in sublist])))]\n",
        "smoothed = [smooth(test_counts[(0, 1, x)]) for x in range(len(set([item for sublist in test_l for item in sublist])))]\n",
        "print('non-smooth:')\n",
        "print(unsmoothed)\n",
        "print('____')\n",
        "print('smooth:')\n",
        "print(smoothed)"
      ],
      "execution_count": 70,
      "outputs": [
        {
          "output_type": "stream",
          "text": [
            "non-smooth:\n",
            "[0, 0, 2, 20]\n",
            "____\n",
            "smooth:\n",
            "[1.0, 1.0, 3.0, 21.0]\n"
          ],
          "name": "stdout"
        }
      ]
    },
    {
      "cell_type": "code",
      "metadata": {
        "id": "a1MWgL6sb9EM",
        "colab_type": "code",
        "colab": {}
      },
      "source": [
        "start_token = vocab_size\n",
        "end_token = vocab_size + 1\n",
        "        \n",
        "    \n",
        "class LM:\n",
        "    def __init__(self, vocab_size, delta=1):\n",
        "        self.delta = delta\n",
        "        self.vocab_size = vocab_size + 2\n",
        "        self.counts = Counter() # TODO create array for storing 3-gram counts (empty 3-gram counter)\n",
        "\n",
        "    def fit(self, text):\n",
        "        \"\"\"\n",
        "        train language model on text\n",
        "        text: list of lists\n",
        "        \"\"\"\n",
        "        text = [[start_token]+sent+[end_token] for sent in text]\n",
        "        self.counts = list_to_trigrams(text, self.counts) # count 3-grams in the text  \n",
        "        return self\n",
        "        \n",
        "    def get_proba(self, a, b, c, tau=1):\n",
        "        \"\"\"\n",
        "        get Laplace smoothed probability of 3-gram (a,b,c)\n",
        "        a: first token id\n",
        "        b: second token id\n",
        "        c: third token id\n",
        "        tau: temperature\n",
        "        \"\"\"\n",
        "        trigram = (a, b, c)\n",
        "        counts_abx = [smooth(self.counts[(a, b, x)]) for x in range(self.vocab_size)] # smooth counts for every possible trigram starting with given bigram\n",
        "        result = smooth(self.counts[trigram]) / sum(counts_abx) # approximate probability by counters\n",
        "        return result\n",
        "            \n",
        "    def infer(self, a, b, tau=1):\n",
        "        \"\"\"\n",
        "        return vector of probabilities of size self.vocab_size for 3-grams which start with (a,b) tokens\n",
        "        a: first token id\n",
        "        b: second token id\n",
        "        tau: temperature\n",
        "        \"\"\"\n",
        "        result = [self.get_proba(a,b,x, tau) for x in range(self.vocab_size)]\n",
        "        return result\n",
        "    \n",
        "lm = LM(vocab_size, 1).fit(tokenized_text)"
      ],
      "execution_count": 0,
      "outputs": []
    },
    {
      "cell_type": "code",
      "metadata": {
        "id": "OjnXii5eFYnp",
        "colab_type": "code",
        "outputId": "30fe10f6-ecd7-4812-87c7-8c7fbc0d30d0",
        "colab": {
          "base_uri": "https://localhost:8080/",
          "height": 136
        }
      },
      "source": [
        "l = [[0,1,2,3], [3,1,2,0,4], [4,1,2,3,2,3,1,2,3,2]]\n",
        "test_lm = LM(len(set([item for sublist in l for item in sublist])), 1).fit(l)\n",
        "test_lm.infer(1,2)"
      ],
      "execution_count": 76,
      "outputs": [
        {
          "output_type": "execute_result",
          "data": {
            "text/plain": [
              "[0.18181818181818182,\n",
              " 0.09090909090909091,\n",
              " 0.09090909090909091,\n",
              " 0.36363636363636365,\n",
              " 0.09090909090909091,\n",
              " 0.09090909090909091,\n",
              " 0.09090909090909091]"
            ]
          },
          "metadata": {
            "tags": []
          },
          "execution_count": 76
        }
      ]
    },
    {
      "cell_type": "code",
      "metadata": {
        "id": "f612_bg6uNdN",
        "colab_type": "code",
        "colab": {
          "base_uri": "https://localhost:8080/",
          "height": 34
        },
        "outputId": "318662a9-9e68-428b-d16c-b4919d03e8ff"
      },
      "source": [
        "test_l = test_tokenized_text\n",
        "real_test_lm = LM(len(set([item for sublist in test_l for item in sublist])), 1).fit(test_l)\n",
        "real_test_lm.infer(0,1)"
      ],
      "execution_count": 80,
      "outputs": [
        {
          "output_type": "execute_result",
          "data": {
            "text/plain": [
              "[0.125, 0.125, 0.125, 0.375, 0.125, 0.125]"
            ]
          },
          "metadata": {
            "tags": []
          },
          "execution_count": 80
        }
      ]
    },
    {
      "cell_type": "code",
      "metadata": {
        "id": "Tb7zr3wBG2O7",
        "colab_type": "code",
        "outputId": "de497d8d-741e-49a8-92a4-f3605157d65b",
        "colab": {
          "base_uri": "https://localhost:8080/",
          "height": 187
        }
      },
      "source": [
        "lm.infer(39,3)[10:20]"
      ],
      "execution_count": 78,
      "outputs": [
        {
          "output_type": "execute_result",
          "data": {
            "text/plain": [
              "[7.927699381639449e-05,\n",
              " 0.009671793245600127,\n",
              " 7.927699381639449e-05,\n",
              " 7.927699381639449e-05,\n",
              " 0.00015855398763278897,\n",
              " 7.927699381639449e-05,\n",
              " 7.927699381639449e-05,\n",
              " 7.927699381639449e-05,\n",
              " 7.927699381639449e-05,\n",
              " 0.1277152370382115]"
            ]
          },
          "metadata": {
            "tags": []
          },
          "execution_count": 78
        }
      ]
    },
    {
      "cell_type": "code",
      "metadata": {
        "id": "JgGe9n4QxoBl",
        "colab_type": "code",
        "colab": {}
      },
      "source": [
        "def enum_sort_tuple(arr):\n",
        "  \"\"\"\n",
        "  makes list of tuples of ids and their values in the decreasing order of the values from the list input\n",
        "  arr: flat list\n",
        "  \"\"\"\n",
        "  return sorted(enumerate(arr), key=lambda x:x[1], reverse=True)"
      ],
      "execution_count": 0,
      "outputs": []
    },
    {
      "cell_type": "code",
      "metadata": {
        "id": "QAQnY_A-5eJL",
        "colab_type": "code",
        "outputId": "0832d574-2671-49a0-ad59-387d885b5d32",
        "colab": {
          "base_uri": "https://localhost:8080/",
          "height": 34
        }
      },
      "source": [
        "enum_sort_tuple([1, 2, 3, 1, 31, 0])"
      ],
      "execution_count": 51,
      "outputs": [
        {
          "output_type": "execute_result",
          "data": {
            "text/plain": [
              "[(4, 31), (2, 3), (1, 2), (0, 1), (3, 1), (5, 0)]"
            ]
          },
          "metadata": {
            "tags": []
          },
          "execution_count": 51
        }
      ]
    },
    {
      "cell_type": "code",
      "metadata": {
        "id": "Ek7jeggLb9ES",
        "colab_type": "code",
        "colab": {
          "base_uri": "https://localhost:8080/",
          "height": 129
        },
        "outputId": "fff6e6f1-a6f7-4ace-a7b3-8dd4a08450a6"
      },
      "source": [
        "def beam_search(input_seq, lm, max_len=10, k=5, tau=1):\n",
        "    \"\"\"\n",
        "    generate prediction list from language model *lm* conditioned on input_seq\n",
        "    input_seq: list of token ids for conditioning\n",
        "    lm: language model\n",
        "    max_len: max generated list length\n",
        "    k: size of beam\n",
        "    tau: temperature\n",
        "    \"\"\"\n",
        "    input_seq = [start_token] + input_seq\n",
        "    beam = [] # store in beam tuples of current sequences and their log probabilities\n",
        "    \n",
        "    for i in range(max_len):\n",
        "        candidates = []\n",
        "        candidates_proba = []\n",
        "        for snt, snt_proba in beam:\n",
        "            if snt[-1] == end_token:# TODO process terminal token \n",
        "              continue\n",
        "            else:\n",
        "              a, b = snt[-2:]\n",
        "              proba = lm.infer(a, b, tau) # probability vector of the next token\n",
        "              best_k = # top-k most probable tokens\n",
        "                # TODO update candidates' sequences and corresponding probabilities\n",
        "                \n",
        "        beam = # select top-k most probable sequences from candidates\n",
        "    return beam\n",
        "    "
      ],
      "execution_count": 52,
      "outputs": [
        {
          "output_type": "error",
          "ename": "SyntaxError",
          "evalue": "ignored",
          "traceback": [
            "\u001b[0;36m  File \u001b[0;32m\"<ipython-input-52-7ff8f16f15f1>\"\u001b[0;36m, line \u001b[0;32m22\u001b[0m\n\u001b[0;31m    best_k = # top-k most probable tokens\u001b[0m\n\u001b[0m                                         ^\u001b[0m\n\u001b[0;31mSyntaxError\u001b[0m\u001b[0;31m:\u001b[0m invalid syntax\n"
          ]
        }
      ]
    },
    {
      "cell_type": "code",
      "metadata": {
        "id": "EXXNH0ieb9EZ",
        "colab_type": "code",
        "colab": {}
      },
      "source": [
        "input1 = 'horse '\n",
        "input1 = bpe.transform([input1])[0]\n",
        "result = beam_search(input1, lm, max_len=10, k=10, tau=0.1)\n",
        "# TODO print decoded generated strings and their probabilities\n",
        "    "
      ],
      "execution_count": 0,
      "outputs": []
    },
    {
      "cell_type": "code",
      "metadata": {
        "id": "HxqKvnvAb9Ef",
        "colab_type": "code",
        "colab": {}
      },
      "source": [
        "input1 = 'her'\n",
        "input1 = bpe.transform([input1])[0]\n",
        "result = beam_search(input1, lm, max_len=10, k=10, tau=0.1)\n",
        "# TODO print decoded generated strings and their probabilities"
      ],
      "execution_count": 0,
      "outputs": []
    },
    {
      "cell_type": "code",
      "metadata": {
        "id": "xA7l1zyNb9Ek",
        "colab_type": "code",
        "colab": {}
      },
      "source": [
        "input1 = 'what'\n",
        "input1 = bpe.transform([input1])[0]\n",
        "result = beam_search(input1, lm, max_len=10, k=10, tau=1)\n",
        "# TODO print decoded generated strings and their probabilities"
      ],
      "execution_count": 0,
      "outputs": []
    },
    {
      "cell_type": "code",
      "metadata": {
        "id": "LZSZy_cCb9Eq",
        "colab_type": "code",
        "colab": {}
      },
      "source": [
        "input1 = 'gun '\n",
        "input1 = bpe.transform([input1])[0]\n",
        "result = beam_search(input1, lm, max_len=10, k=10, tau=0.1)\n",
        "# TODO print decoded generated strings and their probabilities"
      ],
      "execution_count": 0,
      "outputs": []
    },
    {
      "cell_type": "code",
      "metadata": {
        "id": "qHhRyjYfb9E3",
        "colab_type": "code",
        "colab": {}
      },
      "source": [
        "def perplexity(snt, lm):\n",
        "    \"\"\"\n",
        "    snt: sequence of token ids\n",
        "    lm: language model\n",
        "    \"\"\"\n",
        "    result = #TODO perplexity for the sentence\n",
        "    return result\n",
        "\n",
        "perplexity(tokenized_text[0], lm)"
      ],
      "execution_count": 0,
      "outputs": []
    }
  ]
}