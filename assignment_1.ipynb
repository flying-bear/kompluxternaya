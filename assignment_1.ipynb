{
  "nbformat": 4,
  "nbformat_minor": 0,
  "metadata": {
    "kernelspec": {
      "name": "python3",
      "display_name": "Python 3"
    },
    "language_info": {
      "codemirror_mode": {
        "name": "ipython",
        "version": 3
      },
      "file_extension": ".py",
      "mimetype": "text/x-python",
      "name": "python",
      "nbconvert_exporter": "python",
      "pygments_lexer": "ipython3",
      "version": "3.7.1"
    },
    "colab": {
      "name": "assignment_1.ipynb",
      "provenance": [],
      "collapsed_sections": [],
      "include_colab_link": true
    },
    "accelerator": "GPU"
  },
  "cells": [
    {
      "cell_type": "markdown",
      "metadata": {
        "id": "view-in-github",
        "colab_type": "text"
      },
      "source": [
        "<a href=\"https://colab.research.google.com/github/flying-bear/kompluxternaya/blob/master/assignment_1.ipynb\" target=\"_parent\"><img src=\"https://colab.research.google.com/assets/colab-badge.svg\" alt=\"Open In Colab\"/></a>"
      ]
    },
    {
      "cell_type": "markdown",
      "metadata": {
        "id": "uSsqcR7Tb9DB",
        "colab_type": "text"
      },
      "source": [
        "\n",
        "# Assignment 1\n",
        "\n",
        "Using text http://www.gutenberg.org/files/2600/2600-0.txt\n",
        "1. Make text lowercase and remove all punctuation except spaces and dots.\n",
        "2. Tokenize text by BPE with vocab_size = 100\n",
        "3. Train 3-gram language model with laplace smoothing $\\delta=1$\n",
        "4. Using beam search with k=10 generate sequences of length=10 conditioned on provided inputs. Treat dots as terminal tokens.\n",
        "5. Calculate perplexity of the language model for the first sentence."
      ]
    },
    {
      "cell_type": "code",
      "metadata": {
        "id": "e1v5OMqAKhAq",
        "colab_type": "code",
        "colab": {}
      },
      "source": [
        "import nltk\n",
        "import numpy as np\n",
        "import re\n",
        "\n",
        "from collections import Counter\n",
        "from google.colab import drive\n",
        "from sklearn.base import TransformerMixin"
      ],
      "execution_count": 0,
      "outputs": []
    },
    {
      "cell_type": "code",
      "metadata": {
        "id": "fn5f4JDpb9DE",
        "colab_type": "code",
        "colab": {
          "base_uri": "https://localhost:8080/",
          "height": 35
        },
        "outputId": "4da9907e-5e7e-4040-debc-cc05b261c095"
      },
      "source": [
        "drive.mount('/content/gdrive')"
      ],
      "execution_count": 86,
      "outputs": [
        {
          "output_type": "stream",
          "text": [
            "Drive already mounted at /content/gdrive; to attempt to forcibly remount, call drive.mount(\"/content/gdrive\", force_remount=True).\n"
          ],
          "name": "stdout"
        }
      ]
    },
    {
      "cell_type": "code",
      "metadata": {
        "id": "9Vvv269v5pUN",
        "colab_type": "code",
        "colab": {}
      },
      "source": [
        "root_path = 'gdrive/My Drive/studies/HSE/prog/kompluxternaya'\n",
        "with open(root_path+'/'+'peace.txt', 'r', encoding='utf-8') as f:\n",
        "  text = f.read()"
      ],
      "execution_count": 0,
      "outputs": []
    },
    {
      "cell_type": "code",
      "metadata": {
        "id": "-_Fi2UAjb9Dc",
        "colab_type": "code",
        "colab": {
          "base_uri": "https://localhost:8080/",
          "height": 35
        },
        "outputId": "7496518d-9c7c-42c0-81c9-82559fe677a0"
      },
      "source": [
        "def preprocess_text(text):\n",
        "    # TODO\n",
        "    # make lowercase\n",
        "    text = text.lower()\n",
        "    # replace all punctuation except dots with spaces\n",
        "    pattern = '!|\"|#|\\$|%|&|\\'|\\(|\\)|\\*|\\+|,|-|/|:|;|<|=|>|\\?|@|\\[|\\\\|\\]|^|_|`|{|\\||}|~|”|“|—|‘|’'\n",
        "    text = re.sub(pattern, ' ', text)\n",
        "    # collapse multiple spaces into one '   ' -> ' '\n",
        "    text = re.sub('\\s+', ' ', text)\n",
        "    return text\n",
        "\n",
        "text = preprocess_text(text)\n",
        "#assert len(text) == 3141169\n",
        "len(text)"
      ],
      "execution_count": 96,
      "outputs": [
        {
          "output_type": "execute_result",
          "data": {
            "text/plain": [
              "3141171"
            ]
          },
          "metadata": {
            "tags": []
          },
          "execution_count": 96
        }
      ]
    },
    {
      "cell_type": "code",
      "metadata": {
        "id": "-_YETckkb9Dj",
        "colab_type": "code",
        "colab": {}
      },
      "source": [
        "text = text.split('.')\n",
        "text = [x.strip() for x in text]"
      ],
      "execution_count": 0,
      "outputs": []
    },
    {
      "cell_type": "code",
      "metadata": {
        "id": "HeRdojT9b9Do",
        "colab_type": "code",
        "colab": {}
      },
      "source": [
        "def list_to_bigrams(l):\n",
        "  \"\"\"\n",
        "  takes a list of lists of integers or strings\n",
        "  returns a counter of their pairs (tuples) across the lists\n",
        "  \"\"\"\n",
        "  bigrams = Counter()\n",
        "  for i in range(len(l)):\n",
        "    bigrams.update((x, y) for x, y in zip(*[l[i][j:] for j in range(2)]))\n",
        "  return bigrams"
      ],
      "execution_count": 0,
      "outputs": []
    },
    {
      "cell_type": "code",
      "metadata": {
        "id": "wrKNPKbSZKbF",
        "colab_type": "code",
        "colab": {}
      },
      "source": [
        "def update_token(text, token, token_id):\n",
        "  \"\"\"\n",
        "  takes \n",
        "  - a text (list of lists of integers)\n",
        "  - a token (integer tuple)\n",
        "  - the id of the given token (integer)\n",
        "  returns a modified text, where all instances of the token (element pairs) are replaced by token_id\n",
        "  \"\"\"\n",
        "  text_new = [inner_list[:] for inner_list in text]\n",
        "  for i, sent in enumerate(text):\n",
        "    deletions = 0\n",
        "    for j, (v, w) in enumerate(zip(sent[:-1], sent[1:])):\n",
        "      if (v, w) == token:\n",
        "        text_new[i][j-deletions] = token_id\n",
        "        del text_new[i][j-deletions-1]\n",
        "        deletions += 1\n",
        "  return text_new"
      ],
      "execution_count": 0,
      "outputs": []
    },
    {
      "cell_type": "code",
      "metadata": {
        "id": "K7xGXMYyrtyh",
        "colab_type": "code",
        "colab": {
          "base_uri": "https://localhost:8080/",
          "height": 52
        },
        "outputId": "52eeb679-d8ec-4cc4-ad8c-bd131226517b"
      },
      "source": [
        "t = ['бля бля бл', ' ', 'бля']\n",
        "test_itos = list(set(''.join(t))) # list letters\n",
        "test_stoi = dict(zip(test_itos, range(len(test_itos)))) # dict of letters and their ids\n",
        "t = [[test_stoi[x] for x in t[i]] for i in range(len(t))] # replace letters with thir ids (str to list)\n",
        "vocab_size = 12\n",
        "while len(test_itos) < vocab_size:\n",
        "    bigrams = list_to_bigrams(t) # get text bigrams\n",
        "    if bigrams.most_common(1):\n",
        "      new_token = bigrams.most_common(1)[0][0] # find most common bigram\n",
        "      new_id = len(test_itos)\n",
        "      test_itos.append(new_token)\n",
        "      test_stoi[new_token] = new_id\n",
        "      # find occurences of the new_token in the text and replace them with new_id\n",
        "      t = update_token(t, new_token, new_id)\n",
        "    else:\n",
        "      break\n",
        "print(t)\n",
        "print(test_itos)"
      ],
      "execution_count": 78,
      "outputs": [
        {
          "output_type": "stream",
          "text": [
            "[[8], [0], [5]]\n",
            "[' ', 'б', 'я', 'л', (1, 3), (4, 3), (3, 4), (6, 4), (7, 6)]\n"
          ],
          "name": "stdout"
        }
      ]
    },
    {
      "cell_type": "code",
      "metadata": {
        "id": "AUbIJjBAWGqR",
        "colab_type": "code",
        "colab": {
          "base_uri": "https://localhost:8080/",
          "height": 35
        },
        "outputId": "2d317f63-59e4-4e5c-b60d-addd8fcd707f"
      },
      "source": [
        "itos = ['а', 'е', 'и', 'р', (1,2), (0,3), (4,0), (4,5)]\n",
        "def recursive_token_lookup(tok): #tok int or tuple\n",
        "  if type(tok) == int:\n",
        "    content = itos[tok]\n",
        "    if type(content) == str:\n",
        "      return content\n",
        "    else:\n",
        "      return recursive_token_lookup(content)\n",
        "  elif type(tok) == tuple:\n",
        "    return recursive_token_lookup(tok[0]) + recursive_token_lookup(tok[1])\n",
        "  \n",
        "recursive_token_lookup(6)"
      ],
      "execution_count": 61,
      "outputs": [
        {
          "output_type": "execute_result",
          "data": {
            "text/plain": [
              "'еиа'"
            ]
          },
          "metadata": {
            "tags": []
          },
          "execution_count": 61
        }
      ]
    },
    {
      "cell_type": "code",
      "metadata": {
        "scrolled": true,
        "id": "1CNokZ4ub9Dx",
        "colab_type": "code",
        "colab": {}
      },
      "source": [
        "class BPE(TransformerMixin):\n",
        "    def __init__(self, vocab_size=100):\n",
        "        super(BPE, self).__init__()\n",
        "        self.vocab_size = vocab_size\n",
        "        # index to token\n",
        "        self.itos = []\n",
        "        # token to index\n",
        "        self.stoi = {}\n",
        "\n",
        "    def fit(self, text):\n",
        "        \"\"\"\n",
        "        takes a text (list of strings)\n",
        "        fits \n",
        "        - self.itos (a list of strings (symbols) and integer tuples (most frequent bigrams while vocabulary does not exceed vocab_size\n",
        "                      each symbol/bigram is indexed by its place in the list) )\n",
        "        - self.stoi (a dict of symbols and bigrams to thir indicies in the self.stoi list)\n",
        "        - text (symbols replaced by thir ids, bigrams of ids replaced by their ids)\n",
        "        returns self\n",
        "        \"\"\"\n",
        "        # tokenize text by symbols and fill in self.itos and self.stoi\n",
        "        self.itos = list(set(''.join(text))) # list letters\n",
        "        self.stoi = dict(zip(self.itos, range(len(self.itos)))) # dict of letters and their ids\n",
        "        text = [[self.stoi[x] for x in text[i]] for i in range(len(text))] # replace letters with thir ids (str to list)\n",
        "        \n",
        "        while len(self.itos) < self.vocab_size:\n",
        "            bigrams = list_to_bigrams(text) # get text bigrams\n",
        "            if bigrams.most_common(1):\n",
        "              new_token = bigrams.most_common(1)[0][0] # find most common bigram\n",
        "              new_id = len(self.itos)\n",
        "              self.itos.append(new_token)\n",
        "              self.stoi[new_token] = new_id\n",
        "              # find occurences of the new_token in the text and replace them with new_id\n",
        "              text = update_token(text, new_token, new_id)\n",
        "            else:\n",
        "              break\n",
        "        return self\n",
        "    \n",
        "    def transform(self, text):\n",
        "        \"\"\"\n",
        "        takes a text (list of strings)\n",
        "        convert text to a sequence of symbol ids then replaces bigrams of ids with their indicies in self.stoi\n",
        "        returns modified text\n",
        "        \"\"\"\n",
        "        text_in_vocabulary = [[symbol for symbol in sent if symbol in self.itos] for sent in text] # exclude out of vocabulary symbols\n",
        "        text = [[self.stoi[letter] for letter in sent] for sent in text_in_vocabulary] # tokenize text by symbols using self.stoi\n",
        "        for token_id, token in enumerate(self.itos): # find occurences of a complex token in the text and replace them with token_id\n",
        "            text = update_token(text, token, token_id)    \n",
        "        return text\n",
        "    \n",
        "    def decode_token(self, tok):\n",
        "        \"\"\"\n",
        "        takes a tok (either an int - id, or a tuple - pair of ids)\n",
        "        returns a text coded by the tok\n",
        "        \"\"\"\n",
        "        def recursive_token_lookup(token): #token int or tuple\n",
        "          if type(token) == int:\n",
        "            content = itos[token]\n",
        "            if type(content) == str:\n",
        "              return content # only returns strings\n",
        "            else:\n",
        "              return recursive_token_lookup(content) # continue lookup on the tuple that was found\n",
        "          elif type(token) == tuple:\n",
        "            return recursive_token_lookup(token[0]) + recursive_token_lookup(token[1]) # concatenate string results\n",
        "        return recursive_token_lookup(tok)\n",
        "            \n",
        "    def decode(self, text):\n",
        "        \"\"\"\n",
        "        convert token ids into text\n",
        "        \"\"\"\n",
        "        return ''.join(map(self.decode_token, text))\n",
        "        \n",
        "        \n",
        "vocab_size = 100\n",
        "bpe = BPE(vocab_size)\n",
        "tokenized_text = bpe.fit_transform(text)"
      ],
      "execution_count": 0,
      "outputs": []
    },
    {
      "cell_type": "code",
      "metadata": {
        "id": "5DTU3BJQb9D5",
        "colab_type": "code",
        "colab": {
          "base_uri": "https://localhost:8080/",
          "height": 167
        },
        "outputId": "9c80cf67-31b6-4e9a-8ffd-c5a284619278"
      },
      "source": [
        "assert bpe.decode(tokenized_text[0]) == text[0]"
      ],
      "execution_count": 93,
      "outputs": [
        {
          "output_type": "error",
          "ename": "AssertionError",
          "evalue": "ignored",
          "traceback": [
            "\u001b[0;31m---------------------------------------------------------------------------\u001b[0m",
            "\u001b[0;31mAssertionError\u001b[0m                            Traceback (most recent call last)",
            "\u001b[0;32m<ipython-input-93-07d99c4af77f>\u001b[0m in \u001b[0;36m<module>\u001b[0;34m()\u001b[0m\n\u001b[0;32m----> 1\u001b[0;31m \u001b[0;32massert\u001b[0m \u001b[0mbpe\u001b[0m\u001b[0;34m.\u001b[0m\u001b[0mdecode\u001b[0m\u001b[0;34m(\u001b[0m\u001b[0mtokenized_text\u001b[0m\u001b[0;34m[\u001b[0m\u001b[0;36m0\u001b[0m\u001b[0;34m]\u001b[0m\u001b[0;34m)\u001b[0m \u001b[0;34m==\u001b[0m \u001b[0mtext\u001b[0m\u001b[0;34m[\u001b[0m\u001b[0;36m0\u001b[0m\u001b[0;34m]\u001b[0m\u001b[0;34m\u001b[0m\u001b[0;34m\u001b[0m\u001b[0m\n\u001b[0m",
            "\u001b[0;31mAssertionError\u001b[0m: "
          ]
        }
      ]
    },
    {
      "cell_type": "code",
      "metadata": {
        "id": "a1MWgL6sb9EM",
        "colab_type": "code",
        "colab": {}
      },
      "source": [
        "start_token = vocab_size\n",
        "end_token = vocab_size + 1\n",
        "        \n",
        "    \n",
        "class LM:\n",
        "    def __init__(self, vocab_size, delta=1):\n",
        "        self.delta = delta\n",
        "        self.vocab_size = vocab_size + 2\n",
        "        self.proba = # TODO create array for storing 3-gram counters\n",
        "        \n",
        "    def infer(self, a, b, tau=1):\n",
        "        \"\"\"\n",
        "        return vector of probabilities of size self.vocab for 3-grams which start with (a,b) tokens\n",
        "        a: first token id\n",
        "        b: second token id\n",
        "        tau: temperature\n",
        "        \"\"\"\n",
        "        result = # TODO\n",
        "        return result\n",
        "        \n",
        "    def get_proba(self, a, b, c, tau=1):\n",
        "        \"\"\"\n",
        "        get probability of 3-gram (a,b,c)\n",
        "        a: first token id\n",
        "        b: second token id\n",
        "        c: third token id\n",
        "        tau: temperature\n",
        "        \"\"\"\n",
        "        result = # TODO approximate probability by counters\n",
        "        return result\n",
        "    \n",
        "    def fit(self, text):\n",
        "        \"\"\"\n",
        "        train language model on text\n",
        "        text: list of lists\n",
        "        \"\"\"\n",
        "        self.proba = # TODO count 3-grams in the text\n",
        "        \n",
        "        return self\n",
        "    \n",
        "lm = LM(vocab_size, 1).fit(tokenized_text)"
      ],
      "execution_count": 0,
      "outputs": []
    },
    {
      "cell_type": "code",
      "metadata": {
        "id": "Ek7jeggLb9ES",
        "colab_type": "code",
        "colab": {}
      },
      "source": [
        "def beam_search(input_seq, lm, max_len=10, k=5, tau=1):\n",
        "    \"\"\"\n",
        "    generate sequence from language model *lm* conditioned on input_seq\n",
        "    input_seq: sequence of token ids for conditioning\n",
        "    lm: language model\n",
        "    max_len: max generated sequence length\n",
        "    k: size of beam\n",
        "    tau: temperature\n",
        "    \"\"\"\n",
        "    \n",
        "    beam = # TODO store in beam tuples of current sequences and their log probabilities\n",
        "    \n",
        "    for i in range(max_len):\n",
        "        candidates = []\n",
        "        candidates_proba = []\n",
        "        for snt, snt_proba in beam:\n",
        "            if # TODO process terminal token\n",
        "            else:    \n",
        "                proba = # probability vector of the next token\n",
        "                best_k = # top-k most probable tokens\n",
        "                # TODO update candidates' sequences and corresponding probabilities\n",
        "                \n",
        "        beam = # select top-k most probable sequences from candidates\n",
        "    return beam\n",
        "    "
      ],
      "execution_count": 0,
      "outputs": []
    },
    {
      "cell_type": "code",
      "metadata": {
        "id": "EXXNH0ieb9EZ",
        "colab_type": "code",
        "colab": {}
      },
      "source": [
        "input1 = 'horse '\n",
        "input1 = bpe.transform([input1])[0]\n",
        "result = beam_search(input1, lm, max_len=10, k=10, tau=0.1)\n",
        "# TODO print decoded generated strings and their probabilities\n",
        "    "
      ],
      "execution_count": 0,
      "outputs": []
    },
    {
      "cell_type": "code",
      "metadata": {
        "id": "HxqKvnvAb9Ef",
        "colab_type": "code",
        "colab": {}
      },
      "source": [
        "input1 = 'her'\n",
        "input1 = bpe.transform([input1])[0]\n",
        "result = beam_search(input1, lm, max_len=10, k=10, tau=0.1)\n",
        "# TODO print decoded generated strings and their probabilities"
      ],
      "execution_count": 0,
      "outputs": []
    },
    {
      "cell_type": "code",
      "metadata": {
        "id": "xA7l1zyNb9Ek",
        "colab_type": "code",
        "colab": {}
      },
      "source": [
        "input1 = 'what'\n",
        "input1 = bpe.transform([input1])[0]\n",
        "result = beam_search(input1, lm, max_len=10, k=10, tau=1)\n",
        "# TODO print decoded generated strings and their probabilities"
      ],
      "execution_count": 0,
      "outputs": []
    },
    {
      "cell_type": "code",
      "metadata": {
        "id": "LZSZy_cCb9Eq",
        "colab_type": "code",
        "colab": {}
      },
      "source": [
        "input1 = 'gun '\n",
        "input1 = bpe.transform([input1])[0]\n",
        "result = beam_search(input1, lm, max_len=10, k=10, tau=0.1)\n",
        "# TODO print decoded generated strings and their probabilities"
      ],
      "execution_count": 0,
      "outputs": []
    },
    {
      "cell_type": "code",
      "metadata": {
        "id": "qHhRyjYfb9E3",
        "colab_type": "code",
        "colab": {}
      },
      "source": [
        "def perplexity(snt, lm):\n",
        "    \"\"\"\n",
        "    snt: sequence of token ids\n",
        "    lm: language model\n",
        "    \"\"\"\n",
        "    result = #TODO perplexity for the sentence\n",
        "    return result\n",
        "\n",
        "perplexity(tokenized_text[0], lm)"
      ],
      "execution_count": 0,
      "outputs": []
    }
  ]
}