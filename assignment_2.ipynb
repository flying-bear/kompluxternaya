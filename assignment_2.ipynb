{
  "nbformat": 4,
  "nbformat_minor": 0,
  "metadata": {
    "kernelspec": {
      "display_name": "Python 3",
      "language": "python",
      "name": "python3"
    },
    "language_info": {
      "codemirror_mode": {
        "name": "ipython",
        "version": 3
      },
      "file_extension": ".py",
      "mimetype": "text/x-python",
      "name": "python",
      "nbconvert_exporter": "python",
      "pygments_lexer": "ipython3",
      "version": "3.7.3"
    },
    "widgets": {
      "state": {},
      "version": "1.1.2"
    },
    "colab": {
      "name": "assignment_2.ipynb",
      "provenance": [],
      "collapsed_sections": [],
      "include_colab_link": true
    }
  },
  "cells": [
    {
      "cell_type": "markdown",
      "metadata": {
        "id": "view-in-github",
        "colab_type": "text"
      },
      "source": [
        "<a href=\"https://colab.research.google.com/github/flying-bear/kompluxternaya/blob/master/assignment_2.ipynb\" target=\"_parent\"><img src=\"https://colab.research.google.com/assets/colab-badge.svg\" alt=\"Open In Colab\"/></a>"
      ]
    },
    {
      "cell_type": "markdown",
      "metadata": {
        "id": "ICFqKx_DxGak",
        "colab_type": "text"
      },
      "source": [
        "# Assignment 2"
      ]
    },
    {
      "cell_type": "markdown",
      "metadata": {
        "id": "1QzCqyxPxGaw",
        "colab_type": "text"
      },
      "source": [
        "Demostrate consequences of No Free Lunch Theorem: every model of machine learning makes **assumptions** about dataset properties. If the assumption fails, model perfoms badly. If the assumption is met, model perfoms good.\n",
        "\n",
        "For each of the tasks, described below:\n",
        "1. create a dataset to meet the description. For demonstration purposes, feature dimension size = 2    \n",
        "1. train the models and evaluate accuracy. (with a training pipeline, described in the seminar: separate the data into *train, validation, and test*) \n",
        "1. Show which model is better.   \n",
        "1. Write what assumptions were used, and why model exibits such behavior.  \n",
        "1. Plot dataset to demonstrate its properties. (Scatter plot, classes with different colors)  \n",
        "\n",
        "\n",
        "Tasks:\n",
        "\n",
        "1. Create dataset for binary classification task (binary crossentropy), \n",
        "where k-NN perfoms **worse** than logistic regression\n",
        "\n",
        "2. Create dataset for binary classification task (binary crossentropy), \n",
        "where logistic regression perfoms **worse** than k-NN\n",
        "\n",
        "3. Create dataset for binary classification task (binary crossentropy), \n",
        "where k-NN with cosine distance perfoms **better** than k-NN with euclidean distance\n",
        "\n",
        "\n",
        "! If there is no explanation, why one model perfoms better than the other on your dataset, the task does not count.  \n",
        "! if the training pipeline is not used, the task does not count.  "
      ]
    },
    {
      "cell_type": "code",
      "metadata": {
        "id": "AxOoZJTtxGa0",
        "colab_type": "code",
        "colab": {}
      },
      "source": [
        "import matplotlib.pyplot as plt\n",
        "import numpy as np\n",
        "\n",
        "from sklearn import svm\n",
        "from sklearn.metrics import accuracy_score\n",
        "from sklearn.datasets import make_circles\n",
        "from sklearn.model_selection import train_test_split, GridSearchCV\n",
        "\n",
        "\n",
        "from sklearn.neighbors import KNeighborsClassifier\n",
        "from sklearn.linear_model import LogisticRegression"
      ],
      "execution_count": 0,
      "outputs": []
    },
    {
      "cell_type": "markdown",
      "metadata": {
        "id": "7686ZijbuHAj",
        "colab_type": "text"
      },
      "source": [
        "## Task 1\n",
        "1. Logistic regression assumes linear separability\n",
        "2. k-NN assumes that inter-class distance for most of the object is smaller than intra-class distance\n",
        "\n",
        "Let us violate the second assumption but not the first, so that logistic regerssion performs better than k-NN. To do that, let create a duplicate of each dotted-line class member that is closer to its other-class counterpart than to the same-class mebers."
      ]
    },
    {
      "cell_type": "code",
      "metadata": {
        "colab_type": "code",
        "id": "4Ya6cy7_74oD",
        "colab": {}
      },
      "source": [
        "n_samples = 100\n",
        "class_size = int(n_samples/2)\n",
        "class_sep = 5\n",
        "alpha = -0.3\n",
        "step = 35"
      ],
      "execution_count": 0,
      "outputs": []
    },
    {
      "cell_type": "code",
      "metadata": {
        "colab_type": "code",
        "outputId": "406dbbc3-f051-400a-8448-9d9981b3d5e0",
        "id": "riF1E7QxbZ3_",
        "colab": {
          "base_uri": "https://localhost:8080/",
          "height": 624
        }
      },
      "source": [
        "np.random.seed(0)\n",
        "X_axis = np.array(list(range(0, class_size*step, step)))\n",
        "Y_axis = alpha * X_axis\n",
        "\n",
        "Y_axis =  np.append(Y_axis, alpha * X_axis + class_sep)\n",
        "X_axis = np.append(X_axis, np.array(list(range(0, class_size*step, step))))\n",
        "\n",
        "y = np.array([0] * class_size + [1] * class_size)\n",
        "\n",
        "X = np.append([X_axis], [Y_axis, y], axis=0).T\n",
        "\n",
        "np.random.shuffle(X)\n",
        "\n",
        "plt.figure(figsize=(10, 10))\n",
        "plt.title(\"Two proximate dotted lines\", fontsize='large')\n",
        "plt.scatter(X[:, 0], X[:, 1], marker='o', c=X[:, 2],\n",
        "            s=25, edgecolor='k')"
      ],
      "execution_count": 141,
      "outputs": [
        {
          "output_type": "execute_result",
          "data": {
            "text/plain": [
              "<matplotlib.collections.PathCollection at 0x7f33b96f54a8>"
            ]
          },
          "metadata": {
            "tags": []
          },
          "execution_count": 141
        },
        {
          "output_type": "display_data",
          "data": {
            "image/png": "[encoded data removed]",
            "text/plain": [
              "<Figure size 720x720 with 1 Axes>"
            ]
          },
          "metadata": {
            "tags": []
          }
        }
      ]
    },
    {
      "cell_type": "code",
      "metadata": {
        "id": "xwRmvV2A-Ur2",
        "colab_type": "code",
        "colab": {}
      },
      "source": [
        "train_ids, test_ids = train_test_split(range(n_samples), test_size=0.3, random_state=42)\n",
        "y = X[:, 2]\n",
        "X_train = X[train_ids]\n",
        "X_test = X[test_ids]\n",
        "y_train = y[train_ids]\n",
        "y_test = y[test_ids]"
      ],
      "execution_count": 0,
      "outputs": []
    },
    {
      "cell_type": "code",
      "metadata": {
        "id": "cEtBTyPYCd_d",
        "colab_type": "code",
        "colab": {
          "base_uri": "https://localhost:8080/",
          "height": 50
        },
        "outputId": "10a5ac27-12f7-4cba-d51d-83a269970194"
      },
      "source": [
        "neigh = KNeighborsClassifier(n_neighbors=10)\n",
        "k_range = list(range(1, class_size))\n",
        "param_grid = dict(n_neighbors=k_range)\n",
        "grid = GridSearchCV(neigh, param_grid, cv=10, scoring='accuracy', iid=True)\n",
        "grid.fit(X_train, y_train)\n",
        "print(f\"best accuracy on validation set: {grid.best_score_}\")\n",
        "best_k = grid.best_params_['n_neighbors']\n",
        "\n",
        "neigh = KNeighborsClassifier(n_neighbors=best_k)\n",
        "neigh.fit(X_train, y_train) \n",
        "knn_test_score = accuracy_score(y_test, neigh.predict(X_test))\n",
        "print(f\"with best parametr k={best_k}, accuracy on test set: {knn_test_score}\")"
      ],
      "execution_count": 143,
      "outputs": [
        {
          "output_type": "stream",
          "text": [
            "best accuracy on validation set: 0.5428571428571428\n",
            "with best parametr k=46, accuracy on test set: 0.43333333333333335\n"
          ],
          "name": "stdout"
        }
      ]
    },
    {
      "cell_type": "code",
      "metadata": {
        "id": "XEMQxSCSHRdK",
        "colab_type": "code",
        "colab": {
          "base_uri": "https://localhost:8080/",
          "height": 50
        },
        "outputId": "a49dc681-73de-4dd3-bd5d-e7cb82de09e2"
      },
      "source": [
        "clf = LogisticRegression(random_state=0, solver='lbfgs')\n",
        "param_grid = {'tol': [1.e-1, 1.e-2, 1.e-3, 1.e-4, 1.e-5], \n",
        "              'C': [0.1, 1, 10, 100, 1000]}\n",
        "grid = GridSearchCV(clf, param_grid, cv=10, scoring='accuracy', iid=True)\n",
        "grid.fit(X_train, y_train)\n",
        "print(f\"best accuracy on validation set: {grid.best_score_}\")\n",
        "\n",
        "best_params = grid.best_params_\n",
        "C = best_params[\"C\"]\n",
        "tol = best_params[\"tol\"]\n",
        "clf = LogisticRegression(random_state=0, solver='lbfgs', C=C, tol=tol)\n",
        "clf.fit(X_train, y_train) \n",
        "clf_test_score = accuracy_score(y_test, clf.predict(X_test))\n",
        "print(f\"with best parametr C={C} and tolerance={tol}, accuracy on test set: {clf_test_score}\")"
      ],
      "execution_count": 144,
      "outputs": [
        {
          "output_type": "stream",
          "text": [
            "best accuracy on validation set: 1.0\n",
            "with best parametr C=0.1 and tolerance=0.1, accuracy on test set: 1.0\n"
          ],
          "name": "stdout"
        }
      ]
    },
    {
      "cell_type": "code",
      "metadata": {
        "id": "0yIeIEn7wKL3",
        "colab_type": "code",
        "colab": {
          "base_uri": "https://localhost:8080/",
          "height": 67
        },
        "outputId": "211268ae-e4a7-40ad-ebcc-5d6e8defca08"
      },
      "source": [
        "print(f\"results:\\nlogistic: {clf_test_score}\\nk-NN: {knn_test_score}\")"
      ],
      "execution_count": 145,
      "outputs": [
        {
          "output_type": "stream",
          "text": [
            "results:\n",
            "logistic: 1.0\n",
            "k-NN: 0.43333333333333335\n"
          ],
          "name": "stdout"
        }
      ]
    },
    {
      "cell_type": "markdown",
      "metadata": {
        "id": "Cgsuw4m8MBHd",
        "colab_type": "text"
      },
      "source": [
        "**as we can see, logistic regression is much better than k-NN on this dataset (independently of logistic regression parametrs, as the first ones are always taken)**\n",
        "\n",
        "while k-NN performs worse than chance :("
      ]
    },
    {
      "cell_type": "markdown",
      "metadata": {
        "id": "cAKgbz20u22j",
        "colab_type": "text"
      },
      "source": [
        "## Task 2\n",
        "\n",
        "1. Logistic regression assumes linear separability\n",
        "2. k-NN assumes that inter-class distance for most of the object is smaller than intra-class distance\n",
        "\n",
        "Let us violate the first assumption, but not the second, so that k-NN outperforms logistic regression. To do that, for exampe, we can make concentruic circles, which, of course, are not linearly separable."
      ]
    },
    {
      "cell_type": "code",
      "metadata": {
        "id": "k_FyxvqAu2Il",
        "colab_type": "code",
        "colab": {}
      },
      "source": [
        "n_samples = 100\n",
        "noise = 0.001"
      ],
      "execution_count": 0,
      "outputs": []
    },
    {
      "cell_type": "code",
      "metadata": {
        "id": "tjQZYACbzcDh",
        "colab_type": "code",
        "outputId": "eca739eb-1148-42c4-9406-b9bb116db782",
        "colab": {
          "base_uri": "https://localhost:8080/",
          "height": 624
        }
      },
      "source": [
        "X, y = make_circles(n_samples=n_samples, factor=0.3, noise=noise)\n",
        "plt.figure(figsize=(10, 10))\n",
        "plt.title(\"Two circles\", fontsize='large')\n",
        "plt.scatter(X[:, 0], X[:, 1], marker='o', c=y,\n",
        "            s=25, edgecolor='k')"
      ],
      "execution_count": 147,
      "outputs": [
        {
          "output_type": "execute_result",
          "data": {
            "text/plain": [
              "<matplotlib.collections.PathCollection at 0x7f33b9899080>"
            ]
          },
          "metadata": {
            "tags": []
          },
          "execution_count": 147
        },
        {
          "output_type": "display_data",
          "data": {
            "image/png": "[encoded data removed]",
            "text/plain": [
              "<Figure size 720x720 with 1 Axes>"
            ]
          },
          "metadata": {
            "tags": []
          }
        }
      ]
    },
    {
      "cell_type": "code",
      "metadata": {
        "id": "plOS7EGYwYJ6",
        "colab_type": "code",
        "colab": {}
      },
      "source": [
        "train_ids, test_ids = train_test_split(range(n_samples), test_size=0.3, random_state=42)\n",
        "X_train = X[train_ids]\n",
        "X_test = X[test_ids]\n",
        "y_train = y[train_ids]\n",
        "y_test = y[test_ids]"
      ],
      "execution_count": 0,
      "outputs": []
    },
    {
      "cell_type": "code",
      "metadata": {
        "id": "3nXlWA34w0-K",
        "colab_type": "code",
        "outputId": "18cba8a5-e2bd-40d2-8190-93eabe3a4237",
        "colab": {
          "base_uri": "https://localhost:8080/",
          "height": 50
        }
      },
      "source": [
        "neigh = KNeighborsClassifier(n_neighbors=10)\n",
        "k_range = list(range(1, class_size))\n",
        "param_grid = dict(n_neighbors=k_range)\n",
        "grid = GridSearchCV(neigh, param_grid, cv=10, scoring='accuracy', iid=True)\n",
        "grid.fit(X_train, y_train)\n",
        "print(f\"best accuracy on validation set: {grid.best_score_}\")\n",
        "best_k = grid.best_params_['n_neighbors']\n",
        "\n",
        "neigh = KNeighborsClassifier(n_neighbors=best_k)\n",
        "neigh.fit(X_train, y_train) \n",
        "knn_test_score = accuracy_score(y_test, neigh.predict(X_test))\n",
        "print(f\"with best parametr k={best_k}, accuracy on test set: {knn_test_score}\")"
      ],
      "execution_count": 150,
      "outputs": [
        {
          "output_type": "stream",
          "text": [
            "best accuracy on validation set: 1.0\n",
            "with best parametr k=1, accuracy on test set: 1.0\n"
          ],
          "name": "stdout"
        }
      ]
    },
    {
      "cell_type": "code",
      "metadata": {
        "id": "c5cngPELwaRT",
        "colab_type": "code",
        "outputId": "858a700d-601d-49fa-fd62-3bc58ae19dad",
        "colab": {
          "base_uri": "https://localhost:8080/",
          "height": 50
        }
      },
      "source": [
        "clf = LogisticRegression(random_state=0, solver='lbfgs')\n",
        "param_grid = {'tol': [1.e-1, 1.e-2, 1.e-3, 1.e-4, 1.e-5], \n",
        "              'C': [0.1, 1, 10, 100, 1000]}\n",
        "grid = GridSearchCV(clf, param_grid, cv=10, scoring='accuracy', iid=True)\n",
        "grid.fit(X_train, y_train)\n",
        "print(f\"best accuracy on validation set: {grid.best_score_}\")\n",
        "\n",
        "best_params = grid.best_params_\n",
        "C = best_params[\"C\"]\n",
        "tol = best_params[\"tol\"]\n",
        "clf = LogisticRegression(random_state=0, solver='lbfgs', C=C, tol=tol)\n",
        "clf.fit(X_train, y_train) \n",
        "clf_test_score = accuracy_score(y_test, clf.predict(X_test))\n",
        "print(f\"with best parametr C={C} and tolerance={tol}, accuracy on test set: {clf_test_score}\")"
      ],
      "execution_count": 149,
      "outputs": [
        {
          "output_type": "stream",
          "text": [
            "best accuracy on validation set: 0.6428571428571429\n",
            "with best parametr C=100 and tolerance=0.1, accuracy on test set: 0.5\n"
          ],
          "name": "stdout"
        }
      ]
    },
    {
      "cell_type": "code",
      "metadata": {
        "id": "8K-XKIHewmXE",
        "colab_type": "code",
        "colab": {
          "base_uri": "https://localhost:8080/",
          "height": 67
        },
        "outputId": "2550802b-201e-4817-db80-cd1af0af8d76"
      },
      "source": [
        "print(f\"results:\\nk-NN: {knn_test_score}\\nlogistic: {clf_test_score}\")"
      ],
      "execution_count": 151,
      "outputs": [
        {
          "output_type": "stream",
          "text": [
            "results:\n",
            "k-NN: 1.0\n",
            "logistic: 0.5\n"
          ],
          "name": "stdout"
        }
      ]
    },
    {
      "cell_type": "markdown",
      "metadata": {
        "id": "ofFdCEFlNUnK",
        "colab_type": "text"
      },
      "source": [
        "**as we can see, k-NN performs much better than logistic regression  on this dataset (independently of logistic regression parametrs, as the first one is always taken)**\n",
        "\n",
        "while logistic regression performs exactly like chance"
      ]
    },
    {
      "cell_type": "markdown",
      "metadata": {
        "id": "R2pikmRpuFFh",
        "colab_type": "text"
      },
      "source": [
        "## Task 3\n",
        "1. Cosine distance is large when vectors, that correspond to dots, are spread far apart.\n",
        "2. Euclidian distance is large when the dots are far apart.\n",
        "\n",
        "Let us violate the second assumption, but not the first, so that cosine k-NN outperforms euclidian k-NN. To do that, let us make all the datapoints of one class be on one vector, so that the euclidian distance is zero, and the other class normally scattered around."
      ]
    },
    {
      "cell_type": "code",
      "metadata": {
        "id": "rEJ1JMTYuA4_",
        "colab_type": "code",
        "colab": {}
      },
      "source": [
        "n_samples = 100\n",
        "class_size = int(n_samples/2)\n",
        "class_sep = 5\n",
        "step = 10"
      ],
      "execution_count": 0,
      "outputs": []
    },
    {
      "cell_type": "code",
      "metadata": {
        "id": "2qMmmEJqsoid",
        "colab_type": "code",
        "outputId": "9908b113-f29e-44d2-80ea-b76817bdd637",
        "colab": {
          "base_uri": "https://localhost:8080/",
          "height": 624
        }
      },
      "source": [
        "np.random.seed(0)\n",
        "X_axis = np.array(list(range(0, class_size*step, step)))\n",
        "Y_axis = np.array([0]*class_size)\n",
        "\n",
        "Y_axis =  np.append(Y_axis, step * np.random.normal(size=int(class_size/2)) + class_sep)\n",
        "Y_axis =  np.append(Y_axis, step * np.random.normal(size=int(class_size/2)) - class_sep)\n",
        "X_axis = np.append(X_axis, np.random.uniform(0, step*class_size, size=class_size))\n",
        "\n",
        "y = np.array([0] * class_size + [1] * class_size)\n",
        "\n",
        "X = np.append([X_axis], [Y_axis, y], axis=0).T\n",
        "\n",
        "np.random.shuffle(X)\n",
        "\n",
        "plt.figure(figsize=(10, 10))\n",
        "plt.title(\"Two proximate dotted lines\", fontsize='large')\n",
        "plt.scatter(X[:, 0], X[:, 1], marker='o', c=X[:, 2],\n",
        "            s=25, edgecolor='k')"
      ],
      "execution_count": 154,
      "outputs": [
        {
          "output_type": "execute_result",
          "data": {
            "text/plain": [
              "<matplotlib.collections.PathCollection at 0x7f33b962c5c0>"
            ]
          },
          "metadata": {
            "tags": []
          },
          "execution_count": 154
        },
        {
          "output_type": "display_data",
          "data": {
            "image/png": "[encoded data removed]",
            "text/plain": [
              "<Figure size 720x720 with 1 Axes>"
            ]
          },
          "metadata": {
            "tags": []
          }
        }
      ]
    },
    {
      "cell_type": "code",
      "metadata": {
        "id": "Tnt7OhlC4sAY",
        "colab_type": "code",
        "colab": {}
      },
      "source": [
        "train_ids, test_ids = train_test_split(range(n_samples), test_size=0.3, random_state=42)\n",
        "y = X[:, 2]\n",
        "X_train = X[train_ids]\n",
        "X_test = X[test_ids]\n",
        "y_train = y[train_ids]\n",
        "y_test = y[test_ids]\n",
        "\n",
        "k_range = list(range(1, class_size, int(class_size/10)))"
      ],
      "execution_count": 0,
      "outputs": []
    },
    {
      "cell_type": "code",
      "metadata": {
        "id": "0TUFurzn4jkH",
        "colab_type": "code",
        "outputId": "5ad13ee1-12c8-493e-fecf-7e5d0d96092f",
        "colab": {
          "base_uri": "https://localhost:8080/",
          "height": 50
        }
      },
      "source": [
        "neigh = KNeighborsClassifier(n_neighbors=10,  metric=\"euclidean\")\n",
        "param_grid = dict(n_neighbors=k_range)\n",
        "grid = GridSearchCV(neigh, param_grid, cv=10, scoring='accuracy', iid=True)\n",
        "grid.fit(X_train, y_train)\n",
        "print(f\"best accuracy on validation set: {grid.best_score_}\")\n",
        "best_k = grid.best_params_['n_neighbors']\n",
        "\n",
        "neigh = KNeighborsClassifier(n_neighbors=best_k, metric=\"euclidean\")\n",
        "neigh.fit(X_train, y_train) \n",
        "knn_euc_test_score = accuracy_score(y_test, neigh.predict(X_test))\n",
        "print(f\"with best parametr k={best_k}, accuracy on test set: {knn_euc_test_score}\")"
      ],
      "execution_count": 156,
      "outputs": [
        {
          "output_type": "stream",
          "text": [
            "best accuracy on validation set: 0.5428571428571428\n",
            "with best parametr k=36, accuracy on test set: 0.43333333333333335\n"
          ],
          "name": "stdout"
        }
      ]
    },
    {
      "cell_type": "code",
      "metadata": {
        "id": "LJw4IjVP43Ia",
        "colab_type": "code",
        "outputId": "61209b45-febc-476b-f75b-ad35e30c63e9",
        "colab": {
          "base_uri": "https://localhost:8080/",
          "height": 50
        }
      },
      "source": [
        "neigh = KNeighborsClassifier(n_neighbors=10,  metric=\"cosine\")\n",
        "param_grid = dict(n_neighbors=k_range)\n",
        "grid = GridSearchCV(neigh, param_grid, cv=10, scoring='accuracy', iid=True)\n",
        "grid.fit(X_train, y_train)\n",
        "print(f\"best accuracy on validation set: {grid.best_score_}\")\n",
        "best_k = grid.best_params_['n_neighbors']\n",
        "\n",
        "neigh = KNeighborsClassifier(n_neighbors=best_k, metric=\"cosine\")\n",
        "neigh.fit(X_train, y_train) \n",
        "knn_cos_test_score = accuracy_score(y_test, neigh.predict(X_test))\n",
        "print(f\"with best parametr k={best_k}, accuracy on test set: {knn_cos_test_score}\")"
      ],
      "execution_count": 157,
      "outputs": [
        {
          "output_type": "stream",
          "text": [
            "best accuracy on validation set: 0.9714285714285714\n",
            "with best parametr k=1, accuracy on test set: 1.0\n"
          ],
          "name": "stdout"
        }
      ]
    },
    {
      "cell_type": "code",
      "metadata": {
        "id": "cg7uE8rmxTgD",
        "colab_type": "code",
        "colab": {
          "base_uri": "https://localhost:8080/",
          "height": 67
        },
        "outputId": "25f25410-7694-4745-ae3a-9a9b49e8c131"
      },
      "source": [
        "print(f\"results:\\ncosine k-NN: {knn_cos_test_score}\\neuclidian k-NN: {knn_euc_test_score}\")"
      ],
      "execution_count": 158,
      "outputs": [
        {
          "output_type": "stream",
          "text": [
            "results:\n",
            "cosine k-NN: 1.0\n",
            "euclidian k-NN: 0.43333333333333335\n"
          ],
          "name": "stdout"
        }
      ]
    },
    {
      "cell_type": "markdown",
      "metadata": {
        "id": "6HfY2ZCyu0yd",
        "colab_type": "text"
      },
      "source": [
        "**as we can see, cosine k-NN performs much better than euclidian k-NN on this dataset (independently of cosine k-NN parametrs, as the first one is always taken)**\n",
        "while euclidian k-NN performs worse than chance :("
      ]
    }
  ]
}