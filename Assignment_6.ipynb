{
  "nbformat": 4,
  "nbformat_minor": 0,
  "metadata": {
    "colab": {
      "name": "Assignment_6",
      "provenance": [],
      "collapsed_sections": [],
      "authorship_tag": "ABX9TyNgPSPirT0lO0dyyu7Q4mek",
      "include_colab_link": true
    },
    "kernelspec": {
      "name": "python3",
      "display_name": "Python 3"
    },
    "accelerator": "GPU",
    "widgets": {
      "application/vnd.jupyter.widget-state+json": {
        "e66f71765d3b45bb8258e901e03e6c68": {
          "model_module": "@jupyter-widgets/controls",
          "model_name": "HBoxModel",
          "state": {
            "_view_name": "HBoxView",
            "_dom_classes": [],
            "_model_name": "HBoxModel",
            "_view_module": "@jupyter-widgets/controls",
            "_model_module_version": "1.5.0",
            "_view_count": null,
            "_view_module_version": "1.5.0",
            "box_style": "",
            "layout": "IPY_MODEL_bb907a0cf20846b0ba61ce464ee0a227",
            "_model_module": "@jupyter-widgets/controls",
            "children": [
              "IPY_MODEL_55ad3000ff474160bbfa60773dbbe4c5",
              "IPY_MODEL_c23abc204fb94491b09ffa8dc85be81e"
            ]
          }
        },
        "bb907a0cf20846b0ba61ce464ee0a227": {
          "model_module": "@jupyter-widgets/base",
          "model_name": "LayoutModel",
          "state": {
            "_view_name": "LayoutView",
            "grid_template_rows": null,
            "right": null,
            "justify_content": null,
            "_view_module": "@jupyter-widgets/base",
            "overflow": null,
            "_model_module_version": "1.2.0",
            "_view_count": null,
            "flex_flow": null,
            "width": null,
            "min_width": null,
            "border": null,
            "align_items": null,
            "bottom": null,
            "_model_module": "@jupyter-widgets/base",
            "top": null,
            "grid_column": null,
            "overflow_y": null,
            "overflow_x": null,
            "grid_auto_flow": null,
            "grid_area": null,
            "grid_template_columns": null,
            "flex": null,
            "_model_name": "LayoutModel",
            "justify_items": null,
            "grid_row": null,
            "max_height": null,
            "align_content": null,
            "visibility": null,
            "align_self": null,
            "height": null,
            "min_height": null,
            "padding": null,
            "grid_auto_rows": null,
            "grid_gap": null,
            "max_width": null,
            "order": null,
            "_view_module_version": "1.2.0",
            "grid_template_areas": null,
            "object_position": null,
            "object_fit": null,
            "grid_auto_columns": null,
            "margin": null,
            "display": null,
            "left": null
          }
        },
        "55ad3000ff474160bbfa60773dbbe4c5": {
          "model_module": "@jupyter-widgets/controls",
          "model_name": "IntProgressModel",
          "state": {
            "_view_name": "ProgressView",
            "style": "IPY_MODEL_cda0070986b74289bba90cb011d9143c",
            "_dom_classes": [],
            "description": "epoch 1",
            "_model_name": "IntProgressModel",
            "bar_style": "success",
            "max": 1005,
            "_view_module": "@jupyter-widgets/controls",
            "_model_module_version": "1.5.0",
            "value": 1005,
            "_view_count": null,
            "_view_module_version": "1.5.0",
            "orientation": "horizontal",
            "min": 0,
            "description_tooltip": null,
            "_model_module": "@jupyter-widgets/controls",
            "layout": "IPY_MODEL_0daf12da13134ba59a0a9eb10740a6f4"
          }
        },
        "c23abc204fb94491b09ffa8dc85be81e": {
          "model_module": "@jupyter-widgets/controls",
          "model_name": "HTMLModel",
          "state": {
            "_view_name": "HTMLView",
            "style": "IPY_MODEL_1f2526436baa4ae39d00fd726cb440b5",
            "_dom_classes": [],
            "description": "",
            "_model_name": "HTMLModel",
            "placeholder": "​",
            "_view_module": "@jupyter-widgets/controls",
            "_model_module_version": "1.5.0",
            "value": "100% 1005/1005 [00:35&lt;00:00, 28.02it/s, loss=4.80731]",
            "_view_count": null,
            "_view_module_version": "1.5.0",
            "description_tooltip": null,
            "_model_module": "@jupyter-widgets/controls",
            "layout": "IPY_MODEL_6afdbce44f66401290d50acd741739f3"
          }
        },
        "cda0070986b74289bba90cb011d9143c": {
          "model_module": "@jupyter-widgets/controls",
          "model_name": "ProgressStyleModel",
          "state": {
            "_view_name": "StyleView",
            "_model_name": "ProgressStyleModel",
            "description_width": "initial",
            "_view_module": "@jupyter-widgets/base",
            "_model_module_version": "1.5.0",
            "_view_count": null,
            "_view_module_version": "1.2.0",
            "bar_color": null,
            "_model_module": "@jupyter-widgets/controls"
          }
        },
        "0daf12da13134ba59a0a9eb10740a6f4": {
          "model_module": "@jupyter-widgets/base",
          "model_name": "LayoutModel",
          "state": {
            "_view_name": "LayoutView",
            "grid_template_rows": null,
            "right": null,
            "justify_content": null,
            "_view_module": "@jupyter-widgets/base",
            "overflow": null,
            "_model_module_version": "1.2.0",
            "_view_count": null,
            "flex_flow": null,
            "width": null,
            "min_width": null,
            "border": null,
            "align_items": null,
            "bottom": null,
            "_model_module": "@jupyter-widgets/base",
            "top": null,
            "grid_column": null,
            "overflow_y": null,
            "overflow_x": null,
            "grid_auto_flow": null,
            "grid_area": null,
            "grid_template_columns": null,
            "flex": null,
            "_model_name": "LayoutModel",
            "justify_items": null,
            "grid_row": null,
            "max_height": null,
            "align_content": null,
            "visibility": null,
            "align_self": null,
            "height": null,
            "min_height": null,
            "padding": null,
            "grid_auto_rows": null,
            "grid_gap": null,
            "max_width": null,
            "order": null,
            "_view_module_version": "1.2.0",
            "grid_template_areas": null,
            "object_position": null,
            "object_fit": null,
            "grid_auto_columns": null,
            "margin": null,
            "display": null,
            "left": null
          }
        },
        "1f2526436baa4ae39d00fd726cb440b5": {
          "model_module": "@jupyter-widgets/controls",
          "model_name": "DescriptionStyleModel",
          "state": {
            "_view_name": "StyleView",
            "_model_name": "DescriptionStyleModel",
            "description_width": "",
            "_view_module": "@jupyter-widgets/base",
            "_model_module_version": "1.5.0",
            "_view_count": null,
            "_view_module_version": "1.2.0",
            "_model_module": "@jupyter-widgets/controls"
          }
        },
        "6afdbce44f66401290d50acd741739f3": {
          "model_module": "@jupyter-widgets/base",
          "model_name": "LayoutModel",
          "state": {
            "_view_name": "LayoutView",
            "grid_template_rows": null,
            "right": null,
            "justify_content": null,
            "_view_module": "@jupyter-widgets/base",
            "overflow": null,
            "_model_module_version": "1.2.0",
            "_view_count": null,
            "flex_flow": null,
            "width": null,
            "min_width": null,
            "border": null,
            "align_items": null,
            "bottom": null,
            "_model_module": "@jupyter-widgets/base",
            "top": null,
            "grid_column": null,
            "overflow_y": null,
            "overflow_x": null,
            "grid_auto_flow": null,
            "grid_area": null,
            "grid_template_columns": null,
            "flex": null,
            "_model_name": "LayoutModel",
            "justify_items": null,
            "grid_row": null,
            "max_height": null,
            "align_content": null,
            "visibility": null,
            "align_self": null,
            "height": null,
            "min_height": null,
            "padding": null,
            "grid_auto_rows": null,
            "grid_gap": null,
            "max_width": null,
            "order": null,
            "_view_module_version": "1.2.0",
            "grid_template_areas": null,
            "object_position": null,
            "object_fit": null,
            "grid_auto_columns": null,
            "margin": null,
            "display": null,
            "left": null
          }
        },
        "dfb30782225e41cd888c6a556f5af449": {
          "model_module": "@jupyter-widgets/controls",
          "model_name": "HBoxModel",
          "state": {
            "_view_name": "HBoxView",
            "_dom_classes": [],
            "_model_name": "HBoxModel",
            "_view_module": "@jupyter-widgets/controls",
            "_model_module_version": "1.5.0",
            "_view_count": null,
            "_view_module_version": "1.5.0",
            "box_style": "",
            "layout": "IPY_MODEL_728de218e3434185b955fe69207592b7",
            "_model_module": "@jupyter-widgets/controls",
            "children": [
              "IPY_MODEL_9798ac6af6254f98a3265c67402acd17",
              "IPY_MODEL_4e2fd335cadd4d74a302e3013a381a7b"
            ]
          }
        },
        "728de218e3434185b955fe69207592b7": {
          "model_module": "@jupyter-widgets/base",
          "model_name": "LayoutModel",
          "state": {
            "_view_name": "LayoutView",
            "grid_template_rows": null,
            "right": null,
            "justify_content": null,
            "_view_module": "@jupyter-widgets/base",
            "overflow": null,
            "_model_module_version": "1.2.0",
            "_view_count": null,
            "flex_flow": null,
            "width": null,
            "min_width": null,
            "border": null,
            "align_items": null,
            "bottom": null,
            "_model_module": "@jupyter-widgets/base",
            "top": null,
            "grid_column": null,
            "overflow_y": null,
            "overflow_x": null,
            "grid_auto_flow": null,
            "grid_area": null,
            "grid_template_columns": null,
            "flex": null,
            "_model_name": "LayoutModel",
            "justify_items": null,
            "grid_row": null,
            "max_height": null,
            "align_content": null,
            "visibility": null,
            "align_self": null,
            "height": null,
            "min_height": null,
            "padding": null,
            "grid_auto_rows": null,
            "grid_gap": null,
            "max_width": null,
            "order": null,
            "_view_module_version": "1.2.0",
            "grid_template_areas": null,
            "object_position": null,
            "object_fit": null,
            "grid_auto_columns": null,
            "margin": null,
            "display": null,
            "left": null
          }
        },
        "9798ac6af6254f98a3265c67402acd17": {
          "model_module": "@jupyter-widgets/controls",
          "model_name": "IntProgressModel",
          "state": {
            "_view_name": "ProgressView",
            "style": "IPY_MODEL_f60e5b49074b40a291019647399b4f5f",
            "_dom_classes": [],
            "description": "epoch 2",
            "_model_name": "IntProgressModel",
            "bar_style": "success",
            "max": 1005,
            "_view_module": "@jupyter-widgets/controls",
            "_model_module_version": "1.5.0",
            "value": 1005,
            "_view_count": null,
            "_view_module_version": "1.5.0",
            "orientation": "horizontal",
            "min": 0,
            "description_tooltip": null,
            "_model_module": "@jupyter-widgets/controls",
            "layout": "IPY_MODEL_f5f7afd9a5874480ac55fe6d02c99335"
          }
        },
        "4e2fd335cadd4d74a302e3013a381a7b": {
          "model_module": "@jupyter-widgets/controls",
          "model_name": "HTMLModel",
          "state": {
            "_view_name": "HTMLView",
            "style": "IPY_MODEL_54d54380b6ef4ebeb3a074df13d98c14",
            "_dom_classes": [],
            "description": "",
            "_model_name": "HTMLModel",
            "placeholder": "​",
            "_view_module": "@jupyter-widgets/controls",
            "_model_module_version": "1.5.0",
            "value": "100% 1005/1005 [00:36&lt;00:00, 27.60it/s, loss=2.77770]",
            "_view_count": null,
            "_view_module_version": "1.5.0",
            "description_tooltip": null,
            "_model_module": "@jupyter-widgets/controls",
            "layout": "IPY_MODEL_32591926d27e48d3988adf52b1bdfb76"
          }
        },
        "f60e5b49074b40a291019647399b4f5f": {
          "model_module": "@jupyter-widgets/controls",
          "model_name": "ProgressStyleModel",
          "state": {
            "_view_name": "StyleView",
            "_model_name": "ProgressStyleModel",
            "description_width": "initial",
            "_view_module": "@jupyter-widgets/base",
            "_model_module_version": "1.5.0",
            "_view_count": null,
            "_view_module_version": "1.2.0",
            "bar_color": null,
            "_model_module": "@jupyter-widgets/controls"
          }
        },
        "f5f7afd9a5874480ac55fe6d02c99335": {
          "model_module": "@jupyter-widgets/base",
          "model_name": "LayoutModel",
          "state": {
            "_view_name": "LayoutView",
            "grid_template_rows": null,
            "right": null,
            "justify_content": null,
            "_view_module": "@jupyter-widgets/base",
            "overflow": null,
            "_model_module_version": "1.2.0",
            "_view_count": null,
            "flex_flow": null,
            "width": null,
            "min_width": null,
            "border": null,
            "align_items": null,
            "bottom": null,
            "_model_module": "@jupyter-widgets/base",
            "top": null,
            "grid_column": null,
            "overflow_y": null,
            "overflow_x": null,
            "grid_auto_flow": null,
            "grid_area": null,
            "grid_template_columns": null,
            "flex": null,
            "_model_name": "LayoutModel",
            "justify_items": null,
            "grid_row": null,
            "max_height": null,
            "align_content": null,
            "visibility": null,
            "align_self": null,
            "height": null,
            "min_height": null,
            "padding": null,
            "grid_auto_rows": null,
            "grid_gap": null,
            "max_width": null,
            "order": null,
            "_view_module_version": "1.2.0",
            "grid_template_areas": null,
            "object_position": null,
            "object_fit": null,
            "grid_auto_columns": null,
            "margin": null,
            "display": null,
            "left": null
          }
        },
        "54d54380b6ef4ebeb3a074df13d98c14": {
          "model_module": "@jupyter-widgets/controls",
          "model_name": "DescriptionStyleModel",
          "state": {
            "_view_name": "StyleView",
            "_model_name": "DescriptionStyleModel",
            "description_width": "",
            "_view_module": "@jupyter-widgets/base",
            "_model_module_version": "1.5.0",
            "_view_count": null,
            "_view_module_version": "1.2.0",
            "_model_module": "@jupyter-widgets/controls"
          }
        },
        "32591926d27e48d3988adf52b1bdfb76": {
          "model_module": "@jupyter-widgets/base",
          "model_name": "LayoutModel",
          "state": {
            "_view_name": "LayoutView",
            "grid_template_rows": null,
            "right": null,
            "justify_content": null,
            "_view_module": "@jupyter-widgets/base",
            "overflow": null,
            "_model_module_version": "1.2.0",
            "_view_count": null,
            "flex_flow": null,
            "width": null,
            "min_width": null,
            "border": null,
            "align_items": null,
            "bottom": null,
            "_model_module": "@jupyter-widgets/base",
            "top": null,
            "grid_column": null,
            "overflow_y": null,
            "overflow_x": null,
            "grid_auto_flow": null,
            "grid_area": null,
            "grid_template_columns": null,
            "flex": null,
            "_model_name": "LayoutModel",
            "justify_items": null,
            "grid_row": null,
            "max_height": null,
            "align_content": null,
            "visibility": null,
            "align_self": null,
            "height": null,
            "min_height": null,
            "padding": null,
            "grid_auto_rows": null,
            "grid_gap": null,
            "max_width": null,
            "order": null,
            "_view_module_version": "1.2.0",
            "grid_template_areas": null,
            "object_position": null,
            "object_fit": null,
            "grid_auto_columns": null,
            "margin": null,
            "display": null,
            "left": null
          }
        },
        "284d8ead162d470896cbc40a6e79bb51": {
          "model_module": "@jupyter-widgets/controls",
          "model_name": "HBoxModel",
          "state": {
            "_view_name": "HBoxView",
            "_dom_classes": [],
            "_model_name": "HBoxModel",
            "_view_module": "@jupyter-widgets/controls",
            "_model_module_version": "1.5.0",
            "_view_count": null,
            "_view_module_version": "1.5.0",
            "box_style": "",
            "layout": "IPY_MODEL_d72c6fce312a41f9a591fa2c9b9330a4",
            "_model_module": "@jupyter-widgets/controls",
            "children": [
              "IPY_MODEL_b132d3597e1a41dbb08a2064b644e3ef",
              "IPY_MODEL_9efe8784d4964d8caa5a7930302059c8"
            ]
          }
        },
        "d72c6fce312a41f9a591fa2c9b9330a4": {
          "model_module": "@jupyter-widgets/base",
          "model_name": "LayoutModel",
          "state": {
            "_view_name": "LayoutView",
            "grid_template_rows": null,
            "right": null,
            "justify_content": null,
            "_view_module": "@jupyter-widgets/base",
            "overflow": null,
            "_model_module_version": "1.2.0",
            "_view_count": null,
            "flex_flow": null,
            "width": null,
            "min_width": null,
            "border": null,
            "align_items": null,
            "bottom": null,
            "_model_module": "@jupyter-widgets/base",
            "top": null,
            "grid_column": null,
            "overflow_y": null,
            "overflow_x": null,
            "grid_auto_flow": null,
            "grid_area": null,
            "grid_template_columns": null,
            "flex": null,
            "_model_name": "LayoutModel",
            "justify_items": null,
            "grid_row": null,
            "max_height": null,
            "align_content": null,
            "visibility": null,
            "align_self": null,
            "height": null,
            "min_height": null,
            "padding": null,
            "grid_auto_rows": null,
            "grid_gap": null,
            "max_width": null,
            "order": null,
            "_view_module_version": "1.2.0",
            "grid_template_areas": null,
            "object_position": null,
            "object_fit": null,
            "grid_auto_columns": null,
            "margin": null,
            "display": null,
            "left": null
          }
        },
        "b132d3597e1a41dbb08a2064b644e3ef": {
          "model_module": "@jupyter-widgets/controls",
          "model_name": "IntProgressModel",
          "state": {
            "_view_name": "ProgressView",
            "style": "IPY_MODEL_d00cc5c8618446eab7abcb7a71143e4c",
            "_dom_classes": [],
            "description": "epoch 3",
            "_model_name": "IntProgressModel",
            "bar_style": "success",
            "max": 1005,
            "_view_module": "@jupyter-widgets/controls",
            "_model_module_version": "1.5.0",
            "value": 1005,
            "_view_count": null,
            "_view_module_version": "1.5.0",
            "orientation": "horizontal",
            "min": 0,
            "description_tooltip": null,
            "_model_module": "@jupyter-widgets/controls",
            "layout": "IPY_MODEL_306279b8900441ecada93137dd989da8"
          }
        },
        "9efe8784d4964d8caa5a7930302059c8": {
          "model_module": "@jupyter-widgets/controls",
          "model_name": "HTMLModel",
          "state": {
            "_view_name": "HTMLView",
            "style": "IPY_MODEL_72e462a4cb2947a4bfab7d1361faf1f7",
            "_dom_classes": [],
            "description": "",
            "_model_name": "HTMLModel",
            "placeholder": "​",
            "_view_module": "@jupyter-widgets/controls",
            "_model_module_version": "1.5.0",
            "value": "100% 1005/1005 [00:37&lt;00:00, 26.89it/s, loss=1.64349]",
            "_view_count": null,
            "_view_module_version": "1.5.0",
            "description_tooltip": null,
            "_model_module": "@jupyter-widgets/controls",
            "layout": "IPY_MODEL_08519e65fe5d4be29dfebc07c5b2b568"
          }
        },
        "d00cc5c8618446eab7abcb7a71143e4c": {
          "model_module": "@jupyter-widgets/controls",
          "model_name": "ProgressStyleModel",
          "state": {
            "_view_name": "StyleView",
            "_model_name": "ProgressStyleModel",
            "description_width": "initial",
            "_view_module": "@jupyter-widgets/base",
            "_model_module_version": "1.5.0",
            "_view_count": null,
            "_view_module_version": "1.2.0",
            "bar_color": null,
            "_model_module": "@jupyter-widgets/controls"
          }
        },
        "306279b8900441ecada93137dd989da8": {
          "model_module": "@jupyter-widgets/base",
          "model_name": "LayoutModel",
          "state": {
            "_view_name": "LayoutView",
            "grid_template_rows": null,
            "right": null,
            "justify_content": null,
            "_view_module": "@jupyter-widgets/base",
            "overflow": null,
            "_model_module_version": "1.2.0",
            "_view_count": null,
            "flex_flow": null,
            "width": null,
            "min_width": null,
            "border": null,
            "align_items": null,
            "bottom": null,
            "_model_module": "@jupyter-widgets/base",
            "top": null,
            "grid_column": null,
            "overflow_y": null,
            "overflow_x": null,
            "grid_auto_flow": null,
            "grid_area": null,
            "grid_template_columns": null,
            "flex": null,
            "_model_name": "LayoutModel",
            "justify_items": null,
            "grid_row": null,
            "max_height": null,
            "align_content": null,
            "visibility": null,
            "align_self": null,
            "height": null,
            "min_height": null,
            "padding": null,
            "grid_auto_rows": null,
            "grid_gap": null,
            "max_width": null,
            "order": null,
            "_view_module_version": "1.2.0",
            "grid_template_areas": null,
            "object_position": null,
            "object_fit": null,
            "grid_auto_columns": null,
            "margin": null,
            "display": null,
            "left": null
          }
        },
        "72e462a4cb2947a4bfab7d1361faf1f7": {
          "model_module": "@jupyter-widgets/controls",
          "model_name": "DescriptionStyleModel",
          "state": {
            "_view_name": "StyleView",
            "_model_name": "DescriptionStyleModel",
            "description_width": "",
            "_view_module": "@jupyter-widgets/base",
            "_model_module_version": "1.5.0",
            "_view_count": null,
            "_view_module_version": "1.2.0",
            "_model_module": "@jupyter-widgets/controls"
          }
        },
        "08519e65fe5d4be29dfebc07c5b2b568": {
          "model_module": "@jupyter-widgets/base",
          "model_name": "LayoutModel",
          "state": {
            "_view_name": "LayoutView",
            "grid_template_rows": null,
            "right": null,
            "justify_content": null,
            "_view_module": "@jupyter-widgets/base",
            "overflow": null,
            "_model_module_version": "1.2.0",
            "_view_count": null,
            "flex_flow": null,
            "width": null,
            "min_width": null,
            "border": null,
            "align_items": null,
            "bottom": null,
            "_model_module": "@jupyter-widgets/base",
            "top": null,
            "grid_column": null,
            "overflow_y": null,
            "overflow_x": null,
            "grid_auto_flow": null,
            "grid_area": null,
            "grid_template_columns": null,
            "flex": null,
            "_model_name": "LayoutModel",
            "justify_items": null,
            "grid_row": null,
            "max_height": null,
            "align_content": null,
            "visibility": null,
            "align_self": null,
            "height": null,
            "min_height": null,
            "padding": null,
            "grid_auto_rows": null,
            "grid_gap": null,
            "max_width": null,
            "order": null,
            "_view_module_version": "1.2.0",
            "grid_template_areas": null,
            "object_position": null,
            "object_fit": null,
            "grid_auto_columns": null,
            "margin": null,
            "display": null,
            "left": null
          }
        },
        "1107643d062449328e83668e51d8024f": {
          "model_module": "@jupyter-widgets/controls",
          "model_name": "HBoxModel",
          "state": {
            "_view_name": "HBoxView",
            "_dom_classes": [],
            "_model_name": "HBoxModel",
            "_view_module": "@jupyter-widgets/controls",
            "_model_module_version": "1.5.0",
            "_view_count": null,
            "_view_module_version": "1.5.0",
            "box_style": "",
            "layout": "IPY_MODEL_8466489030f34ab2bb21a6e7676b75e2",
            "_model_module": "@jupyter-widgets/controls",
            "children": [
              "IPY_MODEL_1987bde393564b80a439f219b01d11ee",
              "IPY_MODEL_11ef0cbb8b0144aab3eb0acd0ea8ab22"
            ]
          }
        },
        "8466489030f34ab2bb21a6e7676b75e2": {
          "model_module": "@jupyter-widgets/base",
          "model_name": "LayoutModel",
          "state": {
            "_view_name": "LayoutView",
            "grid_template_rows": null,
            "right": null,
            "justify_content": null,
            "_view_module": "@jupyter-widgets/base",
            "overflow": null,
            "_model_module_version": "1.2.0",
            "_view_count": null,
            "flex_flow": null,
            "width": null,
            "min_width": null,
            "border": null,
            "align_items": null,
            "bottom": null,
            "_model_module": "@jupyter-widgets/base",
            "top": null,
            "grid_column": null,
            "overflow_y": null,
            "overflow_x": null,
            "grid_auto_flow": null,
            "grid_area": null,
            "grid_template_columns": null,
            "flex": null,
            "_model_name": "LayoutModel",
            "justify_items": null,
            "grid_row": null,
            "max_height": null,
            "align_content": null,
            "visibility": null,
            "align_self": null,
            "height": null,
            "min_height": null,
            "padding": null,
            "grid_auto_rows": null,
            "grid_gap": null,
            "max_width": null,
            "order": null,
            "_view_module_version": "1.2.0",
            "grid_template_areas": null,
            "object_position": null,
            "object_fit": null,
            "grid_auto_columns": null,
            "margin": null,
            "display": null,
            "left": null
          }
        },
        "1987bde393564b80a439f219b01d11ee": {
          "model_module": "@jupyter-widgets/controls",
          "model_name": "IntProgressModel",
          "state": {
            "_view_name": "ProgressView",
            "style": "IPY_MODEL_4c36ad56c1a14024aaf905b66c308805",
            "_dom_classes": [],
            "description": "epoch 4",
            "_model_name": "IntProgressModel",
            "bar_style": "success",
            "max": 1005,
            "_view_module": "@jupyter-widgets/controls",
            "_model_module_version": "1.5.0",
            "value": 1005,
            "_view_count": null,
            "_view_module_version": "1.5.0",
            "orientation": "horizontal",
            "min": 0,
            "description_tooltip": null,
            "_model_module": "@jupyter-widgets/controls",
            "layout": "IPY_MODEL_4f9d4359bf7341ba8bd0053e92a39d42"
          }
        },
        "11ef0cbb8b0144aab3eb0acd0ea8ab22": {
          "model_module": "@jupyter-widgets/controls",
          "model_name": "HTMLModel",
          "state": {
            "_view_name": "HTMLView",
            "style": "IPY_MODEL_5a31513b1dfc4dbb8eeddaccd72d16f4",
            "_dom_classes": [],
            "description": "",
            "_model_name": "HTMLModel",
            "placeholder": "​",
            "_view_module": "@jupyter-widgets/controls",
            "_model_module_version": "1.5.0",
            "value": "100% 1005/1005 [00:38&lt;00:00, 26.45it/s, loss=0.95008]",
            "_view_count": null,
            "_view_module_version": "1.5.0",
            "description_tooltip": null,
            "_model_module": "@jupyter-widgets/controls",
            "layout": "IPY_MODEL_bf170ebe3e70456b8cdd17fd5baee6cc"
          }
        },
        "4c36ad56c1a14024aaf905b66c308805": {
          "model_module": "@jupyter-widgets/controls",
          "model_name": "ProgressStyleModel",
          "state": {
            "_view_name": "StyleView",
            "_model_name": "ProgressStyleModel",
            "description_width": "initial",
            "_view_module": "@jupyter-widgets/base",
            "_model_module_version": "1.5.0",
            "_view_count": null,
            "_view_module_version": "1.2.0",
            "bar_color": null,
            "_model_module": "@jupyter-widgets/controls"
          }
        },
        "4f9d4359bf7341ba8bd0053e92a39d42": {
          "model_module": "@jupyter-widgets/base",
          "model_name": "LayoutModel",
          "state": {
            "_view_name": "LayoutView",
            "grid_template_rows": null,
            "right": null,
            "justify_content": null,
            "_view_module": "@jupyter-widgets/base",
            "overflow": null,
            "_model_module_version": "1.2.0",
            "_view_count": null,
            "flex_flow": null,
            "width": null,
            "min_width": null,
            "border": null,
            "align_items": null,
            "bottom": null,
            "_model_module": "@jupyter-widgets/base",
            "top": null,
            "grid_column": null,
            "overflow_y": null,
            "overflow_x": null,
            "grid_auto_flow": null,
            "grid_area": null,
            "grid_template_columns": null,
            "flex": null,
            "_model_name": "LayoutModel",
            "justify_items": null,
            "grid_row": null,
            "max_height": null,
            "align_content": null,
            "visibility": null,
            "align_self": null,
            "height": null,
            "min_height": null,
            "padding": null,
            "grid_auto_rows": null,
            "grid_gap": null,
            "max_width": null,
            "order": null,
            "_view_module_version": "1.2.0",
            "grid_template_areas": null,
            "object_position": null,
            "object_fit": null,
            "grid_auto_columns": null,
            "margin": null,
            "display": null,
            "left": null
          }
        },
        "5a31513b1dfc4dbb8eeddaccd72d16f4": {
          "model_module": "@jupyter-widgets/controls",
          "model_name": "DescriptionStyleModel",
          "state": {
            "_view_name": "StyleView",
            "_model_name": "DescriptionStyleModel",
            "description_width": "",
            "_view_module": "@jupyter-widgets/base",
            "_model_module_version": "1.5.0",
            "_view_count": null,
            "_view_module_version": "1.2.0",
            "_model_module": "@jupyter-widgets/controls"
          }
        },
        "bf170ebe3e70456b8cdd17fd5baee6cc": {
          "model_module": "@jupyter-widgets/base",
          "model_name": "LayoutModel",
          "state": {
            "_view_name": "LayoutView",
            "grid_template_rows": null,
            "right": null,
            "justify_content": null,
            "_view_module": "@jupyter-widgets/base",
            "overflow": null,
            "_model_module_version": "1.2.0",
            "_view_count": null,
            "flex_flow": null,
            "width": null,
            "min_width": null,
            "border": null,
            "align_items": null,
            "bottom": null,
            "_model_module": "@jupyter-widgets/base",
            "top": null,
            "grid_column": null,
            "overflow_y": null,
            "overflow_x": null,
            "grid_auto_flow": null,
            "grid_area": null,
            "grid_template_columns": null,
            "flex": null,
            "_model_name": "LayoutModel",
            "justify_items": null,
            "grid_row": null,
            "max_height": null,
            "align_content": null,
            "visibility": null,
            "align_self": null,
            "height": null,
            "min_height": null,
            "padding": null,
            "grid_auto_rows": null,
            "grid_gap": null,
            "max_width": null,
            "order": null,
            "_view_module_version": "1.2.0",
            "grid_template_areas": null,
            "object_position": null,
            "object_fit": null,
            "grid_auto_columns": null,
            "margin": null,
            "display": null,
            "left": null
          }
        },
        "b774c20111cd4b9092b512924cbbb4d3": {
          "model_module": "@jupyter-widgets/controls",
          "model_name": "HBoxModel",
          "state": {
            "_view_name": "HBoxView",
            "_dom_classes": [],
            "_model_name": "HBoxModel",
            "_view_module": "@jupyter-widgets/controls",
            "_model_module_version": "1.5.0",
            "_view_count": null,
            "_view_module_version": "1.5.0",
            "box_style": "",
            "layout": "IPY_MODEL_6edc21fd30d941cdb15bac4a725f4d34",
            "_model_module": "@jupyter-widgets/controls",
            "children": [
              "IPY_MODEL_d4cb67dacf0440ea8a263ad404cf4d9a",
              "IPY_MODEL_1ad3cb8d62df4ab7a781c3c3bce08184"
            ]
          }
        },
        "6edc21fd30d941cdb15bac4a725f4d34": {
          "model_module": "@jupyter-widgets/base",
          "model_name": "LayoutModel",
          "state": {
            "_view_name": "LayoutView",
            "grid_template_rows": null,
            "right": null,
            "justify_content": null,
            "_view_module": "@jupyter-widgets/base",
            "overflow": null,
            "_model_module_version": "1.2.0",
            "_view_count": null,
            "flex_flow": null,
            "width": null,
            "min_width": null,
            "border": null,
            "align_items": null,
            "bottom": null,
            "_model_module": "@jupyter-widgets/base",
            "top": null,
            "grid_column": null,
            "overflow_y": null,
            "overflow_x": null,
            "grid_auto_flow": null,
            "grid_area": null,
            "grid_template_columns": null,
            "flex": null,
            "_model_name": "LayoutModel",
            "justify_items": null,
            "grid_row": null,
            "max_height": null,
            "align_content": null,
            "visibility": null,
            "align_self": null,
            "height": null,
            "min_height": null,
            "padding": null,
            "grid_auto_rows": null,
            "grid_gap": null,
            "max_width": null,
            "order": null,
            "_view_module_version": "1.2.0",
            "grid_template_areas": null,
            "object_position": null,
            "object_fit": null,
            "grid_auto_columns": null,
            "margin": null,
            "display": null,
            "left": null
          }
        },
        "d4cb67dacf0440ea8a263ad404cf4d9a": {
          "model_module": "@jupyter-widgets/controls",
          "model_name": "IntProgressModel",
          "state": {
            "_view_name": "ProgressView",
            "style": "IPY_MODEL_e2f0cdf6c4bb43f5bdd5896d939029eb",
            "_dom_classes": [],
            "description": "epoch 5",
            "_model_name": "IntProgressModel",
            "bar_style": "success",
            "max": 1005,
            "_view_module": "@jupyter-widgets/controls",
            "_model_module_version": "1.5.0",
            "value": 1005,
            "_view_count": null,
            "_view_module_version": "1.5.0",
            "orientation": "horizontal",
            "min": 0,
            "description_tooltip": null,
            "_model_module": "@jupyter-widgets/controls",
            "layout": "IPY_MODEL_e0fc731b7ad04991adcf47d0f3b2afa2"
          }
        },
        "1ad3cb8d62df4ab7a781c3c3bce08184": {
          "model_module": "@jupyter-widgets/controls",
          "model_name": "HTMLModel",
          "state": {
            "_view_name": "HTMLView",
            "style": "IPY_MODEL_c42f6866bef54f42ab4234481d47bc13",
            "_dom_classes": [],
            "description": "",
            "_model_name": "HTMLModel",
            "placeholder": "​",
            "_view_module": "@jupyter-widgets/controls",
            "_model_module_version": "1.5.0",
            "value": "100% 1005/1005 [00:37&lt;00:00, 26.48it/s, loss=0.56102]",
            "_view_count": null,
            "_view_module_version": "1.5.0",
            "description_tooltip": null,
            "_model_module": "@jupyter-widgets/controls",
            "layout": "IPY_MODEL_b4d2c89198b74e9882fc2233d2399103"
          }
        },
        "e2f0cdf6c4bb43f5bdd5896d939029eb": {
          "model_module": "@jupyter-widgets/controls",
          "model_name": "ProgressStyleModel",
          "state": {
            "_view_name": "StyleView",
            "_model_name": "ProgressStyleModel",
            "description_width": "initial",
            "_view_module": "@jupyter-widgets/base",
            "_model_module_version": "1.5.0",
            "_view_count": null,
            "_view_module_version": "1.2.0",
            "bar_color": null,
            "_model_module": "@jupyter-widgets/controls"
          }
        },
        "e0fc731b7ad04991adcf47d0f3b2afa2": {
          "model_module": "@jupyter-widgets/base",
          "model_name": "LayoutModel",
          "state": {
            "_view_name": "LayoutView",
            "grid_template_rows": null,
            "right": null,
            "justify_content": null,
            "_view_module": "@jupyter-widgets/base",
            "overflow": null,
            "_model_module_version": "1.2.0",
            "_view_count": null,
            "flex_flow": null,
            "width": null,
            "min_width": null,
            "border": null,
            "align_items": null,
            "bottom": null,
            "_model_module": "@jupyter-widgets/base",
            "top": null,
            "grid_column": null,
            "overflow_y": null,
            "overflow_x": null,
            "grid_auto_flow": null,
            "grid_area": null,
            "grid_template_columns": null,
            "flex": null,
            "_model_name": "LayoutModel",
            "justify_items": null,
            "grid_row": null,
            "max_height": null,
            "align_content": null,
            "visibility": null,
            "align_self": null,
            "height": null,
            "min_height": null,
            "padding": null,
            "grid_auto_rows": null,
            "grid_gap": null,
            "max_width": null,
            "order": null,
            "_view_module_version": "1.2.0",
            "grid_template_areas": null,
            "object_position": null,
            "object_fit": null,
            "grid_auto_columns": null,
            "margin": null,
            "display": null,
            "left": null
          }
        },
        "c42f6866bef54f42ab4234481d47bc13": {
          "model_module": "@jupyter-widgets/controls",
          "model_name": "DescriptionStyleModel",
          "state": {
            "_view_name": "StyleView",
            "_model_name": "DescriptionStyleModel",
            "description_width": "",
            "_view_module": "@jupyter-widgets/base",
            "_model_module_version": "1.5.0",
            "_view_count": null,
            "_view_module_version": "1.2.0",
            "_model_module": "@jupyter-widgets/controls"
          }
        },
        "b4d2c89198b74e9882fc2233d2399103": {
          "model_module": "@jupyter-widgets/base",
          "model_name": "LayoutModel",
          "state": {
            "_view_name": "LayoutView",
            "grid_template_rows": null,
            "right": null,
            "justify_content": null,
            "_view_module": "@jupyter-widgets/base",
            "overflow": null,
            "_model_module_version": "1.2.0",
            "_view_count": null,
            "flex_flow": null,
            "width": null,
            "min_width": null,
            "border": null,
            "align_items": null,
            "bottom": null,
            "_model_module": "@jupyter-widgets/base",
            "top": null,
            "grid_column": null,
            "overflow_y": null,
            "overflow_x": null,
            "grid_auto_flow": null,
            "grid_area": null,
            "grid_template_columns": null,
            "flex": null,
            "_model_name": "LayoutModel",
            "justify_items": null,
            "grid_row": null,
            "max_height": null,
            "align_content": null,
            "visibility": null,
            "align_self": null,
            "height": null,
            "min_height": null,
            "padding": null,
            "grid_auto_rows": null,
            "grid_gap": null,
            "max_width": null,
            "order": null,
            "_view_module_version": "1.2.0",
            "grid_template_areas": null,
            "object_position": null,
            "object_fit": null,
            "grid_auto_columns": null,
            "margin": null,
            "display": null,
            "left": null
          }
        },
        "05e0a2aadf0749a6bdb9eac52b778ecf": {
          "model_module": "@jupyter-widgets/controls",
          "model_name": "HBoxModel",
          "state": {
            "_view_name": "HBoxView",
            "_dom_classes": [],
            "_model_name": "HBoxModel",
            "_view_module": "@jupyter-widgets/controls",
            "_model_module_version": "1.5.0",
            "_view_count": null,
            "_view_module_version": "1.5.0",
            "box_style": "",
            "layout": "IPY_MODEL_e9f768638b3e482d87e1dd166f69fcde",
            "_model_module": "@jupyter-widgets/controls",
            "children": [
              "IPY_MODEL_7a3e776eb29945889d4abc61f591a343",
              "IPY_MODEL_8b78ab42169a47e895068f0f98958709"
            ]
          }
        },
        "e9f768638b3e482d87e1dd166f69fcde": {
          "model_module": "@jupyter-widgets/base",
          "model_name": "LayoutModel",
          "state": {
            "_view_name": "LayoutView",
            "grid_template_rows": null,
            "right": null,
            "justify_content": null,
            "_view_module": "@jupyter-widgets/base",
            "overflow": null,
            "_model_module_version": "1.2.0",
            "_view_count": null,
            "flex_flow": null,
            "width": null,
            "min_width": null,
            "border": null,
            "align_items": null,
            "bottom": null,
            "_model_module": "@jupyter-widgets/base",
            "top": null,
            "grid_column": null,
            "overflow_y": null,
            "overflow_x": null,
            "grid_auto_flow": null,
            "grid_area": null,
            "grid_template_columns": null,
            "flex": null,
            "_model_name": "LayoutModel",
            "justify_items": null,
            "grid_row": null,
            "max_height": null,
            "align_content": null,
            "visibility": null,
            "align_self": null,
            "height": null,
            "min_height": null,
            "padding": null,
            "grid_auto_rows": null,
            "grid_gap": null,
            "max_width": null,
            "order": null,
            "_view_module_version": "1.2.0",
            "grid_template_areas": null,
            "object_position": null,
            "object_fit": null,
            "grid_auto_columns": null,
            "margin": null,
            "display": null,
            "left": null
          }
        },
        "7a3e776eb29945889d4abc61f591a343": {
          "model_module": "@jupyter-widgets/controls",
          "model_name": "IntProgressModel",
          "state": {
            "_view_name": "ProgressView",
            "style": "IPY_MODEL_a12e5c4824bf4da2baa0d583442a447f",
            "_dom_classes": [],
            "description": "epoch 6",
            "_model_name": "IntProgressModel",
            "bar_style": "success",
            "max": 1005,
            "_view_module": "@jupyter-widgets/controls",
            "_model_module_version": "1.5.0",
            "value": 1005,
            "_view_count": null,
            "_view_module_version": "1.5.0",
            "orientation": "horizontal",
            "min": 0,
            "description_tooltip": null,
            "_model_module": "@jupyter-widgets/controls",
            "layout": "IPY_MODEL_1ab08a625ffe409b98f59df43a5db83c"
          }
        },
        "8b78ab42169a47e895068f0f98958709": {
          "model_module": "@jupyter-widgets/controls",
          "model_name": "HTMLModel",
          "state": {
            "_view_name": "HTMLView",
            "style": "IPY_MODEL_b9abf4f8d7de455c991d3a813583db5c",
            "_dom_classes": [],
            "description": "",
            "_model_name": "HTMLModel",
            "placeholder": "​",
            "_view_module": "@jupyter-widgets/controls",
            "_model_module_version": "1.5.0",
            "value": "100% 1005/1005 [00:38&lt;00:00, 26.40it/s, loss=0.35218]",
            "_view_count": null,
            "_view_module_version": "1.5.0",
            "description_tooltip": null,
            "_model_module": "@jupyter-widgets/controls",
            "layout": "IPY_MODEL_b45e3517d8e34df9a496da3e06afc8b6"
          }
        },
        "a12e5c4824bf4da2baa0d583442a447f": {
          "model_module": "@jupyter-widgets/controls",
          "model_name": "ProgressStyleModel",
          "state": {
            "_view_name": "StyleView",
            "_model_name": "ProgressStyleModel",
            "description_width": "initial",
            "_view_module": "@jupyter-widgets/base",
            "_model_module_version": "1.5.0",
            "_view_count": null,
            "_view_module_version": "1.2.0",
            "bar_color": null,
            "_model_module": "@jupyter-widgets/controls"
          }
        },
        "1ab08a625ffe409b98f59df43a5db83c": {
          "model_module": "@jupyter-widgets/base",
          "model_name": "LayoutModel",
          "state": {
            "_view_name": "LayoutView",
            "grid_template_rows": null,
            "right": null,
            "justify_content": null,
            "_view_module": "@jupyter-widgets/base",
            "overflow": null,
            "_model_module_version": "1.2.0",
            "_view_count": null,
            "flex_flow": null,
            "width": null,
            "min_width": null,
            "border": null,
            "align_items": null,
            "bottom": null,
            "_model_module": "@jupyter-widgets/base",
            "top": null,
            "grid_column": null,
            "overflow_y": null,
            "overflow_x": null,
            "grid_auto_flow": null,
            "grid_area": null,
            "grid_template_columns": null,
            "flex": null,
            "_model_name": "LayoutModel",
            "justify_items": null,
            "grid_row": null,
            "max_height": null,
            "align_content": null,
            "visibility": null,
            "align_self": null,
            "height": null,
            "min_height": null,
            "padding": null,
            "grid_auto_rows": null,
            "grid_gap": null,
            "max_width": null,
            "order": null,
            "_view_module_version": "1.2.0",
            "grid_template_areas": null,
            "object_position": null,
            "object_fit": null,
            "grid_auto_columns": null,
            "margin": null,
            "display": null,
            "left": null
          }
        },
        "b9abf4f8d7de455c991d3a813583db5c": {
          "model_module": "@jupyter-widgets/controls",
          "model_name": "DescriptionStyleModel",
          "state": {
            "_view_name": "StyleView",
            "_model_name": "DescriptionStyleModel",
            "description_width": "",
            "_view_module": "@jupyter-widgets/base",
            "_model_module_version": "1.5.0",
            "_view_count": null,
            "_view_module_version": "1.2.0",
            "_model_module": "@jupyter-widgets/controls"
          }
        },
        "b45e3517d8e34df9a496da3e06afc8b6": {
          "model_module": "@jupyter-widgets/base",
          "model_name": "LayoutModel",
          "state": {
            "_view_name": "LayoutView",
            "grid_template_rows": null,
            "right": null,
            "justify_content": null,
            "_view_module": "@jupyter-widgets/base",
            "overflow": null,
            "_model_module_version": "1.2.0",
            "_view_count": null,
            "flex_flow": null,
            "width": null,
            "min_width": null,
            "border": null,
            "align_items": null,
            "bottom": null,
            "_model_module": "@jupyter-widgets/base",
            "top": null,
            "grid_column": null,
            "overflow_y": null,
            "overflow_x": null,
            "grid_auto_flow": null,
            "grid_area": null,
            "grid_template_columns": null,
            "flex": null,
            "_model_name": "LayoutModel",
            "justify_items": null,
            "grid_row": null,
            "max_height": null,
            "align_content": null,
            "visibility": null,
            "align_self": null,
            "height": null,
            "min_height": null,
            "padding": null,
            "grid_auto_rows": null,
            "grid_gap": null,
            "max_width": null,
            "order": null,
            "_view_module_version": "1.2.0",
            "grid_template_areas": null,
            "object_position": null,
            "object_fit": null,
            "grid_auto_columns": null,
            "margin": null,
            "display": null,
            "left": null
          }
        },
        "0932efe42e4146709086c1b08993e956": {
          "model_module": "@jupyter-widgets/controls",
          "model_name": "HBoxModel",
          "state": {
            "_view_name": "HBoxView",
            "_dom_classes": [],
            "_model_name": "HBoxModel",
            "_view_module": "@jupyter-widgets/controls",
            "_model_module_version": "1.5.0",
            "_view_count": null,
            "_view_module_version": "1.5.0",
            "box_style": "",
            "layout": "IPY_MODEL_5145030f8730408f84b713ebf041994a",
            "_model_module": "@jupyter-widgets/controls",
            "children": [
              "IPY_MODEL_4ef1980c6f584e37acef7044589807e8",
              "IPY_MODEL_10e71be1c324442fb494fd225113f7bc"
            ]
          }
        },
        "5145030f8730408f84b713ebf041994a": {
          "model_module": "@jupyter-widgets/base",
          "model_name": "LayoutModel",
          "state": {
            "_view_name": "LayoutView",
            "grid_template_rows": null,
            "right": null,
            "justify_content": null,
            "_view_module": "@jupyter-widgets/base",
            "overflow": null,
            "_model_module_version": "1.2.0",
            "_view_count": null,
            "flex_flow": null,
            "width": null,
            "min_width": null,
            "border": null,
            "align_items": null,
            "bottom": null,
            "_model_module": "@jupyter-widgets/base",
            "top": null,
            "grid_column": null,
            "overflow_y": null,
            "overflow_x": null,
            "grid_auto_flow": null,
            "grid_area": null,
            "grid_template_columns": null,
            "flex": null,
            "_model_name": "LayoutModel",
            "justify_items": null,
            "grid_row": null,
            "max_height": null,
            "align_content": null,
            "visibility": null,
            "align_self": null,
            "height": null,
            "min_height": null,
            "padding": null,
            "grid_auto_rows": null,
            "grid_gap": null,
            "max_width": null,
            "order": null,
            "_view_module_version": "1.2.0",
            "grid_template_areas": null,
            "object_position": null,
            "object_fit": null,
            "grid_auto_columns": null,
            "margin": null,
            "display": null,
            "left": null
          }
        },
        "4ef1980c6f584e37acef7044589807e8": {
          "model_module": "@jupyter-widgets/controls",
          "model_name": "IntProgressModel",
          "state": {
            "_view_name": "ProgressView",
            "style": "IPY_MODEL_320ae874c08544e3b0b5868ce5987a90",
            "_dom_classes": [],
            "description": "epoch 7",
            "_model_name": "IntProgressModel",
            "bar_style": "success",
            "max": 1005,
            "_view_module": "@jupyter-widgets/controls",
            "_model_module_version": "1.5.0",
            "value": 1005,
            "_view_count": null,
            "_view_module_version": "1.5.0",
            "orientation": "horizontal",
            "min": 0,
            "description_tooltip": null,
            "_model_module": "@jupyter-widgets/controls",
            "layout": "IPY_MODEL_1c30972077ba42eb898183fc7a344d0e"
          }
        },
        "10e71be1c324442fb494fd225113f7bc": {
          "model_module": "@jupyter-widgets/controls",
          "model_name": "HTMLModel",
          "state": {
            "_view_name": "HTMLView",
            "style": "IPY_MODEL_4d5780de5d0941b3a4c6b461c49d7bd6",
            "_dom_classes": [],
            "description": "",
            "_model_name": "HTMLModel",
            "placeholder": "​",
            "_view_module": "@jupyter-widgets/controls",
            "_model_module_version": "1.5.0",
            "value": "100% 1005/1005 [00:38&lt;00:00, 26.43it/s, loss=0.24239]",
            "_view_count": null,
            "_view_module_version": "1.5.0",
            "description_tooltip": null,
            "_model_module": "@jupyter-widgets/controls",
            "layout": "IPY_MODEL_821541e14ade4839b56015806c3e337a"
          }
        },
        "320ae874c08544e3b0b5868ce5987a90": {
          "model_module": "@jupyter-widgets/controls",
          "model_name": "ProgressStyleModel",
          "state": {
            "_view_name": "StyleView",
            "_model_name": "ProgressStyleModel",
            "description_width": "initial",
            "_view_module": "@jupyter-widgets/base",
            "_model_module_version": "1.5.0",
            "_view_count": null,
            "_view_module_version": "1.2.0",
            "bar_color": null,
            "_model_module": "@jupyter-widgets/controls"
          }
        },
        "1c30972077ba42eb898183fc7a344d0e": {
          "model_module": "@jupyter-widgets/base",
          "model_name": "LayoutModel",
          "state": {
            "_view_name": "LayoutView",
            "grid_template_rows": null,
            "right": null,
            "justify_content": null,
            "_view_module": "@jupyter-widgets/base",
            "overflow": null,
            "_model_module_version": "1.2.0",
            "_view_count": null,
            "flex_flow": null,
            "width": null,
            "min_width": null,
            "border": null,
            "align_items": null,
            "bottom": null,
            "_model_module": "@jupyter-widgets/base",
            "top": null,
            "grid_column": null,
            "overflow_y": null,
            "overflow_x": null,
            "grid_auto_flow": null,
            "grid_area": null,
            "grid_template_columns": null,
            "flex": null,
            "_model_name": "LayoutModel",
            "justify_items": null,
            "grid_row": null,
            "max_height": null,
            "align_content": null,
            "visibility": null,
            "align_self": null,
            "height": null,
            "min_height": null,
            "padding": null,
            "grid_auto_rows": null,
            "grid_gap": null,
            "max_width": null,
            "order": null,
            "_view_module_version": "1.2.0",
            "grid_template_areas": null,
            "object_position": null,
            "object_fit": null,
            "grid_auto_columns": null,
            "margin": null,
            "display": null,
            "left": null
          }
        },
        "4d5780de5d0941b3a4c6b461c49d7bd6": {
          "model_module": "@jupyter-widgets/controls",
          "model_name": "DescriptionStyleModel",
          "state": {
            "_view_name": "StyleView",
            "_model_name": "DescriptionStyleModel",
            "description_width": "",
            "_view_module": "@jupyter-widgets/base",
            "_model_module_version": "1.5.0",
            "_view_count": null,
            "_view_module_version": "1.2.0",
            "_model_module": "@jupyter-widgets/controls"
          }
        },
        "821541e14ade4839b56015806c3e337a": {
          "model_module": "@jupyter-widgets/base",
          "model_name": "LayoutModel",
          "state": {
            "_view_name": "LayoutView",
            "grid_template_rows": null,
            "right": null,
            "justify_content": null,
            "_view_module": "@jupyter-widgets/base",
            "overflow": null,
            "_model_module_version": "1.2.0",
            "_view_count": null,
            "flex_flow": null,
            "width": null,
            "min_width": null,
            "border": null,
            "align_items": null,
            "bottom": null,
            "_model_module": "@jupyter-widgets/base",
            "top": null,
            "grid_column": null,
            "overflow_y": null,
            "overflow_x": null,
            "grid_auto_flow": null,
            "grid_area": null,
            "grid_template_columns": null,
            "flex": null,
            "_model_name": "LayoutModel",
            "justify_items": null,
            "grid_row": null,
            "max_height": null,
            "align_content": null,
            "visibility": null,
            "align_self": null,
            "height": null,
            "min_height": null,
            "padding": null,
            "grid_auto_rows": null,
            "grid_gap": null,
            "max_width": null,
            "order": null,
            "_view_module_version": "1.2.0",
            "grid_template_areas": null,
            "object_position": null,
            "object_fit": null,
            "grid_auto_columns": null,
            "margin": null,
            "display": null,
            "left": null
          }
        },
        "804ddaa6f6f742b59b2ffe135a8a0895": {
          "model_module": "@jupyter-widgets/controls",
          "model_name": "HBoxModel",
          "state": {
            "_view_name": "HBoxView",
            "_dom_classes": [],
            "_model_name": "HBoxModel",
            "_view_module": "@jupyter-widgets/controls",
            "_model_module_version": "1.5.0",
            "_view_count": null,
            "_view_module_version": "1.5.0",
            "box_style": "",
            "layout": "IPY_MODEL_20469894d0bb40828f45e4e43107988d",
            "_model_module": "@jupyter-widgets/controls",
            "children": [
              "IPY_MODEL_1b6c5da763dc4e4089e1261e5eb657d4",
              "IPY_MODEL_cf268ddb7fab489fbe71c8ce13649c91"
            ]
          }
        },
        "20469894d0bb40828f45e4e43107988d": {
          "model_module": "@jupyter-widgets/base",
          "model_name": "LayoutModel",
          "state": {
            "_view_name": "LayoutView",
            "grid_template_rows": null,
            "right": null,
            "justify_content": null,
            "_view_module": "@jupyter-widgets/base",
            "overflow": null,
            "_model_module_version": "1.2.0",
            "_view_count": null,
            "flex_flow": null,
            "width": null,
            "min_width": null,
            "border": null,
            "align_items": null,
            "bottom": null,
            "_model_module": "@jupyter-widgets/base",
            "top": null,
            "grid_column": null,
            "overflow_y": null,
            "overflow_x": null,
            "grid_auto_flow": null,
            "grid_area": null,
            "grid_template_columns": null,
            "flex": null,
            "_model_name": "LayoutModel",
            "justify_items": null,
            "grid_row": null,
            "max_height": null,
            "align_content": null,
            "visibility": null,
            "align_self": null,
            "height": null,
            "min_height": null,
            "padding": null,
            "grid_auto_rows": null,
            "grid_gap": null,
            "max_width": null,
            "order": null,
            "_view_module_version": "1.2.0",
            "grid_template_areas": null,
            "object_position": null,
            "object_fit": null,
            "grid_auto_columns": null,
            "margin": null,
            "display": null,
            "left": null
          }
        },
        "1b6c5da763dc4e4089e1261e5eb657d4": {
          "model_module": "@jupyter-widgets/controls",
          "model_name": "IntProgressModel",
          "state": {
            "_view_name": "ProgressView",
            "style": "IPY_MODEL_8757b73ec0e94dcb9001a30ab16a3977",
            "_dom_classes": [],
            "description": "epoch 8",
            "_model_name": "IntProgressModel",
            "bar_style": "success",
            "max": 1005,
            "_view_module": "@jupyter-widgets/controls",
            "_model_module_version": "1.5.0",
            "value": 1005,
            "_view_count": null,
            "_view_module_version": "1.5.0",
            "orientation": "horizontal",
            "min": 0,
            "description_tooltip": null,
            "_model_module": "@jupyter-widgets/controls",
            "layout": "IPY_MODEL_280f722810df48a49f3b3d95426e89ca"
          }
        },
        "cf268ddb7fab489fbe71c8ce13649c91": {
          "model_module": "@jupyter-widgets/controls",
          "model_name": "HTMLModel",
          "state": {
            "_view_name": "HTMLView",
            "style": "IPY_MODEL_4e3aa58fb574405cad15ded5e3c049f3",
            "_dom_classes": [],
            "description": "",
            "_model_name": "HTMLModel",
            "placeholder": "​",
            "_view_module": "@jupyter-widgets/controls",
            "_model_module_version": "1.5.0",
            "value": "100% 1005/1005 [00:37&lt;00:00, 26.59it/s, loss=0.18480]",
            "_view_count": null,
            "_view_module_version": "1.5.0",
            "description_tooltip": null,
            "_model_module": "@jupyter-widgets/controls",
            "layout": "IPY_MODEL_7c616b35a2e246b0905581a455544301"
          }
        },
        "8757b73ec0e94dcb9001a30ab16a3977": {
          "model_module": "@jupyter-widgets/controls",
          "model_name": "ProgressStyleModel",
          "state": {
            "_view_name": "StyleView",
            "_model_name": "ProgressStyleModel",
            "description_width": "initial",
            "_view_module": "@jupyter-widgets/base",
            "_model_module_version": "1.5.0",
            "_view_count": null,
            "_view_module_version": "1.2.0",
            "bar_color": null,
            "_model_module": "@jupyter-widgets/controls"
          }
        },
        "280f722810df48a49f3b3d95426e89ca": {
          "model_module": "@jupyter-widgets/base",
          "model_name": "LayoutModel",
          "state": {
            "_view_name": "LayoutView",
            "grid_template_rows": null,
            "right": null,
            "justify_content": null,
            "_view_module": "@jupyter-widgets/base",
            "overflow": null,
            "_model_module_version": "1.2.0",
            "_view_count": null,
            "flex_flow": null,
            "width": null,
            "min_width": null,
            "border": null,
            "align_items": null,
            "bottom": null,
            "_model_module": "@jupyter-widgets/base",
            "top": null,
            "grid_column": null,
            "overflow_y": null,
            "overflow_x": null,
            "grid_auto_flow": null,
            "grid_area": null,
            "grid_template_columns": null,
            "flex": null,
            "_model_name": "LayoutModel",
            "justify_items": null,
            "grid_row": null,
            "max_height": null,
            "align_content": null,
            "visibility": null,
            "align_self": null,
            "height": null,
            "min_height": null,
            "padding": null,
            "grid_auto_rows": null,
            "grid_gap": null,
            "max_width": null,
            "order": null,
            "_view_module_version": "1.2.0",
            "grid_template_areas": null,
            "object_position": null,
            "object_fit": null,
            "grid_auto_columns": null,
            "margin": null,
            "display": null,
            "left": null
          }
        },
        "4e3aa58fb574405cad15ded5e3c049f3": {
          "model_module": "@jupyter-widgets/controls",
          "model_name": "DescriptionStyleModel",
          "state": {
            "_view_name": "StyleView",
            "_model_name": "DescriptionStyleModel",
            "description_width": "",
            "_view_module": "@jupyter-widgets/base",
            "_model_module_version": "1.5.0",
            "_view_count": null,
            "_view_module_version": "1.2.0",
            "_model_module": "@jupyter-widgets/controls"
          }
        },
        "7c616b35a2e246b0905581a455544301": {
          "model_module": "@jupyter-widgets/base",
          "model_name": "LayoutModel",
          "state": {
            "_view_name": "LayoutView",
            "grid_template_rows": null,
            "right": null,
            "justify_content": null,
            "_view_module": "@jupyter-widgets/base",
            "overflow": null,
            "_model_module_version": "1.2.0",
            "_view_count": null,
            "flex_flow": null,
            "width": null,
            "min_width": null,
            "border": null,
            "align_items": null,
            "bottom": null,
            "_model_module": "@jupyter-widgets/base",
            "top": null,
            "grid_column": null,
            "overflow_y": null,
            "overflow_x": null,
            "grid_auto_flow": null,
            "grid_area": null,
            "grid_template_columns": null,
            "flex": null,
            "_model_name": "LayoutModel",
            "justify_items": null,
            "grid_row": null,
            "max_height": null,
            "align_content": null,
            "visibility": null,
            "align_self": null,
            "height": null,
            "min_height": null,
            "padding": null,
            "grid_auto_rows": null,
            "grid_gap": null,
            "max_width": null,
            "order": null,
            "_view_module_version": "1.2.0",
            "grid_template_areas": null,
            "object_position": null,
            "object_fit": null,
            "grid_auto_columns": null,
            "margin": null,
            "display": null,
            "left": null
          }
        },
        "8fd43e246375427a9bf638e00a7e7103": {
          "model_module": "@jupyter-widgets/controls",
          "model_name": "HBoxModel",
          "state": {
            "_view_name": "HBoxView",
            "_dom_classes": [],
            "_model_name": "HBoxModel",
            "_view_module": "@jupyter-widgets/controls",
            "_model_module_version": "1.5.0",
            "_view_count": null,
            "_view_module_version": "1.5.0",
            "box_style": "",
            "layout": "IPY_MODEL_f9eb70f348d5498daef6390bbe80a2cc",
            "_model_module": "@jupyter-widgets/controls",
            "children": [
              "IPY_MODEL_fa597b1fcf514e468f98f97745d953ec",
              "IPY_MODEL_fec51875649f496caf1fe90752a73ecc"
            ]
          }
        },
        "f9eb70f348d5498daef6390bbe80a2cc": {
          "model_module": "@jupyter-widgets/base",
          "model_name": "LayoutModel",
          "state": {
            "_view_name": "LayoutView",
            "grid_template_rows": null,
            "right": null,
            "justify_content": null,
            "_view_module": "@jupyter-widgets/base",
            "overflow": null,
            "_model_module_version": "1.2.0",
            "_view_count": null,
            "flex_flow": null,
            "width": null,
            "min_width": null,
            "border": null,
            "align_items": null,
            "bottom": null,
            "_model_module": "@jupyter-widgets/base",
            "top": null,
            "grid_column": null,
            "overflow_y": null,
            "overflow_x": null,
            "grid_auto_flow": null,
            "grid_area": null,
            "grid_template_columns": null,
            "flex": null,
            "_model_name": "LayoutModel",
            "justify_items": null,
            "grid_row": null,
            "max_height": null,
            "align_content": null,
            "visibility": null,
            "align_self": null,
            "height": null,
            "min_height": null,
            "padding": null,
            "grid_auto_rows": null,
            "grid_gap": null,
            "max_width": null,
            "order": null,
            "_view_module_version": "1.2.0",
            "grid_template_areas": null,
            "object_position": null,
            "object_fit": null,
            "grid_auto_columns": null,
            "margin": null,
            "display": null,
            "left": null
          }
        },
        "fa597b1fcf514e468f98f97745d953ec": {
          "model_module": "@jupyter-widgets/controls",
          "model_name": "IntProgressModel",
          "state": {
            "_view_name": "ProgressView",
            "style": "IPY_MODEL_4cf047d7bbe54b1aaf4c31ad0d677567",
            "_dom_classes": [],
            "description": "epoch 9",
            "_model_name": "IntProgressModel",
            "bar_style": "success",
            "max": 1005,
            "_view_module": "@jupyter-widgets/controls",
            "_model_module_version": "1.5.0",
            "value": 1005,
            "_view_count": null,
            "_view_module_version": "1.5.0",
            "orientation": "horizontal",
            "min": 0,
            "description_tooltip": null,
            "_model_module": "@jupyter-widgets/controls",
            "layout": "IPY_MODEL_c4510ec80a994130976c691cc8392cef"
          }
        },
        "fec51875649f496caf1fe90752a73ecc": {
          "model_module": "@jupyter-widgets/controls",
          "model_name": "HTMLModel",
          "state": {
            "_view_name": "HTMLView",
            "style": "IPY_MODEL_ead590b3b33040de89f4f039a6fc2c35",
            "_dom_classes": [],
            "description": "",
            "_model_name": "HTMLModel",
            "placeholder": "​",
            "_view_module": "@jupyter-widgets/controls",
            "_model_module_version": "1.5.0",
            "value": "100% 1005/1005 [00:37&lt;00:00, 26.58it/s, loss=0.15328]",
            "_view_count": null,
            "_view_module_version": "1.5.0",
            "description_tooltip": null,
            "_model_module": "@jupyter-widgets/controls",
            "layout": "IPY_MODEL_8ae5a1853a0f4ac091b34d1d76d325ae"
          }
        },
        "4cf047d7bbe54b1aaf4c31ad0d677567": {
          "model_module": "@jupyter-widgets/controls",
          "model_name": "ProgressStyleModel",
          "state": {
            "_view_name": "StyleView",
            "_model_name": "ProgressStyleModel",
            "description_width": "initial",
            "_view_module": "@jupyter-widgets/base",
            "_model_module_version": "1.5.0",
            "_view_count": null,
            "_view_module_version": "1.2.0",
            "bar_color": null,
            "_model_module": "@jupyter-widgets/controls"
          }
        },
        "c4510ec80a994130976c691cc8392cef": {
          "model_module": "@jupyter-widgets/base",
          "model_name": "LayoutModel",
          "state": {
            "_view_name": "LayoutView",
            "grid_template_rows": null,
            "right": null,
            "justify_content": null,
            "_view_module": "@jupyter-widgets/base",
            "overflow": null,
            "_model_module_version": "1.2.0",
            "_view_count": null,
            "flex_flow": null,
            "width": null,
            "min_width": null,
            "border": null,
            "align_items": null,
            "bottom": null,
            "_model_module": "@jupyter-widgets/base",
            "top": null,
            "grid_column": null,
            "overflow_y": null,
            "overflow_x": null,
            "grid_auto_flow": null,
            "grid_area": null,
            "grid_template_columns": null,
            "flex": null,
            "_model_name": "LayoutModel",
            "justify_items": null,
            "grid_row": null,
            "max_height": null,
            "align_content": null,
            "visibility": null,
            "align_self": null,
            "height": null,
            "min_height": null,
            "padding": null,
            "grid_auto_rows": null,
            "grid_gap": null,
            "max_width": null,
            "order": null,
            "_view_module_version": "1.2.0",
            "grid_template_areas": null,
            "object_position": null,
            "object_fit": null,
            "grid_auto_columns": null,
            "margin": null,
            "display": null,
            "left": null
          }
        },
        "ead590b3b33040de89f4f039a6fc2c35": {
          "model_module": "@jupyter-widgets/controls",
          "model_name": "DescriptionStyleModel",
          "state": {
            "_view_name": "StyleView",
            "_model_name": "DescriptionStyleModel",
            "description_width": "",
            "_view_module": "@jupyter-widgets/base",
            "_model_module_version": "1.5.0",
            "_view_count": null,
            "_view_module_version": "1.2.0",
            "_model_module": "@jupyter-widgets/controls"
          }
        },
        "8ae5a1853a0f4ac091b34d1d76d325ae": {
          "model_module": "@jupyter-widgets/base",
          "model_name": "LayoutModel",
          "state": {
            "_view_name": "LayoutView",
            "grid_template_rows": null,
            "right": null,
            "justify_content": null,
            "_view_module": "@jupyter-widgets/base",
            "overflow": null,
            "_model_module_version": "1.2.0",
            "_view_count": null,
            "flex_flow": null,
            "width": null,
            "min_width": null,
            "border": null,
            "align_items": null,
            "bottom": null,
            "_model_module": "@jupyter-widgets/base",
            "top": null,
            "grid_column": null,
            "overflow_y": null,
            "overflow_x": null,
            "grid_auto_flow": null,
            "grid_area": null,
            "grid_template_columns": null,
            "flex": null,
            "_model_name": "LayoutModel",
            "justify_items": null,
            "grid_row": null,
            "max_height": null,
            "align_content": null,
            "visibility": null,
            "align_self": null,
            "height": null,
            "min_height": null,
            "padding": null,
            "grid_auto_rows": null,
            "grid_gap": null,
            "max_width": null,
            "order": null,
            "_view_module_version": "1.2.0",
            "grid_template_areas": null,
            "object_position": null,
            "object_fit": null,
            "grid_auto_columns": null,
            "margin": null,
            "display": null,
            "left": null
          }
        },
        "01ae9ccdd8414d70a2303457fceca1f2": {
          "model_module": "@jupyter-widgets/controls",
          "model_name": "HBoxModel",
          "state": {
            "_view_name": "HBoxView",
            "_dom_classes": [],
            "_model_name": "HBoxModel",
            "_view_module": "@jupyter-widgets/controls",
            "_model_module_version": "1.5.0",
            "_view_count": null,
            "_view_module_version": "1.5.0",
            "box_style": "",
            "layout": "IPY_MODEL_f19d976a611348b29aeba55a7065cae5",
            "_model_module": "@jupyter-widgets/controls",
            "children": [
              "IPY_MODEL_d81651623b5e4ee88381fd8c7b285d2e",
              "IPY_MODEL_e52ebb2239c64fed8ef6283f15236354"
            ]
          }
        },
        "f19d976a611348b29aeba55a7065cae5": {
          "model_module": "@jupyter-widgets/base",
          "model_name": "LayoutModel",
          "state": {
            "_view_name": "LayoutView",
            "grid_template_rows": null,
            "right": null,
            "justify_content": null,
            "_view_module": "@jupyter-widgets/base",
            "overflow": null,
            "_model_module_version": "1.2.0",
            "_view_count": null,
            "flex_flow": null,
            "width": null,
            "min_width": null,
            "border": null,
            "align_items": null,
            "bottom": null,
            "_model_module": "@jupyter-widgets/base",
            "top": null,
            "grid_column": null,
            "overflow_y": null,
            "overflow_x": null,
            "grid_auto_flow": null,
            "grid_area": null,
            "grid_template_columns": null,
            "flex": null,
            "_model_name": "LayoutModel",
            "justify_items": null,
            "grid_row": null,
            "max_height": null,
            "align_content": null,
            "visibility": null,
            "align_self": null,
            "height": null,
            "min_height": null,
            "padding": null,
            "grid_auto_rows": null,
            "grid_gap": null,
            "max_width": null,
            "order": null,
            "_view_module_version": "1.2.0",
            "grid_template_areas": null,
            "object_position": null,
            "object_fit": null,
            "grid_auto_columns": null,
            "margin": null,
            "display": null,
            "left": null
          }
        },
        "d81651623b5e4ee88381fd8c7b285d2e": {
          "model_module": "@jupyter-widgets/controls",
          "model_name": "IntProgressModel",
          "state": {
            "_view_name": "ProgressView",
            "style": "IPY_MODEL_66a7b31218cc4597aeaeec7b4a2c35e0",
            "_dom_classes": [],
            "description": "epoch 10",
            "_model_name": "IntProgressModel",
            "bar_style": "success",
            "max": 1005,
            "_view_module": "@jupyter-widgets/controls",
            "_model_module_version": "1.5.0",
            "value": 1005,
            "_view_count": null,
            "_view_module_version": "1.5.0",
            "orientation": "horizontal",
            "min": 0,
            "description_tooltip": null,
            "_model_module": "@jupyter-widgets/controls",
            "layout": "IPY_MODEL_c885ec1a3e7b4d03a9e5f9825888dd36"
          }
        },
        "e52ebb2239c64fed8ef6283f15236354": {
          "model_module": "@jupyter-widgets/controls",
          "model_name": "HTMLModel",
          "state": {
            "_view_name": "HTMLView",
            "style": "IPY_MODEL_62e80171b0b54e4eb0b2c2dba89fe135",
            "_dom_classes": [],
            "description": "",
            "_model_name": "HTMLModel",
            "placeholder": "​",
            "_view_module": "@jupyter-widgets/controls",
            "_model_module_version": "1.5.0",
            "value": "100% 1005/1005 [00:37&lt;00:00, 26.52it/s, loss=0.13423]",
            "_view_count": null,
            "_view_module_version": "1.5.0",
            "description_tooltip": null,
            "_model_module": "@jupyter-widgets/controls",
            "layout": "IPY_MODEL_f3e033131dc64036891ca57eb068581b"
          }
        },
        "66a7b31218cc4597aeaeec7b4a2c35e0": {
          "model_module": "@jupyter-widgets/controls",
          "model_name": "ProgressStyleModel",
          "state": {
            "_view_name": "StyleView",
            "_model_name": "ProgressStyleModel",
            "description_width": "initial",
            "_view_module": "@jupyter-widgets/base",
            "_model_module_version": "1.5.0",
            "_view_count": null,
            "_view_module_version": "1.2.0",
            "bar_color": null,
            "_model_module": "@jupyter-widgets/controls"
          }
        },
        "c885ec1a3e7b4d03a9e5f9825888dd36": {
          "model_module": "@jupyter-widgets/base",
          "model_name": "LayoutModel",
          "state": {
            "_view_name": "LayoutView",
            "grid_template_rows": null,
            "right": null,
            "justify_content": null,
            "_view_module": "@jupyter-widgets/base",
            "overflow": null,
            "_model_module_version": "1.2.0",
            "_view_count": null,
            "flex_flow": null,
            "width": null,
            "min_width": null,
            "border": null,
            "align_items": null,
            "bottom": null,
            "_model_module": "@jupyter-widgets/base",
            "top": null,
            "grid_column": null,
            "overflow_y": null,
            "overflow_x": null,
            "grid_auto_flow": null,
            "grid_area": null,
            "grid_template_columns": null,
            "flex": null,
            "_model_name": "LayoutModel",
            "justify_items": null,
            "grid_row": null,
            "max_height": null,
            "align_content": null,
            "visibility": null,
            "align_self": null,
            "height": null,
            "min_height": null,
            "padding": null,
            "grid_auto_rows": null,
            "grid_gap": null,
            "max_width": null,
            "order": null,
            "_view_module_version": "1.2.0",
            "grid_template_areas": null,
            "object_position": null,
            "object_fit": null,
            "grid_auto_columns": null,
            "margin": null,
            "display": null,
            "left": null
          }
        },
        "62e80171b0b54e4eb0b2c2dba89fe135": {
          "model_module": "@jupyter-widgets/controls",
          "model_name": "DescriptionStyleModel",
          "state": {
            "_view_name": "StyleView",
            "_model_name": "DescriptionStyleModel",
            "description_width": "",
            "_view_module": "@jupyter-widgets/base",
            "_model_module_version": "1.5.0",
            "_view_count": null,
            "_view_module_version": "1.2.0",
            "_model_module": "@jupyter-widgets/controls"
          }
        },
        "f3e033131dc64036891ca57eb068581b": {
          "model_module": "@jupyter-widgets/base",
          "model_name": "LayoutModel",
          "state": {
            "_view_name": "LayoutView",
            "grid_template_rows": null,
            "right": null,
            "justify_content": null,
            "_view_module": "@jupyter-widgets/base",
            "overflow": null,
            "_model_module_version": "1.2.0",
            "_view_count": null,
            "flex_flow": null,
            "width": null,
            "min_width": null,
            "border": null,
            "align_items": null,
            "bottom": null,
            "_model_module": "@jupyter-widgets/base",
            "top": null,
            "grid_column": null,
            "overflow_y": null,
            "overflow_x": null,
            "grid_auto_flow": null,
            "grid_area": null,
            "grid_template_columns": null,
            "flex": null,
            "_model_name": "LayoutModel",
            "justify_items": null,
            "grid_row": null,
            "max_height": null,
            "align_content": null,
            "visibility": null,
            "align_self": null,
            "height": null,
            "min_height": null,
            "padding": null,
            "grid_auto_rows": null,
            "grid_gap": null,
            "max_width": null,
            "order": null,
            "_view_module_version": "1.2.0",
            "grid_template_areas": null,
            "object_position": null,
            "object_fit": null,
            "grid_auto_columns": null,
            "margin": null,
            "display": null,
            "left": null
          }
        },
        "9e3c2380d40c448c8e62d6c94f3750aa": {
          "model_module": "@jupyter-widgets/controls",
          "model_name": "HBoxModel",
          "state": {
            "_view_name": "HBoxView",
            "_dom_classes": [],
            "_model_name": "HBoxModel",
            "_view_module": "@jupyter-widgets/controls",
            "_model_module_version": "1.5.0",
            "_view_count": null,
            "_view_module_version": "1.5.0",
            "box_style": "",
            "layout": "IPY_MODEL_37027427814d434fb4d373908b06540e",
            "_model_module": "@jupyter-widgets/controls",
            "children": [
              "IPY_MODEL_11754e80a9124a65b1d8383b46722d28",
              "IPY_MODEL_18f19306ce2845d6b6fdec9a23794bc5"
            ]
          }
        },
        "37027427814d434fb4d373908b06540e": {
          "model_module": "@jupyter-widgets/base",
          "model_name": "LayoutModel",
          "state": {
            "_view_name": "LayoutView",
            "grid_template_rows": null,
            "right": null,
            "justify_content": null,
            "_view_module": "@jupyter-widgets/base",
            "overflow": null,
            "_model_module_version": "1.2.0",
            "_view_count": null,
            "flex_flow": null,
            "width": null,
            "min_width": null,
            "border": null,
            "align_items": null,
            "bottom": null,
            "_model_module": "@jupyter-widgets/base",
            "top": null,
            "grid_column": null,
            "overflow_y": null,
            "overflow_x": null,
            "grid_auto_flow": null,
            "grid_area": null,
            "grid_template_columns": null,
            "flex": null,
            "_model_name": "LayoutModel",
            "justify_items": null,
            "grid_row": null,
            "max_height": null,
            "align_content": null,
            "visibility": null,
            "align_self": null,
            "height": null,
            "min_height": null,
            "padding": null,
            "grid_auto_rows": null,
            "grid_gap": null,
            "max_width": null,
            "order": null,
            "_view_module_version": "1.2.0",
            "grid_template_areas": null,
            "object_position": null,
            "object_fit": null,
            "grid_auto_columns": null,
            "margin": null,
            "display": null,
            "left": null
          }
        },
        "11754e80a9124a65b1d8383b46722d28": {
          "model_module": "@jupyter-widgets/controls",
          "model_name": "IntProgressModel",
          "state": {
            "_view_name": "ProgressView",
            "style": "IPY_MODEL_dda9bf8191fa4f4399d4879b6f974e59",
            "_dom_classes": [],
            "description": "epoch 11",
            "_model_name": "IntProgressModel",
            "bar_style": "success",
            "max": 1005,
            "_view_module": "@jupyter-widgets/controls",
            "_model_module_version": "1.5.0",
            "value": 1005,
            "_view_count": null,
            "_view_module_version": "1.5.0",
            "orientation": "horizontal",
            "min": 0,
            "description_tooltip": null,
            "_model_module": "@jupyter-widgets/controls",
            "layout": "IPY_MODEL_a61c902c0847409b8b5780a621e27fae"
          }
        },
        "18f19306ce2845d6b6fdec9a23794bc5": {
          "model_module": "@jupyter-widgets/controls",
          "model_name": "HTMLModel",
          "state": {
            "_view_name": "HTMLView",
            "style": "IPY_MODEL_d6730fcb0c764f12b41b107690e1940e",
            "_dom_classes": [],
            "description": "",
            "_model_name": "HTMLModel",
            "placeholder": "​",
            "_view_module": "@jupyter-widgets/controls",
            "_model_module_version": "1.5.0",
            "value": "100% 1005/1005 [00:37&lt;00:00, 26.61it/s, loss=0.12152]",
            "_view_count": null,
            "_view_module_version": "1.5.0",
            "description_tooltip": null,
            "_model_module": "@jupyter-widgets/controls",
            "layout": "IPY_MODEL_89eef3023f0644e7972ca6b68658d1eb"
          }
        },
        "dda9bf8191fa4f4399d4879b6f974e59": {
          "model_module": "@jupyter-widgets/controls",
          "model_name": "ProgressStyleModel",
          "state": {
            "_view_name": "StyleView",
            "_model_name": "ProgressStyleModel",
            "description_width": "initial",
            "_view_module": "@jupyter-widgets/base",
            "_model_module_version": "1.5.0",
            "_view_count": null,
            "_view_module_version": "1.2.0",
            "bar_color": null,
            "_model_module": "@jupyter-widgets/controls"
          }
        },
        "a61c902c0847409b8b5780a621e27fae": {
          "model_module": "@jupyter-widgets/base",
          "model_name": "LayoutModel",
          "state": {
            "_view_name": "LayoutView",
            "grid_template_rows": null,
            "right": null,
            "justify_content": null,
            "_view_module": "@jupyter-widgets/base",
            "overflow": null,
            "_model_module_version": "1.2.0",
            "_view_count": null,
            "flex_flow": null,
            "width": null,
            "min_width": null,
            "border": null,
            "align_items": null,
            "bottom": null,
            "_model_module": "@jupyter-widgets/base",
            "top": null,
            "grid_column": null,
            "overflow_y": null,
            "overflow_x": null,
            "grid_auto_flow": null,
            "grid_area": null,
            "grid_template_columns": null,
            "flex": null,
            "_model_name": "LayoutModel",
            "justify_items": null,
            "grid_row": null,
            "max_height": null,
            "align_content": null,
            "visibility": null,
            "align_self": null,
            "height": null,
            "min_height": null,
            "padding": null,
            "grid_auto_rows": null,
            "grid_gap": null,
            "max_width": null,
            "order": null,
            "_view_module_version": "1.2.0",
            "grid_template_areas": null,
            "object_position": null,
            "object_fit": null,
            "grid_auto_columns": null,
            "margin": null,
            "display": null,
            "left": null
          }
        },
        "d6730fcb0c764f12b41b107690e1940e": {
          "model_module": "@jupyter-widgets/controls",
          "model_name": "DescriptionStyleModel",
          "state": {
            "_view_name": "StyleView",
            "_model_name": "DescriptionStyleModel",
            "description_width": "",
            "_view_module": "@jupyter-widgets/base",
            "_model_module_version": "1.5.0",
            "_view_count": null,
            "_view_module_version": "1.2.0",
            "_model_module": "@jupyter-widgets/controls"
          }
        },
        "89eef3023f0644e7972ca6b68658d1eb": {
          "model_module": "@jupyter-widgets/base",
          "model_name": "LayoutModel",
          "state": {
            "_view_name": "LayoutView",
            "grid_template_rows": null,
            "right": null,
            "justify_content": null,
            "_view_module": "@jupyter-widgets/base",
            "overflow": null,
            "_model_module_version": "1.2.0",
            "_view_count": null,
            "flex_flow": null,
            "width": null,
            "min_width": null,
            "border": null,
            "align_items": null,
            "bottom": null,
            "_model_module": "@jupyter-widgets/base",
            "top": null,
            "grid_column": null,
            "overflow_y": null,
            "overflow_x": null,
            "grid_auto_flow": null,
            "grid_area": null,
            "grid_template_columns": null,
            "flex": null,
            "_model_name": "LayoutModel",
            "justify_items": null,
            "grid_row": null,
            "max_height": null,
            "align_content": null,
            "visibility": null,
            "align_self": null,
            "height": null,
            "min_height": null,
            "padding": null,
            "grid_auto_rows": null,
            "grid_gap": null,
            "max_width": null,
            "order": null,
            "_view_module_version": "1.2.0",
            "grid_template_areas": null,
            "object_position": null,
            "object_fit": null,
            "grid_auto_columns": null,
            "margin": null,
            "display": null,
            "left": null
          }
        },
        "dc86a57d48b1453f9d22f9088d1ed98a": {
          "model_module": "@jupyter-widgets/controls",
          "model_name": "HBoxModel",
          "state": {
            "_view_name": "HBoxView",
            "_dom_classes": [],
            "_model_name": "HBoxModel",
            "_view_module": "@jupyter-widgets/controls",
            "_model_module_version": "1.5.0",
            "_view_count": null,
            "_view_module_version": "1.5.0",
            "box_style": "",
            "layout": "IPY_MODEL_91ea2c972ab643c1957c97e272499197",
            "_model_module": "@jupyter-widgets/controls",
            "children": [
              "IPY_MODEL_916711a77abc46d2b21b1c92be185f5b",
              "IPY_MODEL_5363380e95f74cf6bd0c98f5ec6d349d"
            ]
          }
        },
        "91ea2c972ab643c1957c97e272499197": {
          "model_module": "@jupyter-widgets/base",
          "model_name": "LayoutModel",
          "state": {
            "_view_name": "LayoutView",
            "grid_template_rows": null,
            "right": null,
            "justify_content": null,
            "_view_module": "@jupyter-widgets/base",
            "overflow": null,
            "_model_module_version": "1.2.0",
            "_view_count": null,
            "flex_flow": null,
            "width": null,
            "min_width": null,
            "border": null,
            "align_items": null,
            "bottom": null,
            "_model_module": "@jupyter-widgets/base",
            "top": null,
            "grid_column": null,
            "overflow_y": null,
            "overflow_x": null,
            "grid_auto_flow": null,
            "grid_area": null,
            "grid_template_columns": null,
            "flex": null,
            "_model_name": "LayoutModel",
            "justify_items": null,
            "grid_row": null,
            "max_height": null,
            "align_content": null,
            "visibility": null,
            "align_self": null,
            "height": null,
            "min_height": null,
            "padding": null,
            "grid_auto_rows": null,
            "grid_gap": null,
            "max_width": null,
            "order": null,
            "_view_module_version": "1.2.0",
            "grid_template_areas": null,
            "object_position": null,
            "object_fit": null,
            "grid_auto_columns": null,
            "margin": null,
            "display": null,
            "left": null
          }
        },
        "916711a77abc46d2b21b1c92be185f5b": {
          "model_module": "@jupyter-widgets/controls",
          "model_name": "IntProgressModel",
          "state": {
            "_view_name": "ProgressView",
            "style": "IPY_MODEL_c0f163256911415a86ddf9fe7645f01a",
            "_dom_classes": [],
            "description": "epoch 12",
            "_model_name": "IntProgressModel",
            "bar_style": "success",
            "max": 1005,
            "_view_module": "@jupyter-widgets/controls",
            "_model_module_version": "1.5.0",
            "value": 1005,
            "_view_count": null,
            "_view_module_version": "1.5.0",
            "orientation": "horizontal",
            "min": 0,
            "description_tooltip": null,
            "_model_module": "@jupyter-widgets/controls",
            "layout": "IPY_MODEL_ec9918c979ec4e01a9e6594eb978cb6e"
          }
        },
        "5363380e95f74cf6bd0c98f5ec6d349d": {
          "model_module": "@jupyter-widgets/controls",
          "model_name": "HTMLModel",
          "state": {
            "_view_name": "HTMLView",
            "style": "IPY_MODEL_fa55bb5e575e465a8b0b679d88c160b3",
            "_dom_classes": [],
            "description": "",
            "_model_name": "HTMLModel",
            "placeholder": "​",
            "_view_module": "@jupyter-widgets/controls",
            "_model_module_version": "1.5.0",
            "value": "100% 1005/1005 [00:37&lt;00:00, 26.69it/s, loss=0.11166]",
            "_view_count": null,
            "_view_module_version": "1.5.0",
            "description_tooltip": null,
            "_model_module": "@jupyter-widgets/controls",
            "layout": "IPY_MODEL_4e977c07b1bd43bb9211f4d0bc60dfd8"
          }
        },
        "c0f163256911415a86ddf9fe7645f01a": {
          "model_module": "@jupyter-widgets/controls",
          "model_name": "ProgressStyleModel",
          "state": {
            "_view_name": "StyleView",
            "_model_name": "ProgressStyleModel",
            "description_width": "initial",
            "_view_module": "@jupyter-widgets/base",
            "_model_module_version": "1.5.0",
            "_view_count": null,
            "_view_module_version": "1.2.0",
            "bar_color": null,
            "_model_module": "@jupyter-widgets/controls"
          }
        },
        "ec9918c979ec4e01a9e6594eb978cb6e": {
          "model_module": "@jupyter-widgets/base",
          "model_name": "LayoutModel",
          "state": {
            "_view_name": "LayoutView",
            "grid_template_rows": null,
            "right": null,
            "justify_content": null,
            "_view_module": "@jupyter-widgets/base",
            "overflow": null,
            "_model_module_version": "1.2.0",
            "_view_count": null,
            "flex_flow": null,
            "width": null,
            "min_width": null,
            "border": null,
            "align_items": null,
            "bottom": null,
            "_model_module": "@jupyter-widgets/base",
            "top": null,
            "grid_column": null,
            "overflow_y": null,
            "overflow_x": null,
            "grid_auto_flow": null,
            "grid_area": null,
            "grid_template_columns": null,
            "flex": null,
            "_model_name": "LayoutModel",
            "justify_items": null,
            "grid_row": null,
            "max_height": null,
            "align_content": null,
            "visibility": null,
            "align_self": null,
            "height": null,
            "min_height": null,
            "padding": null,
            "grid_auto_rows": null,
            "grid_gap": null,
            "max_width": null,
            "order": null,
            "_view_module_version": "1.2.0",
            "grid_template_areas": null,
            "object_position": null,
            "object_fit": null,
            "grid_auto_columns": null,
            "margin": null,
            "display": null,
            "left": null
          }
        },
        "fa55bb5e575e465a8b0b679d88c160b3": {
          "model_module": "@jupyter-widgets/controls",
          "model_name": "DescriptionStyleModel",
          "state": {
            "_view_name": "StyleView",
            "_model_name": "DescriptionStyleModel",
            "description_width": "",
            "_view_module": "@jupyter-widgets/base",
            "_model_module_version": "1.5.0",
            "_view_count": null,
            "_view_module_version": "1.2.0",
            "_model_module": "@jupyter-widgets/controls"
          }
        },
        "4e977c07b1bd43bb9211f4d0bc60dfd8": {
          "model_module": "@jupyter-widgets/base",
          "model_name": "LayoutModel",
          "state": {
            "_view_name": "LayoutView",
            "grid_template_rows": null,
            "right": null,
            "justify_content": null,
            "_view_module": "@jupyter-widgets/base",
            "overflow": null,
            "_model_module_version": "1.2.0",
            "_view_count": null,
            "flex_flow": null,
            "width": null,
            "min_width": null,
            "border": null,
            "align_items": null,
            "bottom": null,
            "_model_module": "@jupyter-widgets/base",
            "top": null,
            "grid_column": null,
            "overflow_y": null,
            "overflow_x": null,
            "grid_auto_flow": null,
            "grid_area": null,
            "grid_template_columns": null,
            "flex": null,
            "_model_name": "LayoutModel",
            "justify_items": null,
            "grid_row": null,
            "max_height": null,
            "align_content": null,
            "visibility": null,
            "align_self": null,
            "height": null,
            "min_height": null,
            "padding": null,
            "grid_auto_rows": null,
            "grid_gap": null,
            "max_width": null,
            "order": null,
            "_view_module_version": "1.2.0",
            "grid_template_areas": null,
            "object_position": null,
            "object_fit": null,
            "grid_auto_columns": null,
            "margin": null,
            "display": null,
            "left": null
          }
        },
        "9479d178e7344e1eae728f7e732db941": {
          "model_module": "@jupyter-widgets/controls",
          "model_name": "HBoxModel",
          "state": {
            "_view_name": "HBoxView",
            "_dom_classes": [],
            "_model_name": "HBoxModel",
            "_view_module": "@jupyter-widgets/controls",
            "_model_module_version": "1.5.0",
            "_view_count": null,
            "_view_module_version": "1.5.0",
            "box_style": "",
            "layout": "IPY_MODEL_d18af277b48f45a69f8e552fa386f4f9",
            "_model_module": "@jupyter-widgets/controls",
            "children": [
              "IPY_MODEL_4e5afa0264a8462abf86efcec3124cac",
              "IPY_MODEL_acd2519506364bd49cabd9ea9b19b2a2"
            ]
          }
        },
        "d18af277b48f45a69f8e552fa386f4f9": {
          "model_module": "@jupyter-widgets/base",
          "model_name": "LayoutModel",
          "state": {
            "_view_name": "LayoutView",
            "grid_template_rows": null,
            "right": null,
            "justify_content": null,
            "_view_module": "@jupyter-widgets/base",
            "overflow": null,
            "_model_module_version": "1.2.0",
            "_view_count": null,
            "flex_flow": null,
            "width": null,
            "min_width": null,
            "border": null,
            "align_items": null,
            "bottom": null,
            "_model_module": "@jupyter-widgets/base",
            "top": null,
            "grid_column": null,
            "overflow_y": null,
            "overflow_x": null,
            "grid_auto_flow": null,
            "grid_area": null,
            "grid_template_columns": null,
            "flex": null,
            "_model_name": "LayoutModel",
            "justify_items": null,
            "grid_row": null,
            "max_height": null,
            "align_content": null,
            "visibility": null,
            "align_self": null,
            "height": null,
            "min_height": null,
            "padding": null,
            "grid_auto_rows": null,
            "grid_gap": null,
            "max_width": null,
            "order": null,
            "_view_module_version": "1.2.0",
            "grid_template_areas": null,
            "object_position": null,
            "object_fit": null,
            "grid_auto_columns": null,
            "margin": null,
            "display": null,
            "left": null
          }
        },
        "4e5afa0264a8462abf86efcec3124cac": {
          "model_module": "@jupyter-widgets/controls",
          "model_name": "IntProgressModel",
          "state": {
            "_view_name": "ProgressView",
            "style": "IPY_MODEL_1b05dbfce53d4c02965bc7c5baeabe45",
            "_dom_classes": [],
            "description": "epoch 13",
            "_model_name": "IntProgressModel",
            "bar_style": "success",
            "max": 1005,
            "_view_module": "@jupyter-widgets/controls",
            "_model_module_version": "1.5.0",
            "value": 1005,
            "_view_count": null,
            "_view_module_version": "1.5.0",
            "orientation": "horizontal",
            "min": 0,
            "description_tooltip": null,
            "_model_module": "@jupyter-widgets/controls",
            "layout": "IPY_MODEL_ccd64f75c4bb427aa774f18c40e0c9b4"
          }
        },
        "acd2519506364bd49cabd9ea9b19b2a2": {
          "model_module": "@jupyter-widgets/controls",
          "model_name": "HTMLModel",
          "state": {
            "_view_name": "HTMLView",
            "style": "IPY_MODEL_d154764b47f746ddbac37c52bc32321e",
            "_dom_classes": [],
            "description": "",
            "_model_name": "HTMLModel",
            "placeholder": "​",
            "_view_module": "@jupyter-widgets/controls",
            "_model_module_version": "1.5.0",
            "value": "100% 1005/1005 [00:37&lt;00:00, 26.57it/s, loss=0.10330]",
            "_view_count": null,
            "_view_module_version": "1.5.0",
            "description_tooltip": null,
            "_model_module": "@jupyter-widgets/controls",
            "layout": "IPY_MODEL_d6c77c74b06149d083a6c646d048c059"
          }
        },
        "1b05dbfce53d4c02965bc7c5baeabe45": {
          "model_module": "@jupyter-widgets/controls",
          "model_name": "ProgressStyleModel",
          "state": {
            "_view_name": "StyleView",
            "_model_name": "ProgressStyleModel",
            "description_width": "initial",
            "_view_module": "@jupyter-widgets/base",
            "_model_module_version": "1.5.0",
            "_view_count": null,
            "_view_module_version": "1.2.0",
            "bar_color": null,
            "_model_module": "@jupyter-widgets/controls"
          }
        },
        "ccd64f75c4bb427aa774f18c40e0c9b4": {
          "model_module": "@jupyter-widgets/base",
          "model_name": "LayoutModel",
          "state": {
            "_view_name": "LayoutView",
            "grid_template_rows": null,
            "right": null,
            "justify_content": null,
            "_view_module": "@jupyter-widgets/base",
            "overflow": null,
            "_model_module_version": "1.2.0",
            "_view_count": null,
            "flex_flow": null,
            "width": null,
            "min_width": null,
            "border": null,
            "align_items": null,
            "bottom": null,
            "_model_module": "@jupyter-widgets/base",
            "top": null,
            "grid_column": null,
            "overflow_y": null,
            "overflow_x": null,
            "grid_auto_flow": null,
            "grid_area": null,
            "grid_template_columns": null,
            "flex": null,
            "_model_name": "LayoutModel",
            "justify_items": null,
            "grid_row": null,
            "max_height": null,
            "align_content": null,
            "visibility": null,
            "align_self": null,
            "height": null,
            "min_height": null,
            "padding": null,
            "grid_auto_rows": null,
            "grid_gap": null,
            "max_width": null,
            "order": null,
            "_view_module_version": "1.2.0",
            "grid_template_areas": null,
            "object_position": null,
            "object_fit": null,
            "grid_auto_columns": null,
            "margin": null,
            "display": null,
            "left": null
          }
        },
        "d154764b47f746ddbac37c52bc32321e": {
          "model_module": "@jupyter-widgets/controls",
          "model_name": "DescriptionStyleModel",
          "state": {
            "_view_name": "StyleView",
            "_model_name": "DescriptionStyleModel",
            "description_width": "",
            "_view_module": "@jupyter-widgets/base",
            "_model_module_version": "1.5.0",
            "_view_count": null,
            "_view_module_version": "1.2.0",
            "_model_module": "@jupyter-widgets/controls"
          }
        },
        "d6c77c74b06149d083a6c646d048c059": {
          "model_module": "@jupyter-widgets/base",
          "model_name": "LayoutModel",
          "state": {
            "_view_name": "LayoutView",
            "grid_template_rows": null,
            "right": null,
            "justify_content": null,
            "_view_module": "@jupyter-widgets/base",
            "overflow": null,
            "_model_module_version": "1.2.0",
            "_view_count": null,
            "flex_flow": null,
            "width": null,
            "min_width": null,
            "border": null,
            "align_items": null,
            "bottom": null,
            "_model_module": "@jupyter-widgets/base",
            "top": null,
            "grid_column": null,
            "overflow_y": null,
            "overflow_x": null,
            "grid_auto_flow": null,
            "grid_area": null,
            "grid_template_columns": null,
            "flex": null,
            "_model_name": "LayoutModel",
            "justify_items": null,
            "grid_row": null,
            "max_height": null,
            "align_content": null,
            "visibility": null,
            "align_self": null,
            "height": null,
            "min_height": null,
            "padding": null,
            "grid_auto_rows": null,
            "grid_gap": null,
            "max_width": null,
            "order": null,
            "_view_module_version": "1.2.0",
            "grid_template_areas": null,
            "object_position": null,
            "object_fit": null,
            "grid_auto_columns": null,
            "margin": null,
            "display": null,
            "left": null
          }
        },
        "81fea454df3e4deeb80d41b5e4fee443": {
          "model_module": "@jupyter-widgets/controls",
          "model_name": "HBoxModel",
          "state": {
            "_view_name": "HBoxView",
            "_dom_classes": [],
            "_model_name": "HBoxModel",
            "_view_module": "@jupyter-widgets/controls",
            "_model_module_version": "1.5.0",
            "_view_count": null,
            "_view_module_version": "1.5.0",
            "box_style": "",
            "layout": "IPY_MODEL_2e0a838b0ee649b5bac0b825c29a4b77",
            "_model_module": "@jupyter-widgets/controls",
            "children": [
              "IPY_MODEL_bfe3a9a7fc544f888fda7df35588c763",
              "IPY_MODEL_a663b34ff4014710a8f535720169565b"
            ]
          }
        },
        "2e0a838b0ee649b5bac0b825c29a4b77": {
          "model_module": "@jupyter-widgets/base",
          "model_name": "LayoutModel",
          "state": {
            "_view_name": "LayoutView",
            "grid_template_rows": null,
            "right": null,
            "justify_content": null,
            "_view_module": "@jupyter-widgets/base",
            "overflow": null,
            "_model_module_version": "1.2.0",
            "_view_count": null,
            "flex_flow": null,
            "width": null,
            "min_width": null,
            "border": null,
            "align_items": null,
            "bottom": null,
            "_model_module": "@jupyter-widgets/base",
            "top": null,
            "grid_column": null,
            "overflow_y": null,
            "overflow_x": null,
            "grid_auto_flow": null,
            "grid_area": null,
            "grid_template_columns": null,
            "flex": null,
            "_model_name": "LayoutModel",
            "justify_items": null,
            "grid_row": null,
            "max_height": null,
            "align_content": null,
            "visibility": null,
            "align_self": null,
            "height": null,
            "min_height": null,
            "padding": null,
            "grid_auto_rows": null,
            "grid_gap": null,
            "max_width": null,
            "order": null,
            "_view_module_version": "1.2.0",
            "grid_template_areas": null,
            "object_position": null,
            "object_fit": null,
            "grid_auto_columns": null,
            "margin": null,
            "display": null,
            "left": null
          }
        },
        "bfe3a9a7fc544f888fda7df35588c763": {
          "model_module": "@jupyter-widgets/controls",
          "model_name": "IntProgressModel",
          "state": {
            "_view_name": "ProgressView",
            "style": "IPY_MODEL_071c2b8ed0fc4a2fa60f1fca5ce97cb9",
            "_dom_classes": [],
            "description": "epoch 14",
            "_model_name": "IntProgressModel",
            "bar_style": "success",
            "max": 1005,
            "_view_module": "@jupyter-widgets/controls",
            "_model_module_version": "1.5.0",
            "value": 1005,
            "_view_count": null,
            "_view_module_version": "1.5.0",
            "orientation": "horizontal",
            "min": 0,
            "description_tooltip": null,
            "_model_module": "@jupyter-widgets/controls",
            "layout": "IPY_MODEL_8161e992d6134f249e13fe56fdf8909d"
          }
        },
        "a663b34ff4014710a8f535720169565b": {
          "model_module": "@jupyter-widgets/controls",
          "model_name": "HTMLModel",
          "state": {
            "_view_name": "HTMLView",
            "style": "IPY_MODEL_9dcbb8c879cd4e6ba0c867010ff544c6",
            "_dom_classes": [],
            "description": "",
            "_model_name": "HTMLModel",
            "placeholder": "​",
            "_view_module": "@jupyter-widgets/controls",
            "_model_module_version": "1.5.0",
            "value": "100% 1005/1005 [00:37&lt;00:00, 26.74it/s, loss=0.09578]",
            "_view_count": null,
            "_view_module_version": "1.5.0",
            "description_tooltip": null,
            "_model_module": "@jupyter-widgets/controls",
            "layout": "IPY_MODEL_dd8713b8057c459a883c68d37aa68f4d"
          }
        },
        "071c2b8ed0fc4a2fa60f1fca5ce97cb9": {
          "model_module": "@jupyter-widgets/controls",
          "model_name": "ProgressStyleModel",
          "state": {
            "_view_name": "StyleView",
            "_model_name": "ProgressStyleModel",
            "description_width": "initial",
            "_view_module": "@jupyter-widgets/base",
            "_model_module_version": "1.5.0",
            "_view_count": null,
            "_view_module_version": "1.2.0",
            "bar_color": null,
            "_model_module": "@jupyter-widgets/controls"
          }
        },
        "8161e992d6134f249e13fe56fdf8909d": {
          "model_module": "@jupyter-widgets/base",
          "model_name": "LayoutModel",
          "state": {
            "_view_name": "LayoutView",
            "grid_template_rows": null,
            "right": null,
            "justify_content": null,
            "_view_module": "@jupyter-widgets/base",
            "overflow": null,
            "_model_module_version": "1.2.0",
            "_view_count": null,
            "flex_flow": null,
            "width": null,
            "min_width": null,
            "border": null,
            "align_items": null,
            "bottom": null,
            "_model_module": "@jupyter-widgets/base",
            "top": null,
            "grid_column": null,
            "overflow_y": null,
            "overflow_x": null,
            "grid_auto_flow": null,
            "grid_area": null,
            "grid_template_columns": null,
            "flex": null,
            "_model_name": "LayoutModel",
            "justify_items": null,
            "grid_row": null,
            "max_height": null,
            "align_content": null,
            "visibility": null,
            "align_self": null,
            "height": null,
            "min_height": null,
            "padding": null,
            "grid_auto_rows": null,
            "grid_gap": null,
            "max_width": null,
            "order": null,
            "_view_module_version": "1.2.0",
            "grid_template_areas": null,
            "object_position": null,
            "object_fit": null,
            "grid_auto_columns": null,
            "margin": null,
            "display": null,
            "left": null
          }
        },
        "9dcbb8c879cd4e6ba0c867010ff544c6": {
          "model_module": "@jupyter-widgets/controls",
          "model_name": "DescriptionStyleModel",
          "state": {
            "_view_name": "StyleView",
            "_model_name": "DescriptionStyleModel",
            "description_width": "",
            "_view_module": "@jupyter-widgets/base",
            "_model_module_version": "1.5.0",
            "_view_count": null,
            "_view_module_version": "1.2.0",
            "_model_module": "@jupyter-widgets/controls"
          }
        },
        "dd8713b8057c459a883c68d37aa68f4d": {
          "model_module": "@jupyter-widgets/base",
          "model_name": "LayoutModel",
          "state": {
            "_view_name": "LayoutView",
            "grid_template_rows": null,
            "right": null,
            "justify_content": null,
            "_view_module": "@jupyter-widgets/base",
            "overflow": null,
            "_model_module_version": "1.2.0",
            "_view_count": null,
            "flex_flow": null,
            "width": null,
            "min_width": null,
            "border": null,
            "align_items": null,
            "bottom": null,
            "_model_module": "@jupyter-widgets/base",
            "top": null,
            "grid_column": null,
            "overflow_y": null,
            "overflow_x": null,
            "grid_auto_flow": null,
            "grid_area": null,
            "grid_template_columns": null,
            "flex": null,
            "_model_name": "LayoutModel",
            "justify_items": null,
            "grid_row": null,
            "max_height": null,
            "align_content": null,
            "visibility": null,
            "align_self": null,
            "height": null,
            "min_height": null,
            "padding": null,
            "grid_auto_rows": null,
            "grid_gap": null,
            "max_width": null,
            "order": null,
            "_view_module_version": "1.2.0",
            "grid_template_areas": null,
            "object_position": null,
            "object_fit": null,
            "grid_auto_columns": null,
            "margin": null,
            "display": null,
            "left": null
          }
        },
        "2afc019139ac4eeaaf0751a59377be22": {
          "model_module": "@jupyter-widgets/controls",
          "model_name": "HBoxModel",
          "state": {
            "_view_name": "HBoxView",
            "_dom_classes": [],
            "_model_name": "HBoxModel",
            "_view_module": "@jupyter-widgets/controls",
            "_model_module_version": "1.5.0",
            "_view_count": null,
            "_view_module_version": "1.5.0",
            "box_style": "",
            "layout": "IPY_MODEL_34c75608b47a44d192d66706f9404e06",
            "_model_module": "@jupyter-widgets/controls",
            "children": [
              "IPY_MODEL_d5db6f310a8b467b9d38a5a3a35df4ec",
              "IPY_MODEL_8a3f2528126e4382b6281067f37f3991"
            ]
          }
        },
        "34c75608b47a44d192d66706f9404e06": {
          "model_module": "@jupyter-widgets/base",
          "model_name": "LayoutModel",
          "state": {
            "_view_name": "LayoutView",
            "grid_template_rows": null,
            "right": null,
            "justify_content": null,
            "_view_module": "@jupyter-widgets/base",
            "overflow": null,
            "_model_module_version": "1.2.0",
            "_view_count": null,
            "flex_flow": null,
            "width": null,
            "min_width": null,
            "border": null,
            "align_items": null,
            "bottom": null,
            "_model_module": "@jupyter-widgets/base",
            "top": null,
            "grid_column": null,
            "overflow_y": null,
            "overflow_x": null,
            "grid_auto_flow": null,
            "grid_area": null,
            "grid_template_columns": null,
            "flex": null,
            "_model_name": "LayoutModel",
            "justify_items": null,
            "grid_row": null,
            "max_height": null,
            "align_content": null,
            "visibility": null,
            "align_self": null,
            "height": null,
            "min_height": null,
            "padding": null,
            "grid_auto_rows": null,
            "grid_gap": null,
            "max_width": null,
            "order": null,
            "_view_module_version": "1.2.0",
            "grid_template_areas": null,
            "object_position": null,
            "object_fit": null,
            "grid_auto_columns": null,
            "margin": null,
            "display": null,
            "left": null
          }
        },
        "d5db6f310a8b467b9d38a5a3a35df4ec": {
          "model_module": "@jupyter-widgets/controls",
          "model_name": "IntProgressModel",
          "state": {
            "_view_name": "ProgressView",
            "style": "IPY_MODEL_bcd620af53b84643a4c89303f9ba366a",
            "_dom_classes": [],
            "description": "epoch 15",
            "_model_name": "IntProgressModel",
            "bar_style": "success",
            "max": 1005,
            "_view_module": "@jupyter-widgets/controls",
            "_model_module_version": "1.5.0",
            "value": 1005,
            "_view_count": null,
            "_view_module_version": "1.5.0",
            "orientation": "horizontal",
            "min": 0,
            "description_tooltip": null,
            "_model_module": "@jupyter-widgets/controls",
            "layout": "IPY_MODEL_f2a02cfb2c064e3f8acf73ed320f9df4"
          }
        },
        "8a3f2528126e4382b6281067f37f3991": {
          "model_module": "@jupyter-widgets/controls",
          "model_name": "HTMLModel",
          "state": {
            "_view_name": "HTMLView",
            "style": "IPY_MODEL_ac20881c90e1471cba9225fe3d99caf0",
            "_dom_classes": [],
            "description": "",
            "_model_name": "HTMLModel",
            "placeholder": "​",
            "_view_module": "@jupyter-widgets/controls",
            "_model_module_version": "1.5.0",
            "value": "100% 1005/1005 [00:37&lt;00:00, 26.66it/s, loss=0.08888]",
            "_view_count": null,
            "_view_module_version": "1.5.0",
            "description_tooltip": null,
            "_model_module": "@jupyter-widgets/controls",
            "layout": "IPY_MODEL_c2b2008c8f46491fbf76e8d49769da5d"
          }
        },
        "bcd620af53b84643a4c89303f9ba366a": {
          "model_module": "@jupyter-widgets/controls",
          "model_name": "ProgressStyleModel",
          "state": {
            "_view_name": "StyleView",
            "_model_name": "ProgressStyleModel",
            "description_width": "initial",
            "_view_module": "@jupyter-widgets/base",
            "_model_module_version": "1.5.0",
            "_view_count": null,
            "_view_module_version": "1.2.0",
            "bar_color": null,
            "_model_module": "@jupyter-widgets/controls"
          }
        },
        "f2a02cfb2c064e3f8acf73ed320f9df4": {
          "model_module": "@jupyter-widgets/base",
          "model_name": "LayoutModel",
          "state": {
            "_view_name": "LayoutView",
            "grid_template_rows": null,
            "right": null,
            "justify_content": null,
            "_view_module": "@jupyter-widgets/base",
            "overflow": null,
            "_model_module_version": "1.2.0",
            "_view_count": null,
            "flex_flow": null,
            "width": null,
            "min_width": null,
            "border": null,
            "align_items": null,
            "bottom": null,
            "_model_module": "@jupyter-widgets/base",
            "top": null,
            "grid_column": null,
            "overflow_y": null,
            "overflow_x": null,
            "grid_auto_flow": null,
            "grid_area": null,
            "grid_template_columns": null,
            "flex": null,
            "_model_name": "LayoutModel",
            "justify_items": null,
            "grid_row": null,
            "max_height": null,
            "align_content": null,
            "visibility": null,
            "align_self": null,
            "height": null,
            "min_height": null,
            "padding": null,
            "grid_auto_rows": null,
            "grid_gap": null,
            "max_width": null,
            "order": null,
            "_view_module_version": "1.2.0",
            "grid_template_areas": null,
            "object_position": null,
            "object_fit": null,
            "grid_auto_columns": null,
            "margin": null,
            "display": null,
            "left": null
          }
        },
        "ac20881c90e1471cba9225fe3d99caf0": {
          "model_module": "@jupyter-widgets/controls",
          "model_name": "DescriptionStyleModel",
          "state": {
            "_view_name": "StyleView",
            "_model_name": "DescriptionStyleModel",
            "description_width": "",
            "_view_module": "@jupyter-widgets/base",
            "_model_module_version": "1.5.0",
            "_view_count": null,
            "_view_module_version": "1.2.0",
            "_model_module": "@jupyter-widgets/controls"
          }
        },
        "c2b2008c8f46491fbf76e8d49769da5d": {
          "model_module": "@jupyter-widgets/base",
          "model_name": "LayoutModel",
          "state": {
            "_view_name": "LayoutView",
            "grid_template_rows": null,
            "right": null,
            "justify_content": null,
            "_view_module": "@jupyter-widgets/base",
            "overflow": null,
            "_model_module_version": "1.2.0",
            "_view_count": null,
            "flex_flow": null,
            "width": null,
            "min_width": null,
            "border": null,
            "align_items": null,
            "bottom": null,
            "_model_module": "@jupyter-widgets/base",
            "top": null,
            "grid_column": null,
            "overflow_y": null,
            "overflow_x": null,
            "grid_auto_flow": null,
            "grid_area": null,
            "grid_template_columns": null,
            "flex": null,
            "_model_name": "LayoutModel",
            "justify_items": null,
            "grid_row": null,
            "max_height": null,
            "align_content": null,
            "visibility": null,
            "align_self": null,
            "height": null,
            "min_height": null,
            "padding": null,
            "grid_auto_rows": null,
            "grid_gap": null,
            "max_width": null,
            "order": null,
            "_view_module_version": "1.2.0",
            "grid_template_areas": null,
            "object_position": null,
            "object_fit": null,
            "grid_auto_columns": null,
            "margin": null,
            "display": null,
            "left": null
          }
        }
      }
    }
  },
  "cells": [
    {
      "cell_type": "markdown",
      "metadata": {
        "id": "view-in-github",
        "colab_type": "text"
      },
      "source": [
        "<a href=\"https://colab.research.google.com/github/flying-bear/kompluxternaya/blob/master/Assignment_6.ipynb\" target=\"_parent\"><img src=\"https://colab.research.google.com/assets/colab-badge.svg\" alt=\"Open In Colab\"/></a>"
      ]
    },
    {
      "cell_type": "markdown",
      "metadata": {
        "id": "r1bownPi5dbR",
        "colab_type": "text"
      },
      "source": [
        "# Assignment 6\n",
        "\n",
        "[3 points] Delelop language model, which generates texts from wikipedia.   \n",
        "Use WikiText-2 dataset, also available in `torchtext.datasets`.  \n",
        "Use `sentencepiece` or `tokenizers` library for text tokenization. Pay attention to vocab size, probably subword tokens are better.    \n",
        "Your model should be autogressive RNN.  \n",
        "[1 point] Plot train and validation loss depending on the number of iterations of gradient decent.  \n",
        "[1 point] Try to use together (`sentencepiece` or `tokenizers`), `torchtext.datasets`, and `torchtext.data.BPTTIterator`  \n",
        "\n",
        "<img src=\"https://raw.githubusercontent.com/thedenaas/hse_seminars/master/2019/seminar_9/images/lm.jpg\" style=\"height:300px\">\n",
        "\n",
        "Text generation should be terminated when either max length is reached or terminal symbol is generated.  \n",
        "Explore several inference techniques:\n",
        "1. [1 point] Argmax\n",
        "1. [1 point] Beamsearch\n",
        "1. [1 point] Sampling from probabilty distribution with temperature\n",
        "1. [1 point] Nucleus sampling\n",
        "1. [1 point] Top-k sampling\n",
        "\n",
        "\n",
        "For every method you should provide implemented code and generated examples. Each example must contain at least 10 words (not subword tokens).\n",
        "\n",
        "Readings:\n",
        "https://arxiv.org/abs/1904.09751"
      ]
    },
    {
      "cell_type": "code",
      "metadata": {
        "id": "Mzw5zN8m86RI",
        "colab_type": "code",
        "outputId": "aa89a803-d7f1-4079-ab10-ed98f05c9b5d",
        "colab": {
          "base_uri": "https://localhost:8080/",
          "height": 106
        }
      },
      "source": [
        "!pip install tokenizers"
      ],
      "execution_count": 1,
      "outputs": [
        {
          "output_type": "stream",
          "text": [
            "Collecting tokenizers\n",
            "\u001b[?25l  Downloading https://files.pythonhosted.org/packages/3e/d8/5af89a486513ef9c1d1f7a8ad6231f3d20e2015fc84533ff7d25005c8717/tokenizers-0.2.1-cp36-cp36m-manylinux1_x86_64.whl (3.6MB)\n",
            "\u001b[K     |████████████████████████████████| 3.7MB 3.4MB/s \n",
            "\u001b[?25hInstalling collected packages: tokenizers\n",
            "Successfully installed tokenizers-0.2.1\n"
          ],
          "name": "stdout"
        }
      ]
    },
    {
      "cell_type": "code",
      "metadata": {
        "id": "uv-9UE-n73Kc",
        "colab_type": "code",
        "colab": {}
      },
      "source": [
        "import nltk\n",
        "import numpy as np\n",
        "import matplotlib.pyplot as plt\n",
        "import os\n",
        "import pandas as pd\n",
        "import re\n",
        "import spacy\n",
        "\n",
        "from sklearn import metrics\n",
        "from tqdm import tqdm, tqdm_notebook\n",
        "from tokenizers import SentencePieceBPETokenizer\n",
        "from scipy.ndimage.filters import gaussian_filter1d\n",
        "\n",
        "import torch as tt\n",
        "import torch.nn as nn\n",
        "import torch.nn.functional as F\n",
        "import torch.optim as optim\n",
        "\n",
        "from torch.autograd import Variable as V\n",
        "\n",
        "from torchtext.data import Field, BPTTIterator\n",
        "from torchtext.datasets import WikiText2, LanguageModelingDataset\n",
        "\n",
        "SEED = 42\n",
        "np.random.seed(SEED)"
      ],
      "execution_count": 0,
      "outputs": []
    },
    {
      "cell_type": "code",
      "metadata": {
        "id": "gi9JfV5_cFNh",
        "colab_type": "code",
        "colab": {}
      },
      "source": [
        "device = tt.device('cuda') if tt.cuda.is_available() else tt.device('cpu')"
      ],
      "execution_count": 0,
      "outputs": []
    },
    {
      "cell_type": "markdown",
      "metadata": {
        "id": "CI97ku-mJKOv",
        "colab_type": "text"
      },
      "source": [
        "## Preprocessing"
      ]
    },
    {
      "cell_type": "code",
      "metadata": {
        "id": "KsXp6VJnAaOU",
        "colab_type": "code",
        "outputId": "31a94f3e-6d79-47a8-c112-a6d5e05c49e5",
        "colab": {
          "base_uri": "https://localhost:8080/",
          "height": 88
        }
      },
      "source": [
        "WikiText2.download(root='content')"
      ],
      "execution_count": 4,
      "outputs": [
        {
          "output_type": "stream",
          "text": [
            "downloading wikitext-2-v1.zip\n"
          ],
          "name": "stdout"
        },
        {
          "output_type": "stream",
          "text": [
            "wikitext-2-v1.zip: 100%|██████████| 4.48M/4.48M [00:00<00:00, 19.4MB/s]\n"
          ],
          "name": "stderr"
        },
        {
          "output_type": "stream",
          "text": [
            "extracting\n"
          ],
          "name": "stdout"
        },
        {
          "output_type": "execute_result",
          "data": {
            "text/plain": [
              "'content/wikitext-2/wikitext-2'"
            ]
          },
          "metadata": {
            "tags": []
          },
          "execution_count": 4
        }
      ]
    },
    {
      "cell_type": "code",
      "metadata": {
        "id": "xJcScoCuBCOH",
        "colab_type": "code",
        "colab": {}
      },
      "source": [
        "data_dir = 'content/wikitext-2/wikitext-2'"
      ],
      "execution_count": 0,
      "outputs": []
    },
    {
      "cell_type": "code",
      "metadata": {
        "id": "y7L3DCynBZ3r",
        "colab_type": "code",
        "colab": {}
      },
      "source": [
        "with open(data_dir + '/wiki.valid.tokens', 'r') as f:\n",
        "  valid = f.read()\n",
        "with open(data_dir + '/wiki.train.tokens', 'r') as f:\n",
        "  train = f.read()\n",
        "with open(data_dir + '/wiki.test.tokens', 'r') as f:\n",
        "  test = f.read()"
      ],
      "execution_count": 0,
      "outputs": []
    },
    {
      "cell_type": "code",
      "metadata": {
        "id": "krmdcJ4SCrPS",
        "colab_type": "code",
        "outputId": "29692f72-2e44-47af-8cd4-394da0a23430",
        "colab": {
          "base_uri": "https://localhost:8080/",
          "height": 55
        }
      },
      "source": [
        "test[:300]"
      ],
      "execution_count": 7,
      "outputs": [
        {
          "output_type": "execute_result",
          "data": {
            "text/plain": [
              "' \\n = Robert <unk> = \\n \\n Robert <unk> is an English film , television and theatre actor . He had a guest @-@ starring role on the television series The Bill in 2000 . This was followed by a starring role in the play Herons written by Simon Stephens , which was performed in 2001 at the Royal Court The'"
            ]
          },
          "metadata": {
            "tags": []
          },
          "execution_count": 7
        }
      ]
    },
    {
      "cell_type": "markdown",
      "metadata": {
        "id": "w8okBQYiKGPz",
        "colab_type": "text"
      },
      "source": [
        "добавим символы сепараторы"
      ]
    },
    {
      "cell_type": "code",
      "metadata": {
        "id": "q98kwsq9Dw-B",
        "colab_type": "code",
        "colab": {}
      },
      "source": [
        "end = ['.', '\\n', '!', '?', '…']"
      ],
      "execution_count": 0,
      "outputs": []
    },
    {
      "cell_type": "code",
      "metadata": {
        "id": "Cz-gkE4mJHS9",
        "colab_type": "code",
        "colab": {}
      },
      "source": [
        "def make_eos(text, eos_symbols, eos_token='<eos>', start_token='<start>'):\n",
        "  \"\"\"\n",
        "  cleans text of empty sentences and replaces eos_symbols in a text with eos_token and adds start_token befor each sentence\n",
        "\n",
        "  :param text: str, text\n",
        "  :param eos_symbols: list of str, symbols that signify end of sentence\n",
        "  :param eos_token: str, what to replace eos_symbols with, optional, deafault '<eos>' \n",
        "  :param str_token: str, what to indicate sentence beginnings, optional, deafault '<start>'\n",
        "  :return: str, text with eos_symbols replaced with eos_token\n",
        "  \"\"\"\n",
        "  sep = eos_token + ' ' + start_token\n",
        "  text = re.sub('\\s+', ' ', text)\n",
        "  for i in eos_symbols:\n",
        "    text = text.replace(i, sep)\n",
        "  empty = sep + ' ' + eos_token\n",
        "  while empty in text: \n",
        "    text = text.replace(empty, eos_token)\n",
        "  return text.strip()"
      ],
      "execution_count": 0,
      "outputs": []
    },
    {
      "cell_type": "code",
      "metadata": {
        "id": "uIjGh3uNwN3l",
        "colab_type": "code",
        "outputId": "44a10126-cb82-4f1c-f609-fdf2d7d03d32",
        "colab": {
          "base_uri": "https://localhost:8080/",
          "height": 35
        }
      },
      "source": [
        "tokenizer_test_text = make_eos(test, end)\n",
        "tokenizer_test_text[:100]"
      ],
      "execution_count": 10,
      "outputs": [
        {
          "output_type": "execute_result",
          "data": {
            "text/plain": [
              "'= Robert <unk> = Robert <unk> is an English film , television and theatre actor <eos> <start> He had'"
            ]
          },
          "metadata": {
            "tags": []
          },
          "execution_count": 10
        }
      ]
    },
    {
      "cell_type": "markdown",
      "metadata": {
        "id": "bEhMCpX7Oosr",
        "colab_type": "text"
      },
      "source": [
        "средняя длина предложения от сепаратора до сепаратора (число пробелов +1)"
      ]
    },
    {
      "cell_type": "code",
      "metadata": {
        "id": "HYZWc9LRJtgw",
        "colab_type": "code",
        "outputId": "25461da5-6d36-405b-af5c-d123ed979aa5",
        "colab": {
          "base_uri": "https://localhost:8080/",
          "height": 35
        }
      },
      "source": [
        "np.mean([len(sent.split()) for sent in make_eos(train, end).split('<eos> <start>')])"
      ],
      "execution_count": 11,
      "outputs": [
        {
          "output_type": "execute_result",
          "data": {
            "text/plain": [
              "23.575564652402598"
            ]
          },
          "metadata": {
            "tags": []
          },
          "execution_count": 11
        }
      ]
    },
    {
      "cell_type": "code",
      "metadata": {
        "id": "CD7QkuxtM0a-",
        "colab_type": "code",
        "colab": {}
      },
      "source": [
        "tokenizer_train_text = make_eos(train, end)\n",
        "with open('content/train.txt', 'w') as f:\n",
        "  f.write(tokenizer_train_text)"
      ],
      "execution_count": 0,
      "outputs": []
    },
    {
      "cell_type": "code",
      "metadata": {
        "id": "8oreF2dgPXVp",
        "colab_type": "code",
        "colab": {}
      },
      "source": [
        "tokenizer_valid_text = make_eos(valid, end)\n",
        "with open('content/valid.txt', 'w') as f:\n",
        "  f.write(tokenizer_valid_text)"
      ],
      "execution_count": 0,
      "outputs": []
    },
    {
      "cell_type": "code",
      "metadata": {
        "id": "xE2oP4YgV5-3",
        "colab_type": "code",
        "colab": {}
      },
      "source": [
        "tokenizer_test_text = make_eos(test, end)\n",
        "with open('content/test.txt', 'w') as f:\n",
        "  f.write(tokenizer_test_text)"
      ],
      "execution_count": 0,
      "outputs": []
    },
    {
      "cell_type": "markdown",
      "metadata": {
        "id": "5fl4Lq2gIeBw",
        "colab_type": "text"
      },
      "source": [
        "единичных символов"
      ]
    },
    {
      "cell_type": "code",
      "metadata": {
        "id": "pMz0KZPVIQc7",
        "colab_type": "code",
        "outputId": "9cb21f3f-bc31-4528-82f1-4807a6e2b54e",
        "colab": {
          "base_uri": "https://localhost:8080/",
          "height": 35
        }
      },
      "source": [
        "len(set(train).union(set(valid)))"
      ],
      "execution_count": 15,
      "outputs": [
        {
          "output_type": "execute_result",
          "data": {
            "text/plain": [
              "283"
            ]
          },
          "metadata": {
            "tags": []
          },
          "execution_count": 15
        }
      ]
    },
    {
      "cell_type": "code",
      "metadata": {
        "id": "XrE0yK8cGGbd",
        "colab_type": "code",
        "outputId": "9e1b082c-29ff-4b8f-a746-7fe42676228b",
        "colab": {
          "base_uri": "https://localhost:8080/",
          "height": 35
        }
      },
      "source": [
        "tokenizer = SentencePieceBPETokenizer()\n",
        "tokenizer.add_special_tokens(['<eos>', '<start>','<unk>'])"
      ],
      "execution_count": 16,
      "outputs": [
        {
          "output_type": "execute_result",
          "data": {
            "text/plain": [
              "3"
            ]
          },
          "metadata": {
            "tags": []
          },
          "execution_count": 16
        }
      ]
    },
    {
      "cell_type": "code",
      "metadata": {
        "id": "wl5lJ0ShLIfz",
        "colab_type": "code",
        "colab": {}
      },
      "source": [
        "tokenizer.train(['content/valid.txt', 'content/train.txt', 'content/test.txt'], vocab_size=20000)"
      ],
      "execution_count": 0,
      "outputs": []
    },
    {
      "cell_type": "code",
      "metadata": {
        "id": "X78DFqm0Hm7B",
        "colab_type": "code",
        "outputId": "9ed91661-c14d-42ed-bf26-da56fb754e70",
        "colab": {
          "base_uri": "https://localhost:8080/",
          "height": 408
        }
      },
      "source": [
        "tokenizer.encode(\"<start> How are you, my dear Tamagotchi <unk> <eos> lkjkds\").tokens"
      ],
      "execution_count": 18,
      "outputs": [
        {
          "output_type": "execute_result",
          "data": {
            "text/plain": [
              "['<start>',\n",
              " '▁How',\n",
              " '▁are',\n",
              " '▁you',\n",
              " ',',\n",
              " '▁my',\n",
              " '▁de',\n",
              " 'ar',\n",
              " '▁Tam',\n",
              " 'ag',\n",
              " 'ot',\n",
              " 'ch',\n",
              " 'i',\n",
              " '▁',\n",
              " '<unk>',\n",
              " '▁',\n",
              " '<eos>',\n",
              " '▁l',\n",
              " 'k',\n",
              " 'j',\n",
              " 'k',\n",
              " 'ds']"
            ]
          },
          "metadata": {
            "tags": []
          },
          "execution_count": 18
        }
      ]
    },
    {
      "cell_type": "code",
      "metadata": {
        "id": "lCbFmtS-RJ9o",
        "colab_type": "code",
        "outputId": "30a8eedc-72f5-4a18-a83d-224f6d7f49ca",
        "colab": {
          "base_uri": "https://localhost:8080/",
          "height": 35
        }
      },
      "source": [
        "tokenizer.token_to_id('<eos>')"
      ],
      "execution_count": 19,
      "outputs": [
        {
          "output_type": "execute_result",
          "data": {
            "text/plain": [
              "0"
            ]
          },
          "metadata": {
            "tags": []
          },
          "execution_count": 19
        }
      ]
    },
    {
      "cell_type": "markdown",
      "metadata": {
        "id": "CQuiYvg7ZOSs",
        "colab_type": "text"
      },
      "source": [
        "hпосчитаем среднюю длину последовательности в токенах нашего токенайзера"
      ]
    },
    {
      "cell_type": "code",
      "metadata": {
        "id": "rB559KV9ZbBy",
        "colab_type": "code",
        "outputId": "6aaaa8f0-7d74-417f-d704-a18e7744a736",
        "colab": {
          "base_uri": "https://localhost:8080/",
          "height": 35
        }
      },
      "source": [
        "np.mean([len(tokenizer.encode(sent).ids) for sent in make_eos(train, end).split('<eos> <start>')])"
      ],
      "execution_count": 20,
      "outputs": [
        {
          "output_type": "execute_result",
          "data": {
            "text/plain": [
              "27.033902944046456"
            ]
          },
          "metadata": {
            "tags": []
          },
          "execution_count": 20
        }
      ]
    },
    {
      "cell_type": "code",
      "metadata": {
        "id": "uzitKjAgZ-9k",
        "colab_type": "code",
        "outputId": "963a07c8-555f-450f-d13c-401c8bdd0831",
        "colab": {
          "base_uri": "https://localhost:8080/",
          "height": 265
        }
      },
      "source": [
        "plt.hist([len(tokenizer.encode(sent).ids) for sent in make_eos(train, end).split('<eos> <start>')], bins=100);"
      ],
      "execution_count": 21,
      "outputs": [
        {
          "output_type": "display_data",
          "data": {
            "image/png": "[encoded data removed]",
            "text/plain": [
              "<Figure size 432x288 with 1 Axes>"
            ]
          },
          "metadata": {
            "tags": []
          }
        }
      ]
    },
    {
      "cell_type": "code",
      "metadata": {
        "id": "ZGGh4aXSNNQc",
        "colab_type": "code",
        "colab": {}
      },
      "source": [
        "batch_size = 64\n",
        "seq_length = 40"
      ],
      "execution_count": 0,
      "outputs": []
    },
    {
      "cell_type": "markdown",
      "metadata": {
        "id": "g0WrWO9wTEep",
        "colab_type": "text"
      },
      "source": [
        "## torchtext"
      ]
    },
    {
      "cell_type": "code",
      "metadata": {
        "id": "l2-c03nsmdVC",
        "colab_type": "code",
        "colab": {}
      },
      "source": [
        "def eosed_tokenizer(tokenizer, text, eos_symbols=['.', '\\n', '!', '?', '…'], eos_token='<eos>', start_token='<start>'):\n",
        "  \"\"\"\n",
        "  cleans text of empty sentences adds start and eos symbols and then tokenizes using a trained tokenizers.tokenizer\n",
        "\n",
        "  :param tokenizer: tokenizers.tokenizer, trained\n",
        "  :param text: str, text\n",
        "  :param eos_symbols: list of str, symbols that signify end of sentence, optional, default ['.', '\\n', '!', '?', '…']\n",
        "  :param eos_token: str, what to replace eos_symbols with, optional, deafault '<eos>'\n",
        "  :param str_token: str, what to indicate sentence beginnings, optional, deafault '<start>'\n",
        "  :return: list of str, tokens\n",
        "  \"\"\"\n",
        "  eosed = make_eos(text, eos_symbols, eos_token, start_token)\n",
        "  return tokenizer.encode(eosed).tokens"
      ],
      "execution_count": 0,
      "outputs": []
    },
    {
      "cell_type": "code",
      "metadata": {
        "id": "ZZIcNdncnvj2",
        "colab_type": "code",
        "outputId": "7a1b2adc-c65e-4daa-b5de-adc14cc118ad",
        "colab": {
          "base_uri": "https://localhost:8080/",
          "height": 212
        }
      },
      "source": [
        "eosed_tokenizer(tokenizer, 'I hate programming omg I hate it so much')"
      ],
      "execution_count": 24,
      "outputs": [
        {
          "output_type": "execute_result",
          "data": {
            "text/plain": [
              "['▁I',\n",
              " '▁hate',\n",
              " '▁programming',\n",
              " '▁o',\n",
              " 'm',\n",
              " 'g',\n",
              " '▁I',\n",
              " '▁hate',\n",
              " '▁it',\n",
              " '▁so',\n",
              " '▁much']"
            ]
          },
          "metadata": {
            "tags": []
          },
          "execution_count": 24
        }
      ]
    },
    {
      "cell_type": "code",
      "metadata": {
        "id": "G7E95MXUTDPs",
        "colab_type": "code",
        "colab": {}
      },
      "source": [
        "TEXT = Field(lower=True, tokenize=lambda s: eosed_tokenizer(tokenizer, s), include_lengths=False, batch_first=True)"
      ],
      "execution_count": 0,
      "outputs": []
    },
    {
      "cell_type": "code",
      "metadata": {
        "id": "PnzKCZnrZlTd",
        "colab_type": "code",
        "colab": {
          "base_uri": "https://localhost:8080/",
          "height": 70
        },
        "outputId": "c27b7e60-2f4c-4359-e923-1dbd3cbf7af4"
      },
      "source": [
        "trn, vld, tst = WikiText2.splits(TEXT)"
      ],
      "execution_count": 26,
      "outputs": [
        {
          "output_type": "stream",
          "text": [
            "\rwikitext-2-v1.zip:   0%|          | 0.00/4.48M [00:00<?, ?B/s]"
          ],
          "name": "stderr"
        },
        {
          "output_type": "stream",
          "text": [
            "downloading wikitext-2-v1.zip\n"
          ],
          "name": "stdout"
        },
        {
          "output_type": "stream",
          "text": [
            "wikitext-2-v1.zip: 100%|██████████| 4.48M/4.48M [00:00<00:00, 21.1MB/s]\n"
          ],
          "name": "stderr"
        },
        {
          "output_type": "stream",
          "text": [
            "extracting\n"
          ],
          "name": "stdout"
        }
      ]
    },
    {
      "cell_type": "code",
      "metadata": {
        "id": "NgSRJ6QoXtcv",
        "colab_type": "code",
        "colab": {}
      },
      "source": [
        "TEXT.build_vocab(trn, vld, tst, min_freq=10)"
      ],
      "execution_count": 0,
      "outputs": []
    },
    {
      "cell_type": "code",
      "metadata": {
        "id": "iacmHBXVbGFN",
        "colab_type": "code",
        "colab": {}
      },
      "source": [
        "trn_itr, vld_itr, tst_itr = BPTTIterator.splits((trn, vld, tst),\n",
        "    batch_size=batch_size,\n",
        "    bptt_len=seq_length, # this is where we specify the sequence length\n",
        "    repeat=False,\n",
        "    device=device)"
      ],
      "execution_count": 0,
      "outputs": []
    },
    {
      "cell_type": "code",
      "metadata": {
        "id": "IydnlX5_gEdh",
        "colab_type": "code",
        "colab": {}
      },
      "source": [
        "def to_text(seq):\n",
        "  return [TEXT.vocab.itos[v] for v in seq]"
      ],
      "execution_count": 0,
      "outputs": []
    },
    {
      "cell_type": "code",
      "metadata": {
        "id": "KaFi5rR1dmYV",
        "colab_type": "code",
        "outputId": "d9e0f4bc-de36-482a-bdae-3c8405c60f0d",
        "colab": {
          "base_uri": "https://localhost:8080/",
          "height": 35
        }
      },
      "source": [
        "b = next(iter(trn_itr))\n",
        "vars(b).keys()"
      ],
      "execution_count": 30,
      "outputs": [
        {
          "output_type": "execute_result",
          "data": {
            "text/plain": [
              "dict_keys(['batch_size', 'dataset', 'fields', 'text', 'target'])"
            ]
          },
          "metadata": {
            "tags": []
          },
          "execution_count": 30
        }
      ]
    },
    {
      "cell_type": "code",
      "metadata": {
        "id": "PFTXrAuGiABL",
        "colab_type": "code",
        "outputId": "77b0f6b1-06ea-4f79-c70b-a58af6fab791",
        "colab": {
          "base_uri": "https://localhost:8080/",
          "height": 195
        }
      },
      "source": [
        "print(b.text[:5, :3])\n",
        "print(b.target[:5, :3])"
      ],
      "execution_count": 31,
      "outputs": [
        {
          "output_type": "stream",
          "text": [
            "tensor([[   2,    3,  255],\n",
            "        [   4,  512, 7469],\n",
            "        [  12, 1410,  783],\n",
            "        [5472,    7,    5],\n",
            "        [6046,    3,   20]], device='cuda:0')\n",
            "tensor([[   4,  512, 7469],\n",
            "        [  12, 1410,  783],\n",
            "        [5472,    7,    5],\n",
            "        [6046,    3,   20],\n",
            "        [1166,    2,   30]], device='cuda:0')\n"
          ],
          "name": "stdout"
        }
      ]
    },
    {
      "cell_type": "code",
      "metadata": {
        "id": "KkoWD4nKLCis",
        "colab_type": "code",
        "outputId": "3674b496-6216-4266-9167-7799deb66c33",
        "colab": {
          "base_uri": "https://localhost:8080/",
          "height": 52
        }
      },
      "source": [
        "print(b.text[:5, 0])\n",
        "print(b.target[:5, 0])"
      ],
      "execution_count": 32,
      "outputs": [
        {
          "output_type": "stream",
          "text": [
            "tensor([   2,    4,   12, 5472, 6046], device='cuda:0')\n",
            "tensor([   4,   12, 5472, 6046, 1166], device='cuda:0')\n"
          ],
          "name": "stdout"
        }
      ]
    },
    {
      "cell_type": "code",
      "metadata": {
        "id": "-uvVe54WzMZ9",
        "colab_type": "code",
        "outputId": "d9e8a92f-0697-4f00-a117-2336ca4c1773",
        "colab": {
          "base_uri": "https://localhost:8080/",
          "height": 35
        }
      },
      "source": [
        "print(to_text(b.text[10:25, 1]))"
      ],
      "execution_count": 33,
      "outputs": [
        {
          "output_type": "stream",
          "text": [
            "['▁the', '▁chaos', '▁that', '▁', '<unk>', '▁creation', '▁,', '▁give', '▁birth', '▁to', '▁the', '▁sun', '▁god', '▁,', '▁who']\n"
          ],
          "name": "stdout"
        }
      ]
    },
    {
      "cell_type": "markdown",
      "metadata": {
        "id": "b8VX5uiludbA",
        "colab_type": "text"
      },
      "source": [
        "## RNN"
      ]
    },
    {
      "cell_type": "code",
      "metadata": {
        "id": "2X4462VQun3S",
        "colab_type": "code",
        "colab": {}
      },
      "source": [
        "class MyModel(nn.Module):\n",
        "    \n",
        "    def __init__(self, vocab_size, embed_size, hidden_size):\n",
        "        super(MyModel, self).__init__()\n",
        "        self.embedding = nn.Embedding(vocab_size, embed_size)\n",
        "        \n",
        "        self.rnn = nn.LSTM(input_size=embed_size,\n",
        "                           hidden_size=hidden_size,\n",
        "                           bidirectional=True,\n",
        "                           batch_first=True,\n",
        "                          )\n",
        "        \n",
        "        self.fc = nn.Linear(hidden_size * 2, vocab_size)\n",
        "        \n",
        "        self.init_weights()\n",
        "        \n",
        "    def init_weights(self):\n",
        "        nn.init.uniform_(self.embedding.weight)\n",
        "        nn.init.xavier_uniform_(self.fc.weight)\n",
        "        nn.init.zeros_(self.fc.bias)\n",
        "        \n",
        "    def forward(self, batch):\n",
        "        \n",
        "        if hasattr(batch, 'text'):\n",
        "          x = batch.text.T\n",
        "        else:\n",
        "          x = batch\n",
        "        \n",
        "        x = self.embedding(x)\n",
        "\n",
        "            \n",
        "        x, _ = self.rnn(x)\n",
        "        \n",
        "        x = self.fc(x)\n",
        "        return x.transpose(1,2)"
      ],
      "execution_count": 0,
      "outputs": []
    },
    {
      "cell_type": "code",
      "metadata": {
        "id": "O-ohHmpRG3AK",
        "colab_type": "code",
        "colab": {}
      },
      "source": [
        "def _train_epoch(model, iterator, optimizer, criterion, curr_epoch):\n",
        "\n",
        "    model.train()\n",
        "    train_losses = []\n",
        "    running_loss = 0\n",
        "\n",
        "    n_batches = len(iterator)\n",
        "    iterator = tqdm_notebook(iterator, total=n_batches, desc=f'epoch {curr_epoch + 1}', leave=True)\n",
        "\n",
        "    for i, batch in enumerate(iterator):\n",
        "        optimizer.zero_grad()\n",
        "        pred = model(batch)\n",
        "        loss = criterion(pred, batch.target.T)\n",
        "        loss.backward()\n",
        "        optimizer.step()\n",
        "        train_losses.append(loss.item())\n",
        "\n",
        "        curr_loss = loss.data.cpu().detach().item()\n",
        "        \n",
        "        loss_smoothing = i / (i+1)\n",
        "        running_loss = loss_smoothing * running_loss + (1 - loss_smoothing) * curr_loss\n",
        "\n",
        "        iterator.set_postfix(loss=f'{running_loss:.5f}')\n",
        "\n",
        "    return running_loss, train_losses"
      ],
      "execution_count": 0,
      "outputs": []
    },
    {
      "cell_type": "code",
      "metadata": {
        "id": "ssofKly9HHk6",
        "colab_type": "code",
        "colab": {}
      },
      "source": [
        "def _test_epoch(model, iterator, criterion):\n",
        "    model.eval()\n",
        "    valid_losses = []\n",
        "    epoch_loss = 0\n",
        "\n",
        "    n_batches = len(iterator)\n",
        "    with tt.no_grad():\n",
        "        for batch in iterator:\n",
        "            pred = model(batch)\n",
        "            loss = criterion(pred, batch.target.T)\n",
        "            valid_losses.append(loss.item())\n",
        "            epoch_loss += loss.data.item()\n",
        "\n",
        "    return epoch_loss / n_batches , valid_losses"
      ],
      "execution_count": 0,
      "outputs": []
    },
    {
      "cell_type": "code",
      "metadata": {
        "id": "dL2eyYTCHDSX",
        "colab_type": "code",
        "colab": {}
      },
      "source": [
        "def nn_train(model, train_iterator, valid_iterator, criterion, optimizer, n_epochs=100,\n",
        "          scheduler=None, early_stopping=0):\n",
        "    model = model.to(device)\n",
        "    criterion = criterion.to(device)\n",
        "    prev_loss = 100500\n",
        "    es_epochs = 0\n",
        "    best_epoch = None\n",
        "    history = pd.DataFrame()\n",
        "    all_train_losses = []\n",
        "    all_valid_losses = []\n",
        "\n",
        "    for epoch in range(n_epochs):\n",
        "        train_loss, epoch_train_losses = _train_epoch(model, train_iterator, optimizer, criterion, epoch)\n",
        "        valid_loss, epoch_valid_losses = _test_epoch(model, valid_iterator, criterion)\n",
        "        all_train_losses += epoch_train_losses\n",
        "        all_valid_losses += epoch_valid_losses\n",
        "\n",
        "        print(f'validation loss {valid_loss:.5f}')\n",
        "\n",
        "        record = {'epoch': epoch + 1, 'train_loss': train_loss, 'valid_loss': valid_loss}\n",
        "        history = history.append(record, ignore_index=True)\n",
        "\n",
        "        if early_stopping > 0:\n",
        "            if valid_loss > prev_loss:\n",
        "                es_epochs += 1\n",
        "            else:\n",
        "                es_epochs = 0\n",
        "\n",
        "            if es_epochs >= early_stopping:\n",
        "                best_epoch = history[history.valid_loss == history.valid_loss.min()].iloc[0]\n",
        "                print(f\"Early stopping! best epoch: {best_epoch['epoch'] + 1} val {best_epoch['valid_loss']:.5f}\")\n",
        "                break\n",
        "\n",
        "            prev_loss = min(prev_loss, valid_loss)\n",
        "    return history, all_train_losses, all_valid_losses"
      ],
      "execution_count": 0,
      "outputs": []
    },
    {
      "cell_type": "code",
      "metadata": {
        "id": "4DM5Cu3aM2NP",
        "colab_type": "code",
        "colab": {}
      },
      "source": [
        "model = MyModel(vocab_size=len(TEXT.vocab.itos),\n",
        "                embed_size=100,\n",
        "                hidden_size=128,\n",
        "               )\n",
        "\n",
        "optimizer = optim.Adam(model.parameters())\n",
        "scheduler = optim.lr_scheduler.CosineAnnealingLR(optimizer, T_max=5)\n",
        "\n",
        "# padding does count into loss (rnn padding thing removed, as there's virtually no padding)\n",
        "criterion = nn.CrossEntropyLoss(ignore_index=1)\n",
        "\n"
      ],
      "execution_count": 0,
      "outputs": []
    },
    {
      "cell_type": "code",
      "metadata": {
        "id": "r_j3ZyUVNE4R",
        "colab_type": "code",
        "outputId": "4cfbba4c-f9ea-4928-81a5-5fd7403dff81",
        "colab": {
          "base_uri": "https://localhost:8080/",
          "height": 1000,
          "referenced_widgets": [
            "e66f71765d3b45bb8258e901e03e6c68",
            "bb907a0cf20846b0ba61ce464ee0a227",
            "55ad3000ff474160bbfa60773dbbe4c5",
            "c23abc204fb94491b09ffa8dc85be81e",
            "cda0070986b74289bba90cb011d9143c",
            "0daf12da13134ba59a0a9eb10740a6f4",
            "1f2526436baa4ae39d00fd726cb440b5",
            "6afdbce44f66401290d50acd741739f3",
            "dfb30782225e41cd888c6a556f5af449",
            "728de218e3434185b955fe69207592b7",
            "9798ac6af6254f98a3265c67402acd17",
            "4e2fd335cadd4d74a302e3013a381a7b",
            "f60e5b49074b40a291019647399b4f5f",
            "f5f7afd9a5874480ac55fe6d02c99335",
            "54d54380b6ef4ebeb3a074df13d98c14",
            "32591926d27e48d3988adf52b1bdfb76",
            "284d8ead162d470896cbc40a6e79bb51",
            "d72c6fce312a41f9a591fa2c9b9330a4",
            "b132d3597e1a41dbb08a2064b644e3ef",
            "9efe8784d4964d8caa5a7930302059c8",
            "d00cc5c8618446eab7abcb7a71143e4c",
            "306279b8900441ecada93137dd989da8",
            "72e462a4cb2947a4bfab7d1361faf1f7",
            "08519e65fe5d4be29dfebc07c5b2b568",
            "1107643d062449328e83668e51d8024f",
            "8466489030f34ab2bb21a6e7676b75e2",
            "1987bde393564b80a439f219b01d11ee",
            "11ef0cbb8b0144aab3eb0acd0ea8ab22",
            "4c36ad56c1a14024aaf905b66c308805",
            "4f9d4359bf7341ba8bd0053e92a39d42",
            "5a31513b1dfc4dbb8eeddaccd72d16f4",
            "bf170ebe3e70456b8cdd17fd5baee6cc",
            "b774c20111cd4b9092b512924cbbb4d3",
            "6edc21fd30d941cdb15bac4a725f4d34",
            "d4cb67dacf0440ea8a263ad404cf4d9a",
            "1ad3cb8d62df4ab7a781c3c3bce08184",
            "e2f0cdf6c4bb43f5bdd5896d939029eb",
            "e0fc731b7ad04991adcf47d0f3b2afa2",
            "c42f6866bef54f42ab4234481d47bc13",
            "b4d2c89198b74e9882fc2233d2399103",
            "05e0a2aadf0749a6bdb9eac52b778ecf",
            "e9f768638b3e482d87e1dd166f69fcde",
            "7a3e776eb29945889d4abc61f591a343",
            "8b78ab42169a47e895068f0f98958709",
            "a12e5c4824bf4da2baa0d583442a447f",
            "1ab08a625ffe409b98f59df43a5db83c",
            "b9abf4f8d7de455c991d3a813583db5c",
            "b45e3517d8e34df9a496da3e06afc8b6",
            "0932efe42e4146709086c1b08993e956",
            "5145030f8730408f84b713ebf041994a",
            "4ef1980c6f584e37acef7044589807e8",
            "10e71be1c324442fb494fd225113f7bc",
            "320ae874c08544e3b0b5868ce5987a90",
            "1c30972077ba42eb898183fc7a344d0e",
            "4d5780de5d0941b3a4c6b461c49d7bd6",
            "821541e14ade4839b56015806c3e337a",
            "804ddaa6f6f742b59b2ffe135a8a0895",
            "20469894d0bb40828f45e4e43107988d",
            "1b6c5da763dc4e4089e1261e5eb657d4",
            "cf268ddb7fab489fbe71c8ce13649c91",
            "8757b73ec0e94dcb9001a30ab16a3977",
            "280f722810df48a49f3b3d95426e89ca",
            "4e3aa58fb574405cad15ded5e3c049f3",
            "7c616b35a2e246b0905581a455544301",
            "8fd43e246375427a9bf638e00a7e7103",
            "f9eb70f348d5498daef6390bbe80a2cc",
            "fa597b1fcf514e468f98f97745d953ec",
            "fec51875649f496caf1fe90752a73ecc",
            "4cf047d7bbe54b1aaf4c31ad0d677567",
            "c4510ec80a994130976c691cc8392cef",
            "ead590b3b33040de89f4f039a6fc2c35",
            "8ae5a1853a0f4ac091b34d1d76d325ae",
            "01ae9ccdd8414d70a2303457fceca1f2",
            "f19d976a611348b29aeba55a7065cae5",
            "d81651623b5e4ee88381fd8c7b285d2e",
            "e52ebb2239c64fed8ef6283f15236354",
            "66a7b31218cc4597aeaeec7b4a2c35e0",
            "c885ec1a3e7b4d03a9e5f9825888dd36",
            "62e80171b0b54e4eb0b2c2dba89fe135",
            "f3e033131dc64036891ca57eb068581b",
            "9e3c2380d40c448c8e62d6c94f3750aa",
            "37027427814d434fb4d373908b06540e",
            "11754e80a9124a65b1d8383b46722d28",
            "18f19306ce2845d6b6fdec9a23794bc5",
            "dda9bf8191fa4f4399d4879b6f974e59",
            "a61c902c0847409b8b5780a621e27fae",
            "d6730fcb0c764f12b41b107690e1940e",
            "89eef3023f0644e7972ca6b68658d1eb",
            "dc86a57d48b1453f9d22f9088d1ed98a",
            "91ea2c972ab643c1957c97e272499197",
            "916711a77abc46d2b21b1c92be185f5b",
            "5363380e95f74cf6bd0c98f5ec6d349d",
            "c0f163256911415a86ddf9fe7645f01a",
            "ec9918c979ec4e01a9e6594eb978cb6e",
            "fa55bb5e575e465a8b0b679d88c160b3",
            "4e977c07b1bd43bb9211f4d0bc60dfd8",
            "9479d178e7344e1eae728f7e732db941",
            "d18af277b48f45a69f8e552fa386f4f9",
            "4e5afa0264a8462abf86efcec3124cac",
            "acd2519506364bd49cabd9ea9b19b2a2",
            "1b05dbfce53d4c02965bc7c5baeabe45",
            "ccd64f75c4bb427aa774f18c40e0c9b4",
            "d154764b47f746ddbac37c52bc32321e",
            "d6c77c74b06149d083a6c646d048c059",
            "81fea454df3e4deeb80d41b5e4fee443",
            "2e0a838b0ee649b5bac0b825c29a4b77",
            "bfe3a9a7fc544f888fda7df35588c763",
            "a663b34ff4014710a8f535720169565b",
            "071c2b8ed0fc4a2fa60f1fca5ce97cb9",
            "8161e992d6134f249e13fe56fdf8909d",
            "9dcbb8c879cd4e6ba0c867010ff544c6",
            "dd8713b8057c459a883c68d37aa68f4d",
            "2afc019139ac4eeaaf0751a59377be22",
            "34c75608b47a44d192d66706f9404e06",
            "d5db6f310a8b467b9d38a5a3a35df4ec",
            "8a3f2528126e4382b6281067f37f3991",
            "bcd620af53b84643a4c89303f9ba366a",
            "f2a02cfb2c064e3f8acf73ed320f9df4",
            "ac20881c90e1471cba9225fe3d99caf0",
            "c2b2008c8f46491fbf76e8d49769da5d"
          ]
        }
      },
      "source": [
        "history_df, train_losses, valid_losses = nn_train(model, trn_itr, vld_itr, criterion, optimizer, scheduler=scheduler, \n",
        "        n_epochs=15, early_stopping=2)"
      ],
      "execution_count": 39,
      "outputs": [
        {
          "output_type": "display_data",
          "data": {
            "application/vnd.jupyter.widget-view+json": {
              "model_id": "e66f71765d3b45bb8258e901e03e6c68",
              "version_minor": 0,
              "version_major": 2
            },
            "text/plain": [
              "HBox(children=(IntProgress(value=0, description='epoch 1', max=1005, style=ProgressStyle(description_width='in…"
            ]
          },
          "metadata": {
            "tags": []
          }
        },
        {
          "output_type": "stream",
          "text": [
            "\n",
            "validation loss 3.22701\n"
          ],
          "name": "stdout"
        },
        {
          "output_type": "display_data",
          "data": {
            "application/vnd.jupyter.widget-view+json": {
              "model_id": "dfb30782225e41cd888c6a556f5af449",
              "version_minor": 0,
              "version_major": 2
            },
            "text/plain": [
              "HBox(children=(IntProgress(value=0, description='epoch 2', max=1005, style=ProgressStyle(description_width='in…"
            ]
          },
          "metadata": {
            "tags": []
          }
        },
        {
          "output_type": "stream",
          "text": [
            "\n",
            "validation loss 2.00980\n"
          ],
          "name": "stdout"
        },
        {
          "output_type": "display_data",
          "data": {
            "application/vnd.jupyter.widget-view+json": {
              "model_id": "284d8ead162d470896cbc40a6e79bb51",
              "version_minor": 0,
              "version_major": 2
            },
            "text/plain": [
              "HBox(children=(IntProgress(value=0, description='epoch 3', max=1005, style=ProgressStyle(description_width='in…"
            ]
          },
          "metadata": {
            "tags": []
          }
        },
        {
          "output_type": "stream",
          "text": [
            "\n",
            "validation loss 1.21489\n"
          ],
          "name": "stdout"
        },
        {
          "output_type": "display_data",
          "data": {
            "application/vnd.jupyter.widget-view+json": {
              "model_id": "1107643d062449328e83668e51d8024f",
              "version_minor": 0,
              "version_major": 2
            },
            "text/plain": [
              "HBox(children=(IntProgress(value=0, description='epoch 4', max=1005, style=ProgressStyle(description_width='in…"
            ]
          },
          "metadata": {
            "tags": []
          }
        },
        {
          "output_type": "stream",
          "text": [
            "\n",
            "validation loss 0.75810\n"
          ],
          "name": "stdout"
        },
        {
          "output_type": "display_data",
          "data": {
            "application/vnd.jupyter.widget-view+json": {
              "model_id": "b774c20111cd4b9092b512924cbbb4d3",
              "version_minor": 0,
              "version_major": 2
            },
            "text/plain": [
              "HBox(children=(IntProgress(value=0, description='epoch 5', max=1005, style=ProgressStyle(description_width='in…"
            ]
          },
          "metadata": {
            "tags": []
          }
        },
        {
          "output_type": "stream",
          "text": [
            "\n",
            "validation loss 0.50312\n"
          ],
          "name": "stdout"
        },
        {
          "output_type": "display_data",
          "data": {
            "application/vnd.jupyter.widget-view+json": {
              "model_id": "05e0a2aadf0749a6bdb9eac52b778ecf",
              "version_minor": 0,
              "version_major": 2
            },
            "text/plain": [
              "HBox(children=(IntProgress(value=0, description='epoch 6', max=1005, style=ProgressStyle(description_width='in…"
            ]
          },
          "metadata": {
            "tags": []
          }
        },
        {
          "output_type": "stream",
          "text": [
            "\n",
            "validation loss 0.36064\n"
          ],
          "name": "stdout"
        },
        {
          "output_type": "display_data",
          "data": {
            "application/vnd.jupyter.widget-view+json": {
              "model_id": "0932efe42e4146709086c1b08993e956",
              "version_minor": 0,
              "version_major": 2
            },
            "text/plain": [
              "HBox(children=(IntProgress(value=0, description='epoch 7', max=1005, style=ProgressStyle(description_width='in…"
            ]
          },
          "metadata": {
            "tags": []
          }
        },
        {
          "output_type": "stream",
          "text": [
            "\n",
            "validation loss 0.28204\n"
          ],
          "name": "stdout"
        },
        {
          "output_type": "display_data",
          "data": {
            "application/vnd.jupyter.widget-view+json": {
              "model_id": "804ddaa6f6f742b59b2ffe135a8a0895",
              "version_minor": 0,
              "version_major": 2
            },
            "text/plain": [
              "HBox(children=(IntProgress(value=0, description='epoch 8', max=1005, style=ProgressStyle(description_width='in…"
            ]
          },
          "metadata": {
            "tags": []
          }
        },
        {
          "output_type": "stream",
          "text": [
            "\n",
            "validation loss 0.23707\n"
          ],
          "name": "stdout"
        },
        {
          "output_type": "display_data",
          "data": {
            "application/vnd.jupyter.widget-view+json": {
              "model_id": "8fd43e246375427a9bf638e00a7e7103",
              "version_minor": 0,
              "version_major": 2
            },
            "text/plain": [
              "HBox(children=(IntProgress(value=0, description='epoch 9', max=1005, style=ProgressStyle(description_width='in…"
            ]
          },
          "metadata": {
            "tags": []
          }
        },
        {
          "output_type": "stream",
          "text": [
            "\n",
            "validation loss 0.21166\n"
          ],
          "name": "stdout"
        },
        {
          "output_type": "display_data",
          "data": {
            "application/vnd.jupyter.widget-view+json": {
              "model_id": "01ae9ccdd8414d70a2303457fceca1f2",
              "version_minor": 0,
              "version_major": 2
            },
            "text/plain": [
              "HBox(children=(IntProgress(value=0, description='epoch 10', max=1005, style=ProgressStyle(description_width='i…"
            ]
          },
          "metadata": {
            "tags": []
          }
        },
        {
          "output_type": "stream",
          "text": [
            "\n",
            "validation loss 0.19767\n"
          ],
          "name": "stdout"
        },
        {
          "output_type": "display_data",
          "data": {
            "application/vnd.jupyter.widget-view+json": {
              "model_id": "9e3c2380d40c448c8e62d6c94f3750aa",
              "version_minor": 0,
              "version_major": 2
            },
            "text/plain": [
              "HBox(children=(IntProgress(value=0, description='epoch 11', max=1005, style=ProgressStyle(description_width='i…"
            ]
          },
          "metadata": {
            "tags": []
          }
        },
        {
          "output_type": "stream",
          "text": [
            "\n",
            "validation loss 0.18885\n"
          ],
          "name": "stdout"
        },
        {
          "output_type": "display_data",
          "data": {
            "application/vnd.jupyter.widget-view+json": {
              "model_id": "dc86a57d48b1453f9d22f9088d1ed98a",
              "version_minor": 0,
              "version_major": 2
            },
            "text/plain": [
              "HBox(children=(IntProgress(value=0, description='epoch 12', max=1005, style=ProgressStyle(description_width='i…"
            ]
          },
          "metadata": {
            "tags": []
          }
        },
        {
          "output_type": "stream",
          "text": [
            "\n",
            "validation loss 0.18375\n"
          ],
          "name": "stdout"
        },
        {
          "output_type": "display_data",
          "data": {
            "application/vnd.jupyter.widget-view+json": {
              "model_id": "9479d178e7344e1eae728f7e732db941",
              "version_minor": 0,
              "version_major": 2
            },
            "text/plain": [
              "HBox(children=(IntProgress(value=0, description='epoch 13', max=1005, style=ProgressStyle(description_width='i…"
            ]
          },
          "metadata": {
            "tags": []
          }
        },
        {
          "output_type": "stream",
          "text": [
            "\n",
            "validation loss 0.18277\n"
          ],
          "name": "stdout"
        },
        {
          "output_type": "display_data",
          "data": {
            "application/vnd.jupyter.widget-view+json": {
              "model_id": "81fea454df3e4deeb80d41b5e4fee443",
              "version_minor": 0,
              "version_major": 2
            },
            "text/plain": [
              "HBox(children=(IntProgress(value=0, description='epoch 14', max=1005, style=ProgressStyle(description_width='i…"
            ]
          },
          "metadata": {
            "tags": []
          }
        },
        {
          "output_type": "stream",
          "text": [
            "\n",
            "validation loss 0.18235\n"
          ],
          "name": "stdout"
        },
        {
          "output_type": "display_data",
          "data": {
            "application/vnd.jupyter.widget-view+json": {
              "model_id": "2afc019139ac4eeaaf0751a59377be22",
              "version_minor": 0,
              "version_major": 2
            },
            "text/plain": [
              "HBox(children=(IntProgress(value=0, description='epoch 15', max=1005, style=ProgressStyle(description_width='i…"
            ]
          },
          "metadata": {
            "tags": []
          }
        },
        {
          "output_type": "stream",
          "text": [
            "\n",
            "validation loss 0.18318\n"
          ],
          "name": "stdout"
        }
      ]
    },
    {
      "cell_type": "markdown",
      "metadata": {
        "id": "AS45h9O_sgoJ",
        "colab_type": "text"
      },
      "source": [
        "## Plot history"
      ]
    },
    {
      "cell_type": "code",
      "metadata": {
        "id": "Gr_6FmJpeP8I",
        "colab_type": "code",
        "outputId": "62c48038-0551-4bce-91e8-06d3cee99420",
        "colab": {
          "base_uri": "https://localhost:8080/",
          "height": 194
        }
      },
      "source": [
        "history_df.tail()"
      ],
      "execution_count": 40,
      "outputs": [
        {
          "output_type": "execute_result",
          "data": {
            "text/html": [
              "<div>\n",
              "<style scoped>\n",
              "    .dataframe tbody tr th:only-of-type {\n",
              "        vertical-align: middle;\n",
              "    }\n",
              "\n",
              "    .dataframe tbody tr th {\n",
              "        vertical-align: top;\n",
              "    }\n",
              "\n",
              "    .dataframe thead th {\n",
              "        text-align: right;\n",
              "    }\n",
              "</style>\n",
              "<table border=\"1\" class=\"dataframe\">\n",
              "  <thead>\n",
              "    <tr style=\"text-align: right;\">\n",
              "      <th></th>\n",
              "      <th>epoch</th>\n",
              "      <th>train_loss</th>\n",
              "      <th>valid_loss</th>\n",
              "    </tr>\n",
              "  </thead>\n",
              "  <tbody>\n",
              "    <tr>\n",
              "      <th>10</th>\n",
              "      <td>11.0</td>\n",
              "      <td>0.121525</td>\n",
              "      <td>0.188849</td>\n",
              "    </tr>\n",
              "    <tr>\n",
              "      <th>11</th>\n",
              "      <td>12.0</td>\n",
              "      <td>0.111659</td>\n",
              "      <td>0.183754</td>\n",
              "    </tr>\n",
              "    <tr>\n",
              "      <th>12</th>\n",
              "      <td>13.0</td>\n",
              "      <td>0.103304</td>\n",
              "      <td>0.182771</td>\n",
              "    </tr>\n",
              "    <tr>\n",
              "      <th>13</th>\n",
              "      <td>14.0</td>\n",
              "      <td>0.095781</td>\n",
              "      <td>0.182349</td>\n",
              "    </tr>\n",
              "    <tr>\n",
              "      <th>14</th>\n",
              "      <td>15.0</td>\n",
              "      <td>0.088883</td>\n",
              "      <td>0.183179</td>\n",
              "    </tr>\n",
              "  </tbody>\n",
              "</table>\n",
              "</div>"
            ],
            "text/plain": [
              "    epoch  train_loss  valid_loss\n",
              "10   11.0    0.121525    0.188849\n",
              "11   12.0    0.111659    0.183754\n",
              "12   13.0    0.103304    0.182771\n",
              "13   14.0    0.095781    0.182349\n",
              "14   15.0    0.088883    0.183179"
            ]
          },
          "metadata": {
            "tags": []
          },
          "execution_count": 40
        }
      ]
    },
    {
      "cell_type": "code",
      "metadata": {
        "id": "RzqFNeGzkF4p",
        "colab_type": "code",
        "outputId": "e21b2391-5927-40d1-f824-178b71b01d4f",
        "colab": {
          "base_uri": "https://localhost:8080/",
          "height": 52
        }
      },
      "source": [
        "print(len(train_losses))\n",
        "print(len(valid_losses))"
      ],
      "execution_count": 41,
      "outputs": [
        {
          "output_type": "stream",
          "text": [
            "15075\n",
            "1560\n"
          ],
          "name": "stdout"
        }
      ]
    },
    {
      "cell_type": "code",
      "metadata": {
        "id": "8CdF6iCpi4w6",
        "colab_type": "code",
        "outputId": "0049cf1c-b8a4-4ab5-8ce1-81e3516e6d1e",
        "colab": {
          "base_uri": "https://localhost:8080/",
          "height": 632
        }
      },
      "source": [
        "plt.figure(figsize=(14, 10))\n",
        "plt.plot(range(len(train_losses)), train_losses, np.array(range(len(valid_losses)))*10, valid_losses)\n",
        "plt.legend(('train loss', 'valid loss by batch'),\n",
        "           loc='center', prop={'size': 18})\n",
        "plt.title('Training process', fontsize=20)\n",
        "plt.xlabel('Iterations', fontsize=16)\n",
        "plt.ylabel('Loss function', fontsize=16)\n",
        "plt.show()"
      ],
      "execution_count": 42,
      "outputs": [
        {
          "output_type": "display_data",
          "data": {
            "image/png": "[encoded data removed]",
            "text/plain": [
              "<Figure size 1008x720 with 1 Axes>"
            ]
          },
          "metadata": {
            "tags": []
          }
        }
      ]
    },
    {
      "cell_type": "code",
      "metadata": {
        "id": "yChwtCaJrve5",
        "colab_type": "code",
        "outputId": "3452e364-939d-4620-fd76-9cc0f52d3a93",
        "colab": {
          "base_uri": "https://localhost:8080/",
          "height": 632
        }
      },
      "source": [
        "smooth = lambda y: gaussian_filter1d(y, sigma=50)\n",
        "\n",
        "plt.figure(figsize=(14, 10))\n",
        "plt.plot(range(len(train_losses)), smooth(train_losses), np.array(range(len(valid_losses)))*10, smooth(valid_losses))\n",
        "plt.legend(('train loss', 'valid loss by batch'),\n",
        "           loc='center', prop={'size': 18})\n",
        "plt.title('Smoothed training process', fontsize=20)\n",
        "plt.xlabel('Iterations', fontsize=16)\n",
        "plt.ylabel('Loss function (smoothed)', fontsize=16)\n",
        "plt.show()"
      ],
      "execution_count": 43,
      "outputs": [
        {
          "output_type": "display_data",
          "data": {
            "image/png": "[encoded data removed]",
            "text/plain": [
              "<Figure size 1008x720 with 1 Axes>"
            ]
          },
          "metadata": {
            "tags": []
          }
        }
      ]
    },
    {
      "cell_type": "markdown",
      "metadata": {
        "id": "kZc4GsZFtk2d",
        "colab_type": "text"
      },
      "source": [
        "## Prediction"
      ]
    },
    {
      "cell_type": "code",
      "metadata": {
        "id": "aIZnCru1nlNw",
        "colab_type": "code",
        "colab": {}
      },
      "source": [
        "model = model.cpu()"
      ],
      "execution_count": 0,
      "outputs": []
    },
    {
      "cell_type": "code",
      "metadata": {
        "id": "v0XuZKdGhzxA",
        "colab_type": "code",
        "colab": {}
      },
      "source": [
        "max_len = 40"
      ],
      "execution_count": 0,
      "outputs": []
    },
    {
      "cell_type": "markdown",
      "metadata": {
        "id": "Mq6VkX6__BJ-",
        "colab_type": "text"
      },
      "source": [
        "### prepare text"
      ]
    },
    {
      "cell_type": "code",
      "metadata": {
        "id": "82ArRnatzilr",
        "colab_type": "code",
        "colab": {}
      },
      "source": [
        "id_to_token = lambda tok_id: TEXT.vocab.itos[tok_id]"
      ],
      "execution_count": 0,
      "outputs": []
    },
    {
      "cell_type": "code",
      "metadata": {
        "id": "wsy8sM8tz31m",
        "colab_type": "code",
        "colab": {}
      },
      "source": [
        "token_to_id = lambda tok: TEXT.vocab.stoi[tok]"
      ],
      "execution_count": 0,
      "outputs": []
    },
    {
      "cell_type": "code",
      "metadata": {
        "id": "PnkuEpMm0PTt",
        "colab_type": "code",
        "colab": {}
      },
      "source": [
        "def join_tok(tok_list, eos_token='<eos>'): \n",
        "  if tok_list[-1] == eos_token:\n",
        "    return ''.join(tok_list[:-1]).replace('▁', ' ').strip() + ' ' + eos_token\n",
        "  else:\n",
        "    return ''.join(tok_list).replace('▁', ' ').strip()"
      ],
      "execution_count": 0,
      "outputs": []
    },
    {
      "cell_type": "code",
      "metadata": {
        "id": "-eO75mlsvWMF",
        "colab_type": "code",
        "outputId": "b2258a55-779c-47e1-9fad-3b64ea2ced67",
        "colab": {
          "base_uri": "https://localhost:8080/",
          "height": 35
        }
      },
      "source": [
        "join_tok(['<start>', '▁abc', 'def', '▁ghi'])"
      ],
      "execution_count": 49,
      "outputs": [
        {
          "output_type": "execute_result",
          "data": {
            "text/plain": [
              "'<start> abcdef ghi'"
            ]
          },
          "metadata": {
            "tags": []
          },
          "execution_count": 49
        }
      ]
    },
    {
      "cell_type": "code",
      "metadata": {
        "id": "Ox8tdRazfQ9j",
        "colab_type": "code",
        "outputId": "0694301a-e231-4bc4-86f7-93a233ea2382",
        "colab": {
          "base_uri": "https://localhost:8080/",
          "height": 35
        }
      },
      "source": [
        "join_tok(['<start>', '▁abc', 'def', '▁ghi', '<eos>'])"
      ],
      "execution_count": 50,
      "outputs": [
        {
          "output_type": "execute_result",
          "data": {
            "text/plain": [
              "'<start> abcdef ghi <eos>'"
            ]
          },
          "metadata": {
            "tags": []
          },
          "execution_count": 50
        }
      ]
    },
    {
      "cell_type": "code",
      "metadata": {
        "id": "-DrBWmfaz_Oy",
        "colab_type": "code",
        "outputId": "7a5fee06-89d5-41cb-fadf-771814fb5cd3",
        "colab": {
          "base_uri": "https://localhost:8080/",
          "height": 35
        }
      },
      "source": [
        "eos = token_to_id('<eos>')\n",
        "eos"
      ],
      "execution_count": 51,
      "outputs": [
        {
          "output_type": "execute_result",
          "data": {
            "text/plain": [
              "4"
            ]
          },
          "metadata": {
            "tags": []
          },
          "execution_count": 51
        }
      ]
    },
    {
      "cell_type": "code",
      "metadata": {
        "id": "Pm-P5ezThU7m",
        "colab_type": "code",
        "outputId": "e5fdcd44-6d0a-41d4-dabf-a997684d3c24",
        "colab": {
          "base_uri": "https://localhost:8080/",
          "height": 35
        }
      },
      "source": [
        "start = token_to_id('<start>')\n",
        "start"
      ],
      "execution_count": 52,
      "outputs": [
        {
          "output_type": "execute_result",
          "data": {
            "text/plain": [
              "6"
            ]
          },
          "metadata": {
            "tags": []
          },
          "execution_count": 52
        }
      ]
    },
    {
      "cell_type": "markdown",
      "metadata": {
        "id": "j0V6lhbKDXMm",
        "colab_type": "text"
      },
      "source": [
        "### prediction func"
      ]
    },
    {
      "cell_type": "code",
      "metadata": {
        "id": "hzTrsPQU6n3b",
        "colab_type": "code",
        "colab": {}
      },
      "source": [
        "def predict_from_start(model, prob_func, max_len=40, eos='<eos>'):\n",
        "  \"\"\"\n",
        "  autoregressive language modeling prediction\n",
        "\n",
        "  :param model: trained torch model, predicts logits torch tensor (of shape (batch, vocab, seq)) form batch tensor (of shape (batch, seq))\n",
        "  :param prob_func: function, takes torch tensor of logits and return an int (token number)\n",
        "  :param max_len: int, maximal number of words produced, optional, default 40\n",
        "  :param eos: str, end of sentence token, optional, default '<eos>'\n",
        "  :return: str, sequence\n",
        "  \"\"\"\n",
        "  id_eos = token_to_id(eos)\n",
        "  with tt.no_grad():\n",
        "      tok = start\n",
        "      seq = [tok]\n",
        "      i = 0\n",
        "      while i < max_len and tok != id_eos:\n",
        "        i += 1\n",
        "        pred = model(tt.tensor([seq]))[:,:,-1]\n",
        "        tok = prob_func(pred)\n",
        "        seq.append(tok)\n",
        "  return join_tok(to_text(seq))"
      ],
      "execution_count": 0,
      "outputs": []
    },
    {
      "cell_type": "markdown",
      "metadata": {
        "id": "ODxqQZsItnnr",
        "colab_type": "text"
      },
      "source": [
        "### Argmax"
      ]
    },
    {
      "cell_type": "code",
      "metadata": {
        "id": "FEU-mgoNhr4E",
        "colab_type": "code",
        "colab": {}
      },
      "source": [
        "argmax = lambda prob: tt.argmax(prob).item()"
      ],
      "execution_count": 0,
      "outputs": []
    },
    {
      "cell_type": "code",
      "metadata": {
        "id": "Ey2J7X4ltTh9",
        "colab_type": "code",
        "outputId": "1d7d6cad-ebad-4c15-c0c3-1ef4ceceeb6b",
        "colab": {
          "base_uri": "https://localhost:8080/",
          "height": 35
        }
      },
      "source": [
        "argmax(tt.tensor([[[1],[5],[3]]]))"
      ],
      "execution_count": 55,
      "outputs": [
        {
          "output_type": "execute_result",
          "data": {
            "text/plain": [
              "1"
            ]
          },
          "metadata": {
            "tags": []
          },
          "execution_count": 55
        }
      ]
    },
    {
      "cell_type": "code",
      "metadata": {
        "id": "zpRSFWs0YM7J",
        "colab_type": "code",
        "outputId": "7ecb94c8-620c-48aa-ac80-8f4003fab926",
        "colab": {
          "base_uri": "https://localhost:8080/",
          "height": 35
        }
      },
      "source": [
        "argmax(tt.tensor([[[1, 2, 3]]]))"
      ],
      "execution_count": 56,
      "outputs": [
        {
          "output_type": "execute_result",
          "data": {
            "text/plain": [
              "2"
            ]
          },
          "metadata": {
            "tags": []
          },
          "execution_count": 56
        }
      ]
    },
    {
      "cell_type": "markdown",
      "metadata": {
        "id": "lHKrxPP-dGc_",
        "colab_type": "text"
      },
      "source": [
        "**we cannot control the length of the argmax all that much, and thus I assume that 10 words limit does not apply here**"
      ]
    },
    {
      "cell_type": "code",
      "metadata": {
        "id": "QnU__kKA7DtU",
        "colab_type": "code",
        "outputId": "fb3f79b4-f83f-4d2b-f9f3-dd423ad3bc18",
        "colab": {
          "base_uri": "https://localhost:8080/",
          "height": 35
        }
      },
      "source": [
        "predict_from_start(model, argmax)"
      ],
      "execution_count": 57,
      "outputs": [
        {
          "output_type": "execute_result",
          "data": {
            "text/plain": [
              "'<start> the song was a member of the core , the song was a member of the core , the song was a member of the core , the song was a member of the core , the song was a'"
            ]
          },
          "metadata": {
            "tags": []
          },
          "execution_count": 57
        }
      ]
    },
    {
      "cell_type": "markdown",
      "metadata": {
        "id": "PHQQOPiIt3tb",
        "colab_type": "text"
      },
      "source": [
        "### Sampling from probabilty distribution with temperature"
      ]
    },
    {
      "cell_type": "code",
      "metadata": {
        "id": "jcUIGItRKlQa",
        "colab_type": "code",
        "colab": {}
      },
      "source": [
        "def soft_with_temp(logits_tsr, tau=1):\n",
        "  \"\"\"\n",
        "  computes softmax with temperature tau\n",
        "  \n",
        "  :param logits_tsr: torch tensor of logits\n",
        "  :param tau: float, temperature, optional, default 1\n",
        "  :return: np.array, softmax with temperature\n",
        "  \"\"\"\n",
        "  logits_tsr = logits_tsr.detach()\n",
        "  out = tt.exp(logits_tsr/tau)/tt.sum(tt.exp(logits_tsr/tau))  # F.softmax(logits/tau, dim=0)\n",
        "  out = out.squeeze()\n",
        "  if np.sum(out.numpy()) != 1:\n",
        "    return out.numpy()/np.sum(out.numpy())\n",
        "  else:\n",
        "    return out.numpy()"
      ],
      "execution_count": 0,
      "outputs": []
    },
    {
      "cell_type": "code",
      "metadata": {
        "id": "wgenTvQ1LgOz",
        "colab_type": "code",
        "outputId": "73dcdcf7-8546-4840-d526-3893dba8f408",
        "colab": {
          "base_uri": "https://localhost:8080/",
          "height": 52
        }
      },
      "source": [
        "logits = model(tt.tensor([[123]])).detach().squeeze()\n",
        "soft_probs = soft_with_temp(logits)\n",
        "soft_probs"
      ],
      "execution_count": 59,
      "outputs": [
        {
          "output_type": "execute_result",
          "data": {
            "text/plain": [
              "array([1.4624922e-01, 5.1536897e-08, 1.8338190e-01, ..., 3.6192913e-10,\n",
              "       2.6210006e-11, 2.3571223e-10], dtype=float32)"
            ]
          },
          "metadata": {
            "tags": []
          },
          "execution_count": 59
        }
      ]
    },
    {
      "cell_type": "code",
      "metadata": {
        "id": "JwUjCTwsckx1",
        "colab_type": "code",
        "outputId": "0656f783-3b0b-4bed-e731-d8e120b20db6",
        "colab": {
          "base_uri": "https://localhost:8080/",
          "height": 52
        }
      },
      "source": [
        "F.softmax(logits, dim=0).numpy()"
      ],
      "execution_count": 60,
      "outputs": [
        {
          "output_type": "execute_result",
          "data": {
            "text/plain": [
              "array([1.4624968e-01, 5.1537057e-08, 1.8338250e-01, ..., 3.6193029e-10,\n",
              "       2.6210091e-11, 2.3571295e-10], dtype=float32)"
            ]
          },
          "metadata": {
            "tags": []
          },
          "execution_count": 60
        }
      ]
    },
    {
      "cell_type": "code",
      "metadata": {
        "id": "UTgge0-1bu7L",
        "colab_type": "code",
        "outputId": "684d8fe0-8db7-4983-e9a7-3c0ec39a4de8",
        "colab": {
          "base_uri": "https://localhost:8080/",
          "height": 35
        }
      },
      "source": [
        "np.sum(F.softmax(logits, dim=0).numpy())"
      ],
      "execution_count": 61,
      "outputs": [
        {
          "output_type": "execute_result",
          "data": {
            "text/plain": [
              "1.0000031"
            ]
          },
          "metadata": {
            "tags": []
          },
          "execution_count": 61
        }
      ]
    },
    {
      "cell_type": "code",
      "metadata": {
        "id": "pnwKsosgT7tA",
        "colab_type": "code",
        "outputId": "a7a27e37-9fba-40a0-a06a-b7fead080de5",
        "colab": {
          "base_uri": "https://localhost:8080/",
          "height": 35
        }
      },
      "source": [
        "np.sum(soft_probs)"
      ],
      "execution_count": 62,
      "outputs": [
        {
          "output_type": "execute_result",
          "data": {
            "text/plain": [
              "1.0000001"
            ]
          },
          "metadata": {
            "tags": []
          },
          "execution_count": 62
        }
      ]
    },
    {
      "cell_type": "code",
      "metadata": {
        "id": "sq-r8nyTWJfv",
        "colab_type": "code",
        "colab": {}
      },
      "source": [
        "def sample_with_temp(logits_tsr, tau=1):\n",
        "  \"\"\"\n",
        "  samples from a distribution with temperature\n",
        "\n",
        "  :param logits_tsr: torch tensor of logits\n",
        "  :param tau: float, temperature, optional, default 1\n",
        "  :return: int, id of the element selected\n",
        "  \"\"\"\n",
        "  soft_probs = soft_with_temp(logits_tsr, tau=tau)\n",
        "  return np.random.choice(len(soft_probs), 1, p=soft_probs)[0]"
      ],
      "execution_count": 0,
      "outputs": []
    },
    {
      "cell_type": "code",
      "metadata": {
        "id": "Vv61GSPMWZQm",
        "colab_type": "code",
        "outputId": "ed8689bc-cc2b-4703-948e-53968e66097a",
        "colab": {
          "base_uri": "https://localhost:8080/",
          "height": 35
        }
      },
      "source": [
        "sample_with_temp(logits, 0.5)"
      ],
      "execution_count": 64,
      "outputs": [
        {
          "output_type": "execute_result",
          "data": {
            "text/plain": [
              "2"
            ]
          },
          "metadata": {
            "tags": []
          },
          "execution_count": 64
        }
      ]
    },
    {
      "cell_type": "markdown",
      "metadata": {
        "id": "kqvhFFzFc9JX",
        "colab_type": "text"
      },
      "source": [
        "####**predict**"
      ]
    },
    {
      "cell_type": "code",
      "metadata": {
        "id": "mDTxVw--YYip",
        "colab_type": "code",
        "outputId": "30834b56-9007-4484-edec-f7605068ab38",
        "colab": {
          "base_uri": "https://localhost:8080/",
          "height": 35
        }
      },
      "source": [
        "current = predict_from_start(model, sample_with_temp)\n",
        "while len(current.split()) < 12:\n",
        "  current = predict_from_start(model, sample_with_temp)\n",
        "\n",
        "print(current)\n"
      ],
      "execution_count": 65,
      "outputs": [
        {
          "output_type": "stream",
          "text": [
            "<start> the two scripts bentport of the economy for the atlantic <eos>\n"
          ],
          "name": "stdout"
        }
      ]
    },
    {
      "cell_type": "code",
      "metadata": {
        "id": "aDrccgaXfqMv",
        "colab_type": "code",
        "outputId": "afbd34e3-0663-4467-fbf4-f07c0a016e76",
        "colab": {
          "base_uri": "https://localhost:8080/",
          "height": 35
        }
      },
      "source": [
        "current = predict_from_start(model, lambda logit_tsr: sample_with_temp(logit_tsr, tau=0.2)) \n",
        "while len(current.split()) < 12:\n",
        "  current = predict_from_start(model, lambda logit_tsr: sample_with_temp(logit_tsr, tau=0.2)) \n",
        "\n",
        "print(current)"
      ],
      "execution_count": 66,
      "outputs": [
        {
          "output_type": "stream",
          "text": [
            "<start> the song was a member of the core was released in the <unk> <eos>\n"
          ],
          "name": "stdout"
        }
      ]
    },
    {
      "cell_type": "markdown",
      "metadata": {
        "id": "nOBtvOP0uAmc",
        "colab_type": "text"
      },
      "source": [
        "### Top-k sampling"
      ]
    },
    {
      "cell_type": "code",
      "metadata": {
        "id": "tLpJACI9uBrE",
        "colab_type": "code",
        "colab": {}
      },
      "source": [
        "logits = model(tt.tensor([[123]])).detach().squeeze()"
      ],
      "execution_count": 0,
      "outputs": []
    },
    {
      "cell_type": "code",
      "metadata": {
        "id": "nKNFP9c2hbAI",
        "colab_type": "code",
        "outputId": "c3b5c5dc-6cfa-4fc3-8ebf-3a2d35c39e3d",
        "colab": {
          "base_uri": "https://localhost:8080/",
          "height": 35
        }
      },
      "source": [
        "ex = tt.tensor([21.1, 2.12, 3.0, 20.9])\n",
        "tt.argsort(ex, descending=True)"
      ],
      "execution_count": 68,
      "outputs": [
        {
          "output_type": "execute_result",
          "data": {
            "text/plain": [
              "tensor([0, 3, 2, 1])"
            ]
          },
          "metadata": {
            "tags": []
          },
          "execution_count": 68
        }
      ]
    },
    {
      "cell_type": "code",
      "metadata": {
        "id": "85twYIUZjACB",
        "colab_type": "code",
        "outputId": "0746d38f-05ec-4847-a6e0-79f6c11798a7",
        "colab": {
          "base_uri": "https://localhost:8080/",
          "height": 35
        }
      },
      "source": [
        "fraction_id = int(np.floor(len(ex) * (0.5)))\n",
        "fraction_id"
      ],
      "execution_count": 69,
      "outputs": [
        {
          "output_type": "execute_result",
          "data": {
            "text/plain": [
              "2"
            ]
          },
          "metadata": {
            "tags": []
          },
          "execution_count": 69
        }
      ]
    },
    {
      "cell_type": "code",
      "metadata": {
        "id": "9VsfK-nNjXFB",
        "colab_type": "code",
        "outputId": "85411640-aacd-4b92-8f09-02bca1448a70",
        "colab": {
          "base_uri": "https://localhost:8080/",
          "height": 35
        }
      },
      "source": [
        "ex[tt.argsort(ex, descending=True)[:fraction_id]]"
      ],
      "execution_count": 70,
      "outputs": [
        {
          "output_type": "execute_result",
          "data": {
            "text/plain": [
              "tensor([21.1000, 20.9000])"
            ]
          },
          "metadata": {
            "tags": []
          },
          "execution_count": 70
        }
      ]
    },
    {
      "cell_type": "code",
      "metadata": {
        "id": "ZcyLdK9QincV",
        "colab_type": "code",
        "colab": {}
      },
      "source": [
        "def select_top_k(logits_tsr, k=0.2):\n",
        "  \"\"\"\n",
        "  select top-k logits and thir ids\n",
        "\n",
        "  :param logits_tsr: torch tensor of logits\n",
        "  :param k: float, k threshold, optional, default 0.2\n",
        "  :return top_k_tsr: torch tensor of top_k logits\n",
        "  :return top_k_ids: torch tensor of ints, ids of top_k logits in logits_tsr\n",
        "  \"\"\"\n",
        "  logits_tsr = logits_tsr.detach().squeeze()\n",
        "  argsorted_tsr = tt.argsort(logits_tsr, descending=True)\n",
        "  kth_id = int(np.floor(len(logits_tsr) * k))\n",
        "  if kth_id == 0:\n",
        "    kth_id = 1\n",
        "  top_k_ids = argsorted_tsr[:kth_id]\n",
        "  top_k_tsr = logits_tsr[top_k_ids]\n",
        "  return top_k_tsr, top_k_ids"
      ],
      "execution_count": 0,
      "outputs": []
    },
    {
      "cell_type": "code",
      "metadata": {
        "id": "TtqHEZGpki4D",
        "colab_type": "code",
        "outputId": "e421f831-c7a0-449f-ee18-1cef7df9fd4c",
        "colab": {
          "base_uri": "https://localhost:8080/",
          "height": 35
        }
      },
      "source": [
        "select_top_k(ex, 0.9)"
      ],
      "execution_count": 72,
      "outputs": [
        {
          "output_type": "execute_result",
          "data": {
            "text/plain": [
              "(tensor([21.1000, 20.9000,  3.0000]), tensor([0, 3, 2]))"
            ]
          },
          "metadata": {
            "tags": []
          },
          "execution_count": 72
        }
      ]
    },
    {
      "cell_type": "code",
      "metadata": {
        "id": "1feO9rdonhv4",
        "colab_type": "code",
        "outputId": "8e1003b3-ba0c-47db-ca34-7e584d0ade97",
        "colab": {
          "base_uri": "https://localhost:8080/",
          "height": 35
        }
      },
      "source": [
        "select_top_k(ex, 0.1)"
      ],
      "execution_count": 73,
      "outputs": [
        {
          "output_type": "execute_result",
          "data": {
            "text/plain": [
              "(tensor([21.1000]), tensor([0]))"
            ]
          },
          "metadata": {
            "tags": []
          },
          "execution_count": 73
        }
      ]
    },
    {
      "cell_type": "code",
      "metadata": {
        "id": "ol7rNrKVnNdD",
        "colab_type": "code",
        "colab": {}
      },
      "source": [
        "def sample_top_k(logits_tsr, k=0.2):\n",
        "  \"\"\"\n",
        "  top_k sampling\n",
        "\n",
        "  :param logits_tsr: torch tensor of logits\n",
        "  :param k: float, k threshold, optional, default 0.2\n",
        "  :return: int, id of the element selected\n",
        "  \"\"\"\n",
        "  top_k_logits, top_k_ids = select_top_k(logits_tsr, k=k)\n",
        "  soft_probs = soft_with_temp(top_k_logits)\n",
        "  if len(top_k_ids) == 1:\n",
        "    return top_k_ids.numpy()[0]\n",
        "  return np.random.choice(top_k_ids.numpy(), 1, p=soft_probs)[0]"
      ],
      "execution_count": 0,
      "outputs": []
    },
    {
      "cell_type": "code",
      "metadata": {
        "id": "k1jok8nDt4Dk",
        "colab_type": "code",
        "outputId": "8cd1c1b8-b7d6-411e-ead0-fe23b7dd9d0a",
        "colab": {
          "base_uri": "https://localhost:8080/",
          "height": 35
        }
      },
      "source": [
        "sample_top_k(ex)"
      ],
      "execution_count": 75,
      "outputs": [
        {
          "output_type": "execute_result",
          "data": {
            "text/plain": [
              "0"
            ]
          },
          "metadata": {
            "tags": []
          },
          "execution_count": 75
        }
      ]
    },
    {
      "cell_type": "code",
      "metadata": {
        "id": "YlQyNdr2uaLv",
        "colab_type": "code",
        "outputId": "810d657e-a310-4b51-9a7d-67346a0d62ab",
        "colab": {
          "base_uri": "https://localhost:8080/",
          "height": 35
        }
      },
      "source": [
        "sample_top_k(ex, 0.9)"
      ],
      "execution_count": 76,
      "outputs": [
        {
          "output_type": "execute_result",
          "data": {
            "text/plain": [
              "0"
            ]
          },
          "metadata": {
            "tags": []
          },
          "execution_count": 76
        }
      ]
    },
    {
      "cell_type": "markdown",
      "metadata": {
        "colab_type": "text",
        "id": "llxh85hTt_T1"
      },
      "source": [
        "####**predict**"
      ]
    },
    {
      "cell_type": "code",
      "metadata": {
        "colab_type": "code",
        "outputId": "bfa06138-432f-48d6-bfb8-766c06bd5227",
        "id": "MOEy82hlt_T-",
        "colab": {
          "base_uri": "https://localhost:8080/",
          "height": 35
        }
      },
      "source": [
        "current = predict_from_start(model, sample_top_k)\n",
        "while len(current.split()) < 12:\n",
        "  current = predict_from_start(model, sample_top_k)\n",
        "\n",
        "print(current)"
      ],
      "execution_count": 77,
      "outputs": [
        {
          "output_type": "stream",
          "text": [
            "<start> the view was not by the fever , steadily formed in the proctor croersey sites , but the draft of the first 19th century sites , gall<unk> and always attended the olympic and term in the year\n"
          ],
          "name": "stdout"
        }
      ]
    },
    {
      "cell_type": "code",
      "metadata": {
        "colab_type": "code",
        "outputId": "07f1661d-b940-43df-de93-0ccd64d1d0b4",
        "id": "MZ8QTBlft_UK",
        "colab": {
          "base_uri": "https://localhost:8080/",
          "height": 35
        }
      },
      "source": [
        "current = predict_from_start(model, lambda logit_tsr: sample_top_k(logit_tsr, k=0.8))\n",
        "while len(current.split()) < 12:\n",
        "  current = predict_from_start(model, lambda logit_tsr: sample_top_k(logit_tsr, k=0.8))\n",
        "\n",
        "print(current)"
      ],
      "execution_count": 78,
      "outputs": [
        {
          "output_type": "stream",
          "text": [
            "<start> a song has each of a fully jewish <unk> <unk> film by gil riker @-@ kor dd @-@ kun <eos>\n"
          ],
          "name": "stdout"
        }
      ]
    },
    {
      "cell_type": "markdown",
      "metadata": {
        "id": "2F2T48Jlt6IV",
        "colab_type": "text"
      },
      "source": [
        "### Nucleus sampling\n"
      ]
    },
    {
      "cell_type": "code",
      "metadata": {
        "id": "5q-TUK-hadUS",
        "colab_type": "code",
        "colab": {}
      },
      "source": [
        "def sample_nucleus(logits_tsr, p=0.5):\n",
        "  \"\"\"\n",
        "  nucleus sampling\n",
        "\n",
        "  :param logits_tsr: torch tensor of logits\n",
        "  :param p: float, p threshold, optional, default 0.2\n",
        "  :return: int, id of the element selected\n",
        "  \"\"\"\n",
        "  logits_tsr = logits_tsr.detach().squeeze()\n",
        "  soft_probs =  tt.tensor(soft_with_temp(logits_tsr, tau=1))\n",
        "  argsorted_tsr = tt.argsort(soft_probs, descending=True)\n",
        "  cum = 0\n",
        "  id_pth = 0\n",
        "  while cum < p:\n",
        "    cum += soft_probs[argsorted_tsr[id_pth]]\n",
        "    id_pth += 1\n",
        "  top_p_ids = argsorted_tsr[:id_pth]\n",
        "  if len(top_p_ids) == 1:\n",
        "    return top_p_ids.numpy()[0]\n",
        "  top_p_probs = soft_probs[argsorted_tsr[:id_pth]]\n",
        "  return np.random.choice(top_p_ids.numpy(), 1, p=soft_with_temp(top_p_probs))[0]"
      ],
      "execution_count": 0,
      "outputs": []
    },
    {
      "cell_type": "code",
      "metadata": {
        "id": "1a4SfrbbJ9_6",
        "colab_type": "code",
        "colab": {}
      },
      "source": [
        "ex = tt.tensor([-2.0, -2.1, -2.03, -2.9])"
      ],
      "execution_count": 0,
      "outputs": []
    },
    {
      "cell_type": "code",
      "metadata": {
        "id": "rFylVZ4-tx6S",
        "colab_type": "code",
        "colab": {
          "base_uri": "https://localhost:8080/",
          "height": 284
        },
        "outputId": "f097187f-ba24-4539-bd36-45db275f67e6"
      },
      "source": [
        "for i in range(15):\n",
        "  print(sample_nucleus(ex, p=0.8))"
      ],
      "execution_count": 81,
      "outputs": [
        {
          "output_type": "stream",
          "text": [
            "1\n",
            "1\n",
            "0\n",
            "2\n",
            "2\n",
            "0\n",
            "0\n",
            "2\n",
            "1\n",
            "0\n",
            "2\n",
            "1\n",
            "2\n",
            "1\n",
            "1\n"
          ],
          "name": "stdout"
        }
      ]
    },
    {
      "cell_type": "markdown",
      "metadata": {
        "id": "PxhqjE9nuEdm",
        "colab_type": "text"
      },
      "source": [
        "**predict**"
      ]
    },
    {
      "cell_type": "code",
      "metadata": {
        "id": "JtB4a2LMuD3g",
        "colab_type": "code",
        "colab": {
          "base_uri": "https://localhost:8080/",
          "height": 35
        },
        "outputId": "018dcc6d-7c3d-4780-9522-5f6cbf44029f"
      },
      "source": [
        "current = predict_from_start(model, sample_nucleus)\n",
        "while len(current.split()) < 12:\n",
        "  current = predict_from_start(model, sample_nucleus)\n",
        "\n",
        "print(current)"
      ],
      "execution_count": 82,
      "outputs": [
        {
          "output_type": "stream",
          "text": [
            "<start> the nearest novel was largely reduced to a canadian condition <eos>\n"
          ],
          "name": "stdout"
        }
      ]
    },
    {
      "cell_type": "code",
      "metadata": {
        "id": "jEQVYCuYuI6F",
        "colab_type": "code",
        "colab": {
          "base_uri": "https://localhost:8080/",
          "height": 35
        },
        "outputId": "5265c650-3a53-439a-bde2-8a207229401b"
      },
      "source": [
        "current = predict_from_start(model, lambda logit_tsr: sample_nucleus(logit_tsr, p=0.7))\n",
        "while len(current.split()) < 12:\n",
        "  current = predict_from_start(model, lambda logit_tsr: sample_nucleus(logit_tsr, p=0.7))\n",
        "\n",
        "print(current)"
      ],
      "execution_count": 83,
      "outputs": [
        {
          "output_type": "stream",
          "text": [
            "<start> a sports as two hurricanes , v of more lit for \" , based on multiple people of increasing deposits ; \" on may eight protesters as part of any difficult of alluvatley road , also claimed\n"
          ],
          "name": "stdout"
        }
      ]
    },
    {
      "cell_type": "markdown",
      "metadata": {
        "id": "xKGTBxWFt0GG",
        "colab_type": "text"
      },
      "source": [
        "### Beamsearch"
      ]
    },
    {
      "cell_type": "code",
      "metadata": {
        "id": "HLjDvLBmuC8T",
        "colab_type": "code",
        "colab": {}
      },
      "source": [
        "def beam_search_from_start(model, k=3, max_len=30, eos='<eos>'):\n",
        "  \"\"\"\n",
        "  autoregressive language modeling beam search decoder\n",
        "\n",
        "  :param model: trained torch model, predicts logits torch tensor (of shape (batch, vocab, seq)) form batch tensor (of shape (batch, seq))\n",
        "  :param k: int, beam width, optional, default 3\n",
        "  :param max_len: int, maximal number of words produced, optional, default 30\n",
        "  :param eos: str, end of sentence token, optional, default '<eos>'\n",
        "  :return: list of str (of len k), top predicted sequences\n",
        "  \"\"\"\n",
        "  id_eos = token_to_id(eos)\n",
        "  with tt.no_grad():\n",
        "    pred = model(tt.tensor([[start]]))[:,:,-1][0]\n",
        "    toks = tt.argsort(pred, descending=True)[:k].tolist()\n",
        "    tok_probs = pred[toks].tolist()\n",
        "    candidates = [([start, toks[i]], tok_probs[i]) for i in range(len(toks))]\n",
        "    while max_len > max([len(seq) for seq, prob in candidates]):\n",
        "      # expand each current candidate that doesn't have an EOS at the end\n",
        "      new_candidates = []\n",
        "      for seq, prob in candidates:\n",
        "        if seq[-1] != id_eos:\n",
        "          pred = model(tt.tensor([seq]))[:,:,-1][0]\n",
        "          toks = tt.argsort(pred, descending=True)[:k].tolist()\n",
        "          # probs = np.log(soft_with_temp(pred))\n",
        "          tok_probs = pred[toks].tolist()\n",
        "          new_candidates += [(seq[:]+[toks[i]], prob+tok_probs[i]) for i in range(len(toks))]\n",
        "        else:\n",
        "          new_candidates += [(seq, prob)]\n",
        "      candidates = sorted(new_candidates, key=lambda tup:tup[1])[:k] # order all candidates by score and select k best\n",
        "  return [join_tok(to_text(seq)) for seq, prob in candidates]"
      ],
      "execution_count": 0,
      "outputs": []
    },
    {
      "cell_type": "code",
      "metadata": {
        "id": "gU8gWfTWB-7l",
        "colab_type": "code",
        "colab": {
          "base_uri": "https://localhost:8080/",
          "height": 52
        },
        "outputId": "fa06c458-ea58-48f2-f218-703e754d66f1"
      },
      "source": [
        "for el in beam_search_from_start(model, k=2):\n",
        "  print(el)"
      ],
      "execution_count": 87,
      "outputs": [
        {
          "output_type": "stream",
          "text": [
            "<start> the first two years of a period , the song has a memberful \" the \" , and a result , \" the most important condition , the\n",
            "<start> the first two years of a period , the song has a memberful \" the \" , and a result , \" the most important condition , and\n"
          ],
          "name": "stdout"
        }
      ]
    },
    {
      "cell_type": "code",
      "metadata": {
        "id": "88DEcSVZAz7W",
        "colab_type": "code",
        "colab": {
          "base_uri": "https://localhost:8080/",
          "height": 70
        },
        "outputId": "aef9ffee-527b-4fad-a76b-76a974ed28fd"
      },
      "source": [
        "for el in beam_search_from_start(model, k=3):\n",
        "  print(el)"
      ],
      "execution_count": 88,
      "outputs": [
        {
          "output_type": "stream",
          "text": [
            "<start> \" my \" and \" the \" @-@ like ivode and a large skull and a memberful by a new york city\n",
            "<start> \" my \" and \" the \" @-@ like ivode and a large skull and a memberful by a new york city of varanasi ( 7\n",
            "<start> \" my \" and \" the \" @-@ like ivode and a large skull and a memberful by a new york city of varanasi iv\n"
          ],
          "name": "stdout"
        }
      ]
    },
    {
      "cell_type": "code",
      "metadata": {
        "id": "GQgAXKMQAmh4",
        "colab_type": "code",
        "colab": {
          "base_uri": "https://localhost:8080/",
          "height": 106
        },
        "outputId": "b1579eb3-1854-455b-ed4c-dc96b4a44cb9"
      },
      "source": [
        "for el in beam_search_from_start(model, k=5):\n",
        "  print(el)"
      ],
      "execution_count": 89,
      "outputs": [
        {
          "output_type": "stream",
          "text": [
            "<start>  of these numbers iam    one \" of two  of a friendly word for   of 12 years and sleaford island ( in\n",
            "<start>  of these numbers iam    one \" of two  of a friendly word for   of 12 years and sleaford island ( p\n",
            "<start>  of these numbers iam    one \" of two  of a friendly word for   of 12 years and sleaford island ( the\n",
            "<start>  of these numbers iam    one \" of two  of a friendly word for a friendly or two of other or à the\n",
            "<start>  of these numbers iam    one \" of two  of a friendly word for a friendly or two of other or à ,\n"
          ],
          "name": "stdout"
        }
      ]
    }
  ]
}